{
 "cells": [
  {
   "cell_type": "markdown",
   "metadata": {},
   "source": [
    "### Trabalho 1 - Robótica Movel - MO651\n",
    "#### __Professor(a):__ _Esther Luna Columbini_ <br>\n",
    "__Alunos:__ <br>\n",
    "_Tito Barbosa Rezende_              __RA:__ 025327<br>\n",
    "_João Paulo_                        __RA:__ 229322<br>\n",
    "_Elcio Pereira de Souza Junior_     __RA:__ 262952"
   ]
  },
  {
   "cell_type": "markdown",
   "metadata": {},
   "source": [
    "### Pré-requisitos\n",
    "\n",
    "Instalação das bibliotecas necessárias."
   ]
  },
  {
   "cell_type": "code",
   "execution_count": 2,
   "metadata": {
    "scrolled": true
   },
   "outputs": [
    {
     "name": "stdout",
     "output_type": "stream",
     "text": [
      "Collecting sklearn\n",
      "  Downloading https://files.pythonhosted.org/packages/1e/7a/dbb3be0ce9bd5c8b7e3d87328e79063f8b263b2b1bfa4774cb1147bfcd3f/sklearn-0.0.tar.gz\n",
      "Collecting scikit-learn\n",
      "  Downloading https://files.pythonhosted.org/packages/db/c8/5903e8f826f3b1b845942798f4948a817b6334f9601927c0eea09148cd70/scikit_learn-0.21.3-cp37-cp37m-win32.whl (5.2MB)\n",
      "Requirement already satisfied: scipy>=0.17.0 in c:\\users\\supra\\appdata\\local\\programs\\python\\python37-32\\lib\\site-packages (from scikit-learn->sklearn) (1.3.1)\n",
      "Collecting joblib>=0.11\n",
      "  Downloading https://files.pythonhosted.org/packages/8f/42/155696f85f344c066e17af287359c9786b436b1bf86029bb3411283274f3/joblib-0.14.0-py2.py3-none-any.whl (294kB)\n",
      "Requirement already satisfied: numpy>=1.11.0 in c:\\users\\supra\\appdata\\local\\programs\\python\\python37-32\\lib\\site-packages (from scikit-learn->sklearn) (1.17.1)\n",
      "Installing collected packages: joblib, scikit-learn, sklearn\n",
      "    Running setup.py install for sklearn: started\n",
      "    Running setup.py install for sklearn: finished with status 'done'\n",
      "Successfully installed joblib-0.14.0 scikit-learn-0.21.3 sklearn-0.0\n",
      "Note: you may need to restart the kernel to use updated packages.\n"
     ]
    }
   ],
   "source": [
    "%pip install matplotlib\n",
    "%pip install numpy\n",
    "%pip install opencv-python\n",
    "%pip install sklearn"
   ]
  },
  {
   "cell_type": "code",
   "execution_count": 45,
   "metadata": {},
   "outputs": [],
   "source": [
    "import sys, time\n",
    "sys.path.insert(0, '../src')\n",
    "from robot import Robot\n",
    "import utils\n",
    "import matplotlib.pyplot as plt\n",
    "import numpy as np\n",
    "import vrep\n",
    "import math\n",
    "import multiprocessing\n",
    "import random\n",
    "from datetime import datetime\n",
    "import lidar_to_grid_map as lg\n",
    "import cv2 as cv"
   ]
  },
  {
   "cell_type": "markdown",
   "metadata": {},
   "source": [
    "### Definindo objeto robô\n",
    "\n",
    "Nos próximos passos será instanciado o objeto robô, este será utilizado durante todo o projeto. Também serão realizados uma série de testes de conexão com a API.\n"
   ]
  },
  {
   "cell_type": "code",
   "execution_count": 4,
   "metadata": {
    "scrolled": true
   },
   "outputs": [
    {
     "name": "stdout",
     "output_type": "stream",
     "text": [
      "Connected to remoteApi server.\n",
      "\u001b[92m Pioneer_p3dx_ultrasonicSensor1 connected.\n",
      "\u001b[92m Pioneer_p3dx_ultrasonicSensor2 connected.\n",
      "\u001b[92m Pioneer_p3dx_ultrasonicSensor3 connected.\n",
      "\u001b[92m Pioneer_p3dx_ultrasonicSensor4 connected.\n",
      "\u001b[92m Pioneer_p3dx_ultrasonicSensor5 connected.\n",
      "\u001b[92m Pioneer_p3dx_ultrasonicSensor6 connected.\n",
      "\u001b[92m Pioneer_p3dx_ultrasonicSensor7 connected.\n",
      "\u001b[92m Pioneer_p3dx_ultrasonicSensor8 connected.\n",
      "\u001b[92m Pioneer_p3dx_ultrasonicSensor9 connected.\n",
      "\u001b[92m Pioneer_p3dx_ultrasonicSensor10 connected.\n",
      "\u001b[92m Pioneer_p3dx_ultrasonicSensor11 connected.\n",
      "\u001b[92m Pioneer_p3dx_ultrasonicSensor12 connected.\n",
      "\u001b[92m Pioneer_p3dx_ultrasonicSensor13 connected.\n",
      "\u001b[92m Pioneer_p3dx_ultrasonicSensor14 connected.\n",
      "\u001b[92m Pioneer_p3dx_ultrasonicSensor15 connected.\n",
      "\u001b[92m Pioneer_p3dx_ultrasonicSensor16 connected.\n",
      "\u001b[92m Vision sensor connected.\n",
      "\u001b[92m Laser connected.\n",
      "\u001b[92m Left motor connected.\n",
      "\u001b[92m Right motor connected.\n",
      "\u001b[92m Robot connected.\n"
     ]
    }
   ],
   "source": [
    "robot = Robot()"
   ]
  },
  {
   "cell_type": "markdown",
   "metadata": {},
   "source": [
    "## Modelo Cinemático"
   ]
  },
  {
   "cell_type": "markdown",
   "metadata": {},
   "source": [
    "### Sensor Laser\n",
    "\n",
    "Nesta etapa definimos a classe para leitura dos dados que serão obtidos pelo sensor laser, e realizamos uma verificação sobre a obtenção destes dados."
   ]
  },
  {
   "cell_type": "code",
   "execution_count": 21,
   "metadata": {},
   "outputs": [],
   "source": [
    "class Laser_sensor:\n",
    "    def __init__(self,robot):\n",
    "        self.robot = robot\n",
    "\n",
    "    def update_robot_frame_reading(self):\n",
    "        laser_flatten_readings = np.array(self.robot.read_laser())\n",
    "        laser_readings = laser_flatten_readings.reshape((len(laser_flatten_readings)//3, 3))\n",
    "        self.laser_x = laser_readings[:,0]\n",
    "        self.laser_y = laser_readings[:,1]\n",
    "\n",
    "    def plot_laser_robot_frame(self):\n",
    "#     fig, ax = plt.subplots()\n",
    "#     #posição dos feixes laser\n",
    "#     ax.scatter(laser_sensor.laser_x, laser_sensor.laser_y, 3, c='g', marker='o')\n",
    "#     #posição do centro do robo\n",
    "#     ax.scatter(0, 0, 40, c='b', marker='o')\n",
    "#     plt.show()\n",
    "        ox = self.laser_x\n",
    "        oy = self.laser_y\n",
    "        plt.figure(figsize=(6,10))\n",
    "        plt.plot([oy, np.zeros(np.size(oy))], [ox, np.zeros(np.size(oy))], \"ro-\") # lines from 0,0 to the \n",
    "        plt.axis(\"equal\")\n",
    "        bottom, top = plt.ylim()  # return the current ylim\n",
    "        plt.ylim((top, bottom)) # rescale y axis, to match the grid orientation\n",
    "        plt.grid(True)\n",
    "        plt.show()\n",
    "        \n",
    "    def plot_grid_fill(self):\n",
    "        xyreso = 0.02  # x-y grid resolution\n",
    "        #yawreso = math.radians(3.1)  # yaw angle resolution [rad]\n",
    "        \n",
    "        ox = self.laser_x\n",
    "        oy = self.laser_y\n",
    "        pmap, minx, maxx, miny, maxy, xyreso = lg.generate_ray_casting_grid_map(ox, oy, xyreso, False)\n",
    "        xyres = np.array(pmap).shape\n",
    "        plt.figure(figsize=(20,8))\n",
    "        plt.subplot(122)\n",
    "        plt.imshow(pmap, cmap = \"PiYG_r\") \n",
    "        plt.clim(-0.4, 1.4)\n",
    "        plt.gca().set_xticks(np.arange(-.5, xyres[1], 1), minor = True)\n",
    "        plt.gca().set_yticks(np.arange(-.5, xyres[0], 1), minor = True)\n",
    "        plt.grid(True, which=\"minor\", color=\"w\", linewidth = .6, alpha = 0.5)\n",
    "        plt.colorbar()\n",
    "        plt.show()\n",
    "         \n",
    "    \n",
    "laser_sensor = Laser_sensor(robot)\n",
    "laser_sensor.update_robot_frame_reading()"
   ]
  },
  {
   "cell_type": "markdown",
   "metadata": {},
   "source": [
    "Verificação dos dados brutos coletados"
   ]
  },
  {
   "cell_type": "code",
   "execution_count": 22,
   "metadata": {},
   "outputs": [
    {
     "data": {
      "image/png": "[encoded data removed]",
      "text/plain": [
       "<Figure size 432x720 with 1 Axes>"
      ]
     },
     "metadata": {
      "needs_background": "light"
     },
     "output_type": "display_data"
    }
   ],
   "source": [
    "laser_sensor.plot_laser_robot_frame()"
   ]
  },
  {
   "cell_type": "code",
   "execution_count": 23,
   "metadata": {},
   "outputs": [
    {
     "name": "stdout",
     "output_type": "stream",
     "text": [
      "The grid map is  500 x 600 .\n"
     ]
    },
    {
     "data": {
      "image/png": "[encoded data removed]",
      "text/plain": [
       "<Figure size 1440x576 with 2 Axes>"
      ]
     },
     "metadata": {
      "needs_background": "light"
     },
     "output_type": "display_data"
    }
   ],
   "source": [
    "laser_sensor.plot_grid_fill()"
   ]
  },
  {
   "cell_type": "markdown",
   "metadata": {},
   "source": [
    "Vamos mudar a posição do robo e ler novamente"
   ]
  },
  {
   "cell_type": "markdown",
   "metadata": {},
   "source": [
    "### Sensor Ultrassônico"
   ]
  },
  {
   "cell_type": "markdown",
   "metadata": {},
   "source": [
    "Para obter a leitura correta dos sensores de proximidade, precisamos transformar a leitura do sensor em um ponto _(x,y)_ em relação ao frame do robo.\n"
   ]
  },
  {
   "cell_type": "code",
   "execution_count": 24,
   "metadata": {},
   "outputs": [],
   "source": [
    "class Us_sensor:\n",
    "    def __init__(self,robot):\n",
    "        orientation_angles = np.array([90,50,30,10,-10,-30,-50,-90,-90,-130,-150,-170,170,150,130,90])\n",
    "        orientation_rad = np.radians(orientation_angles)\n",
    "        self.data = {\n",
    "        \"prefix\" : \"Pioneer_p3dx_ultrasonicSensor\",\n",
    "        \"ids\" : np.arange(1,17,1), \"handles\" : np.zeros(16, dtype=int), \n",
    "        \"positions\" :  np.zeros((16,3),dtype=float),\n",
    "        \"angles_deg\": orientation_angles,\n",
    "        \"angles_rad\": orientation_rad,\n",
    "        \"raw_reading\": np.zeros(16),\n",
    "        \"robot_frame_reading\": np.zeros((16,2),dtype=float)\n",
    "        }\n",
    "        self.robot = robot\n",
    "        \n",
    "        for i,sensor_i in enumerate(self.data['ids']):\n",
    "            ret,handle = vrep.simxGetObjectHandle(self.robot.clientID, self.data['prefix'] + str(sensor_i), vrep.simx_opmode_oneshot_wait)\n",
    "            self.data['handles'][i] = handle\n",
    "            ret, pos = vrep.simxGetObjectPosition(self.robot.clientID, handle, self.robot.robot_handle, vrep.simx_opmode_oneshot_wait)\n",
    "            #ret, ang = vrep.simxGetObjectOrientation(robot.clientID, handle, robot.robot_handle, vrep.simx_opmode_oneshot_wait)\n",
    "            self.data['positions'][i,:] = pos\n",
    "            #ultrassonic_sensors[sensor_i,4:7] = ang\n",
    "    \n",
    "    def update_raw_reading(self):\n",
    "        self.data[\"raw_reading\"] = np.array(self.robot.read_ultrassonic_sensors())\n",
    "    \n",
    "    def update_robot_frame_reading(self):\n",
    "        self.update_raw_reading()\n",
    "        for i, proximity in enumerate(us_sensors.data[\"raw_reading\"]):\n",
    "            if proximity == 5 or proximity < 0.1:\n",
    "                self.data[\"robot_frame_reading\"][i] = np.zeros(2)\n",
    "            else:\n",
    "                self.data[\"robot_frame_reading\"][i] = self.proximity_robot_frame(i+1,proximity).flatten()\n",
    "                \n",
    "        #toRobotFrame = lambda sensorId,proximity: self.proximity_robot_frame(sensorId,proximity)\n",
    "        #self.data[\"robot_frame_reading\"] = toRobotFrame(range(1,17,1),us_sensors.data[\"raw_reading\"])\n",
    "    \n",
    "    #Calcula o ponto no frame do robo, referente a leitura de cada sensor de proximidade\n",
    "    def proximity_robot_frame(self,sensorId, proximity):\n",
    "        index = sensorId -1\n",
    "        angulars = self.data[\"angles_rad\"][index]\n",
    "        #Matriz de rotação\n",
    "        rot_matrix = np.array([[math.cos(angulars),-math.sin(angulars)],[math.sin(angulars),math.cos(angulars)]])\n",
    "        #Rotacionando a leitura\n",
    "        distXY = np.dot(rot_matrix , np.array([[proximity],[0]]))\n",
    "        #Matriz de translação\n",
    "        posicao_sensor_x = self.data[\"positions\"][index][0]\n",
    "        posicao_sensor_y = self.data[\"positions\"][index][1]\n",
    "        transXY=np.array([[distXY[0][0]+posicao_sensor_x],[distXY[1][0]+posicao_sensor_y]])\n",
    "        return transXY\n",
    "    \n",
    "    def plot_us_robot_frame(self):\n",
    "        fig, ax = plt.subplots()\n",
    "        #posição dos sensores US\n",
    "        ax.scatter(self.data['positions'][:,0], self.data['positions'][:,1], 10, c='r', marker='o')\n",
    "        #posição do centro do robo\n",
    "        ax.scatter(0, 0, 40, c='b', marker='o')\n",
    "        #posição dos pontos lidos pelo sensor ultrassonico\n",
    "        ax.scatter(self.data['robot_frame_reading'][:,0], self.data['robot_frame_reading'][:,1], 10, c='black', marker='.')\n",
    "        plt.show()\n",
    "\n",
    "us_sensors = Us_sensor(robot)"
   ]
  },
  {
   "cell_type": "markdown",
   "metadata": {},
   "source": [
    "Definimos uma função _toGlobal_ (para termos um melhor reuso de código), basicamente a função transforma um ponto qualquer _(x,y)_ que esteja na referência do robô e o leva para a referência global."
   ]
  },
  {
   "cell_type": "code",
   "execution_count": 25,
   "metadata": {},
   "outputs": [],
   "source": [
    "def toGlobal(robot_x, robot_y,robot_ang, Point_xr, Point_yr):\n",
    "    T_trans = np.array([[1,0,robot_x],[0,1,robot_y],[0,0,1]])\n",
    "    T_rot = np.array([[math.cos(robot_ang),-math.sin(robot_ang),0],[math.sin(robot_ang),math.cos(robot_ang),0],[0,0,1]])\n",
    "    T = np.dot(T_trans,T_rot)\n",
    "    res = np.dot(T, np.array([Point_xr,Point_yr,1]))\n",
    "    return res[0],res[1]"
   ]
  },
  {
   "cell_type": "markdown",
   "metadata": {},
   "source": [
    "## Modelo Cinemático"
   ]
  },
  {
   "cell_type": "markdown",
   "metadata": {},
   "source": [
    "Dado o movimento do robo, como determinar sua posição e orientação no frame global?"
   ]
  },
  {
   "cell_type": "code",
   "execution_count": 26,
   "metadata": {},
   "outputs": [],
   "source": [
    "class Kinematic_model:\n",
    "    def __init__(self,robot):\n",
    "        self.robot = robot\n",
    "        \n",
    "        #Handles dos motores\n",
    "        ret1, self.motorLeft = vrep.simxGetObjectHandle(self.robot.clientID, \"Pioneer_p3dx_leftMotor\", vrep.simx_opmode_oneshot_wait)\n",
    "        ret2, self.motorRight = vrep.simxGetObjectHandle(self.robot.clientID, \"Pioneer_p3dx_rightMotor\", vrep.simx_opmode_oneshot_wait)\n",
    "        \n",
    "        #Calcula distancia de eixo\n",
    "        res, left_handle = vrep.simxGetObjectHandle(robot.clientID, \"Pioneer_p3dx_leftMotor\", vrep.simx_opmode_oneshot_wait)\n",
    "        ret, lpos = vrep.simxGetObjectPosition(robot.clientID, left_handle, robot.robot_handle, vrep.simx_opmode_oneshot_wait)\n",
    "        \n",
    "        res, right_handle = vrep.simxGetObjectHandle(robot.clientID, \"Pioneer_p3dx_rightMotor\", vrep.simx_opmode_oneshot_wait)\n",
    "        ret, rpos = vrep.simxGetObjectPosition(robot.clientID, right_handle, robot.robot_handle, vrep.simx_opmode_oneshot_wait)\n",
    "        \n",
    "        # eixo\n",
    "        self.l = (abs(lpos[1]) + abs(rpos[1]))/2\n",
    "        \n",
    "        #Ao ser criado, coleta a referencia de zero do robo\n",
    "        pos = self.robot.get_current_position()\n",
    "        self.initial_pos_x = pos[0]\n",
    "        self.initial_pos_y = pos[1]\n",
    "        orientation = self.robot.get_current_orientation()\n",
    "        self.initial_orientation = orientation[2]\n",
    "\n",
    "        #Alem de mantermos a pose inicial, manteremos a pose atualizada do robo\n",
    "        self.enc_global_x = self.initial_pos_x\n",
    "        self.enc_global_y = self.initial_pos_y\n",
    "        self.enc_Theta = self.initial_orientation\n",
    "        \n",
    "        self.time_global_x = self.initial_pos_x\n",
    "        self.time_global_y = self.initial_pos_y\n",
    "        self.time_Theta = self.initial_orientation\n",
    "        \n",
    "        #Lista de pontos para o caminho do robo\n",
    "        self.enc_path = []\n",
    "        self.time_path = []\n",
    "        self.true_path = []\n",
    "        self.update_paths()\n",
    "        \n",
    "        #inicializando a posição dos encoders\n",
    "        self.jL = self.current_encoder_left()\n",
    "        self.jR = self.current_encoder_right()\n",
    "        \n",
    "        #intervalo entre cada calculo\n",
    "        self.compute_interval = 0.1\n",
    "        self.previous_timestamp = 0\n",
    "        \n",
    "    def update_paths(self):\n",
    "        self.enc_path.append([self.enc_global_x, self.enc_global_y, self.enc_Theta])\n",
    "        self.time_path.append([self.time_global_x, self.time_global_y, self.time_Theta])\n",
    "        orientation = self.robot.get_current_orientation()\n",
    "        true_theta = orientation[2]\n",
    "        current_position = self.true_global_position()\n",
    "        self.true_path.append([current_position[0], current_position[1], true_theta])\n",
    "    \n",
    "    def true_global_position(self):\n",
    "        pos = self.robot.get_current_position()\n",
    "        return pos[0],pos[1]\n",
    "    \n",
    "    def enc_global_position(self):\n",
    "        return self.enc_global_x, self.enc_global_y, self.enc_Theta\n",
    "    \n",
    "    def time_global_position(self):\n",
    "        return self.time_global_x, self.time_global_y, self.time_Theta\n",
    "    \n",
    "    \n",
    "    ##Esta seção esta relacionada ao calculo da posição levando em consideração os encoders\n",
    "    def current_encoder_left(self):\n",
    "        ret,jL = vrep.simxGetJointPosition(self.robot.clientID,self.motorLeft,vrep.simx_opmode_oneshot_wait)\n",
    "        return jL\n",
    "    def current_encoder_right(self):\n",
    "        ret, jR = vrep.simxGetJointPosition(self.robot.clientID,self.motorRight,vrep.simx_opmode_oneshot_wait)\n",
    "        return jR\n",
    "        \n",
    "    #Phi speed of rotation of wheels\n",
    "    def Xr(self, Phi_right, Phi_left):\n",
    "        r = self.robot.WHEEL_RADIUS\n",
    "        Xr = (r*Phi_left/2) + (r*Phi_right/2)\n",
    "        return Xr\n",
    "    \n",
    "    def Theta_r(self, Phi_right, Phi_left):\n",
    "        r = self.robot.WHEEL_RADIUS\n",
    "        Tr = r*Phi_right/(2*self.l) - r*Phi_left/(2*self.l) \n",
    "        return Tr\n",
    "        \n",
    "    def speed_model(self,Phi_right,Phi_left):\n",
    "        #Se formos considerar que o eixo das rodas do robo está deslocado do eixo x\n",
    "        #return np.array([self.Xr(Phi_right,Phi_left),self.Theta_r(Phi_right,Phi_left)*self.l2,self.Theta_r(Phi_right,Phi_left)])\n",
    "        return np.array([self.Xr(Phi_right,Phi_left),0,self.Theta_r(Phi_right,Phi_left)])\n",
    "        \n",
    "    def inverse_rotation_matrix(self, ang):\n",
    "        Trot = np.array([[math.cos(ang), -math.sin(ang), 0], [math.sin(ang), math.cos(ang), 0], [0,0,1]])\n",
    "        return Trot\n",
    "    \n",
    "    def locomotion_global(self, ang, Phi_right, Phi_left):\n",
    "        return np.dot(self.inverse_rotation_matrix(ang),self.speed_model(Phi_right,Phi_left))\n",
    "    \n",
    "    def compute_with_encoder(self):\n",
    "        dxR = self.current_encoder_right() - self.jR\n",
    "        dxL = self.current_encoder_left() - self.jL\n",
    "        if (dxL>=0):\n",
    "            dxL=math.fmod(dxL+math.pi,2*math.pi)-math.pi\n",
    "        else:\n",
    "            dxL=math.fmod(dxL-math.pi,2*math.pi)+math.pi\n",
    "        if (dxR>=0):\n",
    "            dxR=math.fmod(dxR+math.pi,2*math.pi)-math.pi\n",
    "        else:\n",
    "            dxR=math.fmod(dxR-math.pi,2*math.pi)+math.pi\n",
    "        qsi = self.locomotion_global(self.enc_Theta,dxR, dxL)\n",
    "        #Atualiza a posição global\n",
    "        self.enc_global_x = self.enc_global_x + qsi[0]\n",
    "        self.enc_global_y = self.enc_global_y + qsi[1]\n",
    "        self.enc_Theta = self.enc_Theta + qsi[2]\n",
    "        #Atualiza a posição dos encoders\n",
    "        self.jR = self.current_encoder_right()\n",
    "        self.jL = self.current_encoder_left()\n",
    "    ##Fim da seção relacionada ao calculo da posição levando em consideração os encoders        \n",
    "    \n",
    "    def compute_with_time(self, Phi_right, Phi_left):\n",
    "        #Calculo do delta S\n",
    "        r = self.robot.WHEEL_RADIUS\n",
    "        Vr = r*Phi_right\n",
    "        Vl = r*Phi_left\n",
    "        current_timestamp = datetime.timestamp(datetime.now())\n",
    "        Delta_t = current_timestamp - self.previous_timestamp\n",
    "        #atualiza timestamp imediatamente\n",
    "\n",
    "        self.previous_timestamp = current_timestamp\n",
    "        \n",
    "        Delta_s = (Vr + Vl)*Delta_t/2  \n",
    "        Delta_Theta = (Vr - Vl)*Delta_t/(2*self.l)\n",
    "    \n",
    "        self.time_global_x = self.time_global_x + Delta_s*math.cos(self.time_Theta + Delta_Theta/2)\n",
    "        self.time_global_y = self.time_global_y + Delta_s*math.sin(self.time_Theta + Delta_Theta/2)\n",
    "        self.time_Theta = self.time_Theta + Delta_Theta\n",
    "    \n",
    "    def move(self,Phi_right, Phi_left,seconds): #velocidade em rad/s\n",
    "        #Vamos fixar um tempo de 500ms para computar as distâncias\n",
    "        for step in range(int(seconds/self.compute_interval)):\n",
    "            #self.compute()\n",
    "            self.robot.set_right_velocity(Phi_right)\n",
    "            self.robot.set_left_velocity(Phi_left)\n",
    "            time.sleep(self.compute_interval)\n",
    "            self.compute_with_encoder()\n",
    "            self.compute_with_time(Phi_right, Phi_left)\n",
    "            self.update_paths()\n",
    "        self.robot.stop()\n",
    "        self.timestamp = 0\n",
    "        \n",
    "    def ICR_left(self, Phi_left, R, seconds):\n",
    "        Phi_right = Phi_left*(R + self.l)/(R - self.l)\n",
    "        print(\"ICR_left Phi_r {} Phi_l {}\".format(Phi_right, Phi_left))\n",
    "        self.move(Phi_right, Phi_left, seconds)\n",
    "    \n",
    "    def ICR_right(self, Phi_right, R, seconds):\n",
    "        Phi_left = Phi_right*(R + self.l)/(R - self.l)\n",
    "        print(\"ICR_right Phi_r {} Phi_l {}\".format(Phi_right, Phi_left))\n",
    "        self.move(Phi_right, Phi_left, seconds)\n",
    "  \n",
    "    def plot_paths(self):\n",
    "        enc_path = np.array(self.enc_path)\n",
    "        time_path = np.array(self.time_path)\n",
    "        true_path = np.array(self.true_path)\n",
    "        \n",
    "        fig, ax = plt.subplots(nrows=1, ncols=2, figsize=(10, 5))\n",
    "        ax[0].scatter(enc_path[:,0], enc_path[:,1], 5, c='b', marker='o')\n",
    "        #ax[1].scatter(time_path[:,0], time_path[:,1], 5, c='g', marker='o')\n",
    "        ax[1].scatter(true_path[:,0], true_path[:,1], 5, c='r', marker='o')"
   ]
  },
  {
   "cell_type": "markdown",
   "metadata": {},
   "source": [
    "Para esta implementação, o grupo se baseou nas técnicas discutidas em sala de aula."
   ]
  },
  {
   "cell_type": "markdown",
   "metadata": {},
   "source": [
    "## Nuvem de pontos"
   ]
  },
  {
   "cell_type": "markdown",
   "metadata": {},
   "source": [
    "Para a nuvem de pontos, nós coletamos os dados fornecidos pelo laser (conjunto de pontos) que estão baseados no sistema de referência do robô, após aplicamos a transformação destes pontos para o sistema de referência global. Dados os pontos no sistema global nós realizamos a plotagem dos mesmos."
   ]
  },
  {
   "cell_type": "code",
   "execution_count": 347,
   "metadata": {},
   "outputs": [],
   "source": [
    "class PointCloud():\n",
    "    def __init__(self, robot, us_sensors, laser_sensor):\n",
    "        self.robot = robot\n",
    "        self.us_sensors = us_sensors\n",
    "        self.laser_sensor = laser_sensor\n",
    "        self.res = 0.05\n",
    "        \n",
    "        self.ultrassonic_points = []\n",
    "        self.laser_points = []\n",
    "        self.robot_points = []\n",
    "    \n",
    "    def update(self):\n",
    "        #Insere posição atual do robo\n",
    "        robot_x = self.robot.get_current_position()[0]\n",
    "        robot_y = self.robot.get_current_position()[1]\n",
    "        robot_ang = self.robot.get_current_orientation()[2]\n",
    "        \n",
    "        self.robot_points.append([robot_x,robot_y])\n",
    "\n",
    "        #Atualiza a leitura do laser e insere na nuvem de pontos\n",
    "        self.laser_sensor.update_robot_frame_reading()\n",
    "        for pointx, pointy in zip(self.laser_sensor.laser_x, self.laser_sensor.laser_y):\n",
    "            x,y = toGlobal(robot_x, robot_y,robot_ang, pointx, pointy)\n",
    "            self.laser_points.append([x,y])\n",
    "\n",
    "        #Atualiza a leitura do ultrassonico e insere na nuvem de pontos\n",
    "        self.us_sensors.update_robot_frame_reading()\n",
    "        for pointx, pointy in zip(self.us_sensors.data['robot_frame_reading'][:,0], self.us_sensors.data['robot_frame_reading'][:,1]):\n",
    "            x,y = toGlobal(robot_x, robot_y,robot_ang, pointx, pointy)\n",
    "            self.ultrassonic_points.append([x,y])\n",
    "    \n",
    "    def plot_point_cloud(self):\n",
    "        #Convertendo a nuvem de pontos em um array\n",
    "        ultrassonic_point_array = np.array(self.ultrassonic_points)\n",
    "        laser_point_array = np.array(self.laser_points)\n",
    "        robot_path = np.array(self.robot_points)\n",
    "        ax = plt.axes([0,0,1,1], frameon=False)\n",
    "        ax.get_xaxis().set_visible(False)\n",
    "        ax.get_yaxis().set_visible(False)\n",
    "        ###fig, ax = plt.subplots(nrows=1, ncols=1, figsize=(15, 15))\n",
    "        #posição do centro do robo\n",
    "        ###ax[0].scatter(robot_path[:,0], robot_path[:,1], 40, c='b', marker='o')\n",
    "        #ax[0].plot(robot_path[:,0], robot_path[:,1],'.-')\n",
    "        pass_count = 0\n",
    "        for x, y in zip(robot_path[:,0], robot_path[:,1]):\n",
    "            ###ax[0].text(x, y, str(pass_count), color=\"black\", fontsize=12)\n",
    "            pass_count += 1\n",
    "        #posição dos pontos lidos pelo sensor ultrassonico\n",
    "        ###ax[0].scatter(ultrassonic_point_array[:,0],ultrassonic_point_array[:,1], 10, c='magenta', marker='.')\n",
    "\n",
    "\n",
    "        #posição do centro do robo\n",
    "        ###ax.scatter(robot_path[:,0], robot_path[:,1], 40, c='b', marker='o')\n",
    "        #ax[1].plot(robot_path[:,0], robot_path[:,1],'.-')\n",
    "        pass_count = 0\n",
    "        for x, y in zip(robot_path[:,0], robot_path[:,1]):\n",
    "            ###ax.text(x, y, str(pass_count), color=\"black\", fontsize=12)\n",
    "            pass_count += 1\n",
    "        #posição dos pontos lidos pelo sensor laser\n",
    "        ax.scatter(laser_point_array[:,0],laser_point_array[:,1], 10, c='r', marker='.')\n",
    "        \n",
    "        #plt.autoscale(tight=True)\n",
    "        fig1 = plt.gcf()\n",
    "        plt.show()\n",
    "        fig1.savefig('pointcloud_map.png')\n",
    "          \n",
    "    def set_resolution(self, resolution):\n",
    "        self.res = resolution\n",
    "        \n",
    "    def plot_grid_ocupation(self):\n",
    "        xyreso = self.res  # x-y grid resolution\n",
    "        #yawreso = math.radians(3.1)  # yaw angle resolution [rad]\n",
    "        #ang, dist = file_read(\"lidar01.csv\")\n",
    "        laser_point_array = np.array(self.laser_points)\n",
    "        ox = laser_point_array[:,0]\n",
    "        oy = laser_point_array[:,1]\n",
    "        pmap, minx, maxx, miny, maxy, xyreso = lg.generate_ray_casting_grid_map(ox, oy, xyreso, False)\n",
    "        xyres = np.array(pmap).shape\n",
    "        plt.figure(figsize=(20,8))\n",
    "        ###plt.subplot(122)\n",
    "        ###plt.imshow(pmap, cmap = \"PiYG_r\") \n",
    "         \n",
    "        \"\"\"plt.clim(-0.4, 1.4)\n",
    "        plt.gca().set_xticks(np.arange(-.5, xyres[1], 1), minor = True)\n",
    "        plt.gca().set_yticks(np.arange(-.5, xyres[0], 1), minor = True)\n",
    "        plt.grid(True, which=\"minor\", color=\"w\", linewidth = .6, alpha = 0.5)\"\"\"\n",
    "        ax = plt.axes([0,0,1,1], frameon=False)\n",
    "        ax.get_xaxis().set_visible(False)\n",
    "        ax.get_yaxis().set_visible(False)\n",
    "        ax.imshow(pmap, cmap = \"PiYG_r\")\n",
    "        #plt.colorbar()\n",
    "        fig1 = plt.gcf()\n",
    "        plt.show()\n",
    "        fig1.savefig('graph_map.png')\n",
    "    \n",
    "        \n",
    "\n",
    "point_cloud = PointCloud(robot, us_sensors, laser_sensor)"
   ]
  },
  {
   "cell_type": "code",
   "execution_count": 348,
   "metadata": {},
   "outputs": [
    {
     "data": {
      "text/plain": [
       "(0,)"
      ]
     },
     "execution_count": 348,
     "metadata": {},
     "output_type": "execute_result"
    }
   ],
   "source": [
    "np.array(point_cloud.laser_points).shape"
   ]
  },
  {
   "cell_type": "markdown",
   "metadata": {},
   "source": [
    "#### PASSO 1:\n",
    "Atualiza o buffer da nuvem de pontos."
   ]
  },
  {
   "cell_type": "code",
   "execution_count": 349,
   "metadata": {},
   "outputs": [],
   "source": [
    "point_cloud.update()"
   ]
  },
  {
   "cell_type": "markdown",
   "metadata": {},
   "source": [
    "#### PASSO 2:\n",
    "Exibe o atual status da nuvem de pontos."
   ]
  },
  {
   "cell_type": "code",
   "execution_count": 350,
   "metadata": {},
   "outputs": [
    {
     "data": {
      "image/png": "[encoded data removed]",
      "text/plain": [
       "<Figure size 432x288 with 1 Axes>"
      ]
     },
     "metadata": {
      "needs_background": "light"
     },
     "output_type": "display_data"
    }
   ],
   "source": [
    "point_cloud.plot_point_cloud()"
   ]
  },
  {
   "cell_type": "code",
   "execution_count": 110,
   "metadata": {},
   "outputs": [
    {
     "ename": "AttributeError",
     "evalue": "'PointCloud' object has no attribute 'get_clustered_points'",
     "output_type": "error",
     "traceback": [
      "\u001b[1;31m---------------------------------------------------------------------------\u001b[0m",
      "\u001b[1;31mAttributeError\u001b[0m                            Traceback (most recent call last)",
      "\u001b[1;32m<ipython-input-110-f54d87fcbeab>\u001b[0m in \u001b[0;36m<module>\u001b[1;34m\u001b[0m\n\u001b[1;32m----> 1\u001b[1;33m \u001b[0mpoint_cloud\u001b[0m\u001b[1;33m.\u001b[0m\u001b[0mget_clustered_points\u001b[0m\u001b[1;33m(\u001b[0m\u001b[1;33m)\u001b[0m\u001b[1;33m\u001b[0m\u001b[1;33m\u001b[0m\u001b[0m\n\u001b[0m",
      "\u001b[1;31mAttributeError\u001b[0m: 'PointCloud' object has no attribute 'get_clustered_points'"
     ]
    }
   ],
   "source": [
    "point_cloud.get_clustered_points()"
   ]
  },
  {
   "cell_type": "code",
   "execution_count": 111,
   "metadata": {},
   "outputs": [
    {
     "ename": "AttributeError",
     "evalue": "'PointCloud' object has no attribute 'clustering'",
     "output_type": "error",
     "traceback": [
      "\u001b[1;31m---------------------------------------------------------------------------\u001b[0m",
      "\u001b[1;31mAttributeError\u001b[0m                            Traceback (most recent call last)",
      "\u001b[1;32m<ipython-input-111-00535fbfc17f>\u001b[0m in \u001b[0;36m<module>\u001b[1;34m\u001b[0m\n\u001b[1;32m----> 1\u001b[1;33m \u001b[0mpoint_cloud\u001b[0m\u001b[1;33m.\u001b[0m\u001b[0mclustering\u001b[0m\u001b[1;33m\u001b[0m\u001b[1;33m\u001b[0m\u001b[0m\n\u001b[0m",
      "\u001b[1;31mAttributeError\u001b[0m: 'PointCloud' object has no attribute 'clustering'"
     ]
    }
   ],
   "source": [
    "point_cloud.clustering"
   ]
  },
  {
   "cell_type": "code",
   "execution_count": 351,
   "metadata": {},
   "outputs": [
    {
     "name": "stdout",
     "output_type": "stream",
     "text": [
      "The grid map is  160 x 220 .\n"
     ]
    },
    {
     "data": {
      "image/png": "[encoded data removed]",
      "text/plain": [
       "<Figure size 1440x576 with 1 Axes>"
      ]
     },
     "metadata": {
      "needs_background": "light"
     },
     "output_type": "display_data"
    }
   ],
   "source": [
    "point_cloud.plot_grid_ocupation()"
   ]
  },
  {
   "cell_type": "markdown",
   "metadata": {},
   "source": [
    "O primeiro (mais a esquerda do monitor) e o segundo gráfico exibem a posição do robô em um determinado tempo no ambiente, porém o primeiro exibe somente os pontos vistos pelo sensor ultrassônico, enquanto o segundo exibe os pontos vistos pelo laser. Esta plotagem favorece a comparação do volume de dados que está sendo gerado por ambos os sensores."
   ]
  },
  {
   "cell_type": "markdown",
   "metadata": {},
   "source": [
    "#### PASSO 3:\n",
    "Move o robô para uma nova posição para que possamos verificar a alteração na nuvem de pontos."
   ]
  },
  {
   "cell_type": "code",
   "execution_count": 34,
   "metadata": {},
   "outputs": [],
   "source": [
    "#Passo 3\n",
    "\n",
    "#Move o robo\n",
    "robot.set_right_velocity(3)\n",
    "robot.set_left_velocity(4)\n",
    "time.sleep(10)\n",
    "robot.stop()"
   ]
  },
  {
   "cell_type": "markdown",
   "metadata": {},
   "source": [
    "__OBS:__ Visto que estamos utilizando um Jupyter Notebook para apresentação do código, execute repetidas vezes os passos 1, 2 e 3, simulando o movimento do robo adquirindo informações.\n",
    "Em uma situação real, os processos de coleta, movimento e odometria executariam em threads separadas."
   ]
  },
  {
   "cell_type": "markdown",
   "metadata": {},
   "source": [
    "## Encapsulamento\n",
    "A classe a seguir encapsula todos os modelos criados anteriormente."
   ]
  },
  {
   "cell_type": "code",
   "execution_count": 352,
   "metadata": {},
   "outputs": [],
   "source": [
    "class MobileRobot():\n",
    "    def __init__(self):\n",
    "        self.robot = Robot()\n",
    "        self.kinematicModel = Kinematic_model(self.robot)\n",
    "        self.us_sensors = Us_sensor(self.robot)\n",
    "        self.laser_sensors = Laser_sensor(self.robot)\n",
    "        self.point_cloud = PointCloud(self.robot, self.us_sensors, self.laser_sensors)\n",
    "        \n",
    "        self.point_cloud.update()\n",
    "    \n",
    "        self.compute_interval = 0.5\n",
    "        \n",
    "        self.braitenbergL=[-0.2,-0.4,-0.6,-0.8,-1.0,-1.2,-1.4,-1.6]\n",
    "        self.braitenbergR=[-1.6,-1.4,-1.2,-1.0,-0.8,-0.6,-0.4,-0.2]\n",
    "\n",
    "        self.detect = [0,0,0,0,0,0,0,0]\n",
    "        self.noDetectionDist = 1.0\n",
    "        self.maxDetectionDist = 0.2\n",
    "        \n",
    "    def braitenberg(self, dist, vel):\n",
    "        vLeft = vRight = vel\n",
    "        for i in range(len(dist)):\n",
    "            if(dist[i] < self.noDetectionDist):\n",
    "                self.detect[i] = 1 - ((dist[i]-self.maxDetectionDist)/(self.noDetectionDist-self.maxDetectionDist))\n",
    "            else:\n",
    "                self.detect[i]=0\n",
    "            for i in range(8):\n",
    "                vLeft = vLeft + self.braitenbergL[i]*self.detect[i]\n",
    "                vRight = vRight+ self.braitenbergR[i]*self.detect[i]\n",
    "                \n",
    "        return [vLeft, vRight]\n",
    "\n",
    "    def start_braitenberg(self, seconds):\n",
    "        for step in range(int(seconds/self.compute_interval)):\n",
    "            Phi_l, Phi_r = self.braitenberg(self.us_sensors.data[\"raw_reading\"][:8],2)\n",
    "            self.kinematicModel.move(Phi_r, Phi_l,self.compute_interval)\n",
    "            #self.kinematicModel.plot_paths()\n",
    "            self.point_cloud.update()\n",
    "            #self.point_cloud.plot_point_cloud()"
   ]
  },
  {
   "cell_type": "code",
   "execution_count": 355,
   "metadata": {},
   "outputs": [
    {
     "name": "stdout",
     "output_type": "stream",
     "text": [
      "Connected to remoteApi server.\n",
      "\u001b[92m Pioneer_p3dx_ultrasonicSensor1 connected.\n",
      "\u001b[92m Pioneer_p3dx_ultrasonicSensor2 connected.\n",
      "\u001b[92m Pioneer_p3dx_ultrasonicSensor3 connected.\n",
      "\u001b[92m Pioneer_p3dx_ultrasonicSensor4 connected.\n",
      "\u001b[92m Pioneer_p3dx_ultrasonicSensor5 connected.\n",
      "\u001b[92m Pioneer_p3dx_ultrasonicSensor6 connected.\n",
      "\u001b[92m Pioneer_p3dx_ultrasonicSensor7 connected.\n",
      "\u001b[92m Pioneer_p3dx_ultrasonicSensor8 connected.\n",
      "\u001b[92m Pioneer_p3dx_ultrasonicSensor9 connected.\n",
      "\u001b[92m Pioneer_p3dx_ultrasonicSensor10 connected.\n",
      "\u001b[92m Pioneer_p3dx_ultrasonicSensor11 connected.\n",
      "\u001b[92m Pioneer_p3dx_ultrasonicSensor12 connected.\n",
      "\u001b[92m Pioneer_p3dx_ultrasonicSensor13 connected.\n",
      "\u001b[92m Pioneer_p3dx_ultrasonicSensor14 connected.\n",
      "\u001b[92m Pioneer_p3dx_ultrasonicSensor15 connected.\n",
      "\u001b[92m Pioneer_p3dx_ultrasonicSensor16 connected.\n",
      "\u001b[92m Vision sensor connected.\n",
      "\u001b[92m Laser connected.\n",
      "\u001b[92m Left motor connected.\n",
      "\u001b[92m Right motor connected.\n",
      "\u001b[92m Robot connected.\n"
     ]
    }
   ],
   "source": [
    "mr = MobileRobot()"
   ]
  },
  {
   "cell_type": "code",
   "execution_count": 357,
   "metadata": {},
   "outputs": [],
   "source": [
    "mr.start_braitenberg(50)"
   ]
  },
  {
   "cell_type": "code",
   "execution_count": 358,
   "metadata": {},
   "outputs": [
    {
     "data": {
      "image/png": "[encoded data removed]",
      "text/plain": [
       "<Figure size 432x288 with 1 Axes>"
      ]
     },
     "metadata": {
      "needs_background": "light"
     },
     "output_type": "display_data"
    }
   ],
   "source": [
    "mr.point_cloud.plot_point_cloud()"
   ]
  },
  {
   "cell_type": "code",
   "execution_count": 423,
   "metadata": {},
   "outputs": [],
   "source": [
    "mr.point_cloud.set_resolution(0.1)"
   ]
  },
  {
   "cell_type": "code",
   "execution_count": 424,
   "metadata": {},
   "outputs": [
    {
     "name": "stdout",
     "output_type": "stream",
     "text": [
      "The grid map is  160 x 120 .\n"
     ]
    },
    {
     "data": {
      "image/png": "[encoded data removed]",
      "text/plain": [
       "<Figure size 1440x576 with 1 Axes>"
      ]
     },
     "metadata": {
      "needs_background": "light"
     },
     "output_type": "display_data"
    }
   ],
   "source": [
    "mr.point_cloud.plot_grid_ocupation()"
   ]
  },
  {
   "cell_type": "code",
   "execution_count": 445,
   "metadata": {},
   "outputs": [
    {
     "name": "stdout",
     "output_type": "stream",
     "text": [
      "[array([[[717,  86]],\n",
      "\n",
      "       [[717,  89]],\n",
      "\n",
      "       [[716,  90]],\n",
      "\n",
      "       [[713,  90]],\n",
      "\n",
      "       [[713,  96]],\n",
      "\n",
      "       [[712,  97]],\n",
      "\n",
      "       [[710,  97]],\n",
      "\n",
      "       [[710, 100]],\n",
      "\n",
      "       [[709, 101]],\n",
      "\n",
      "       [[706, 101]],\n",
      "\n",
      "       [[706, 103]],\n",
      "\n",
      "       [[705, 104]],\n",
      "\n",
      "       [[702, 104]],\n",
      "\n",
      "       [[702, 111]],\n",
      "\n",
      "       [[701, 112]],\n",
      "\n",
      "       [[699, 112]],\n",
      "\n",
      "       [[699, 114]],\n",
      "\n",
      "       [[698, 115]],\n",
      "\n",
      "       [[695, 115]],\n",
      "\n",
      "       [[695, 121]],\n",
      "\n",
      "       [[694, 122]],\n",
      "\n",
      "       [[692, 122]],\n",
      "\n",
      "       [[692, 132]],\n",
      "\n",
      "       [[691, 133]],\n",
      "\n",
      "       [[688, 133]],\n",
      "\n",
      "       [[688, 143]],\n",
      "\n",
      "       [[687, 144]],\n",
      "\n",
      "       [[684, 144]],\n",
      "\n",
      "       [[683, 143]],\n",
      "\n",
      "       [[683, 108]],\n",
      "\n",
      "       [[684, 107]],\n",
      "\n",
      "       [[687, 107]],\n",
      "\n",
      "       [[687, 101]],\n",
      "\n",
      "       [[681, 101]],\n",
      "\n",
      "       [[681, 111]],\n",
      "\n",
      "       [[680, 112]],\n",
      "\n",
      "       [[677, 112]],\n",
      "\n",
      "       [[677, 132]],\n",
      "\n",
      "       [[676, 133]],\n",
      "\n",
      "       [[674, 133]],\n",
      "\n",
      "       [[674, 150]],\n",
      "\n",
      "       [[673, 151]],\n",
      "\n",
      "       [[670, 151]],\n",
      "\n",
      "       [[670, 172]],\n",
      "\n",
      "       [[669, 173]],\n",
      "\n",
      "       [[666, 173]],\n",
      "\n",
      "       [[666, 175]],\n",
      "\n",
      "       [[665, 176]],\n",
      "\n",
      "       [[663, 176]],\n",
      "\n",
      "       [[663, 183]],\n",
      "\n",
      "       [[662, 184]],\n",
      "\n",
      "       [[659, 184]],\n",
      "\n",
      "       [[659, 190]],\n",
      "\n",
      "       [[658, 191]],\n",
      "\n",
      "       [[587, 191]],\n",
      "\n",
      "       [[586, 190]],\n",
      "\n",
      "       [[586, 184]],\n",
      "\n",
      "       [[583, 184]],\n",
      "\n",
      "       [[582, 183]],\n",
      "\n",
      "       [[582, 158]],\n",
      "\n",
      "       [[576, 158]],\n",
      "\n",
      "       [[576, 222]],\n",
      "\n",
      "       [[575, 223]],\n",
      "\n",
      "       [[573, 223]],\n",
      "\n",
      "       [[573, 345]],\n",
      "\n",
      "       [[575, 345]],\n",
      "\n",
      "       [[576, 346]],\n",
      "\n",
      "       [[576, 388]],\n",
      "\n",
      "       [[575, 389]],\n",
      "\n",
      "       [[573, 389]],\n",
      "\n",
      "       [[573, 424]],\n",
      "\n",
      "       [[575, 424]],\n",
      "\n",
      "       [[576, 425]],\n",
      "\n",
      "       [[576, 438]],\n",
      "\n",
      "       [[575, 439]],\n",
      "\n",
      "       [[573, 439]],\n",
      "\n",
      "       [[573, 474]],\n",
      "\n",
      "       [[575, 474]],\n",
      "\n",
      "       [[576, 475]],\n",
      "\n",
      "       [[576, 492]],\n",
      "\n",
      "       [[705, 492]],\n",
      "\n",
      "       [[705, 490]],\n",
      "\n",
      "       [[706, 489]],\n",
      "\n",
      "       [[734, 489]],\n",
      "\n",
      "       [[734, 482]],\n",
      "\n",
      "       [[731, 482]],\n",
      "\n",
      "       [[730, 481]],\n",
      "\n",
      "       [[730, 479]],\n",
      "\n",
      "       [[728, 479]],\n",
      "\n",
      "       [[727, 478]],\n",
      "\n",
      "       [[727, 472]],\n",
      "\n",
      "       [[728, 471]],\n",
      "\n",
      "       [[741, 471]],\n",
      "\n",
      "       [[742, 472]],\n",
      "\n",
      "       [[742, 492]],\n",
      "\n",
      "       [[748, 492]],\n",
      "\n",
      "       [[748, 486]],\n",
      "\n",
      "       [[749, 485]],\n",
      "\n",
      "       [[752, 485]],\n",
      "\n",
      "       [[752, 472]],\n",
      "\n",
      "       [[753, 471]],\n",
      "\n",
      "       [[763, 471]],\n",
      "\n",
      "       [[764, 472]],\n",
      "\n",
      "       [[764, 489]],\n",
      "\n",
      "       [[774, 489]],\n",
      "\n",
      "       [[774, 482]],\n",
      "\n",
      "       [[771, 482]],\n",
      "\n",
      "       [[770, 481]],\n",
      "\n",
      "       [[770, 472]],\n",
      "\n",
      "       [[771, 471]],\n",
      "\n",
      "       [[788, 471]],\n",
      "\n",
      "       [[789, 472]],\n",
      "\n",
      "       [[789, 474]],\n",
      "\n",
      "       [[795, 474]],\n",
      "\n",
      "       [[795, 468]],\n",
      "\n",
      "       [[796, 467]],\n",
      "\n",
      "       [[799, 467]],\n",
      "\n",
      "       [[799, 464]],\n",
      "\n",
      "       [[800, 463]],\n",
      "\n",
      "       [[802, 463]],\n",
      "\n",
      "       [[802, 461]],\n",
      "\n",
      "       [[803, 460]],\n",
      "\n",
      "       [[806, 460]],\n",
      "\n",
      "       [[806, 457]],\n",
      "\n",
      "       [[807, 456]],\n",
      "\n",
      "       [[810, 456]],\n",
      "\n",
      "       [[811, 457]],\n",
      "\n",
      "       [[811, 460]],\n",
      "\n",
      "       [[813, 460]],\n",
      "\n",
      "       [[814, 461]],\n",
      "\n",
      "       [[814, 467]],\n",
      "\n",
      "       [[817, 467]],\n",
      "\n",
      "       [[818, 468]],\n",
      "\n",
      "       [[818, 471]],\n",
      "\n",
      "       [[821, 471]],\n",
      "\n",
      "       [[822, 472]],\n",
      "\n",
      "       [[822, 474]],\n",
      "\n",
      "       [[824, 474]],\n",
      "\n",
      "       [[825, 475]],\n",
      "\n",
      "       [[825, 481]],\n",
      "\n",
      "       [[828, 481]],\n",
      "\n",
      "       [[829, 482]],\n",
      "\n",
      "       [[829, 489]],\n",
      "\n",
      "       [[839, 489]],\n",
      "\n",
      "       [[839, 475]],\n",
      "\n",
      "       [[840, 474]],\n",
      "\n",
      "       [[842, 474]],\n",
      "\n",
      "       [[843, 475]],\n",
      "\n",
      "       [[843, 481]],\n",
      "\n",
      "       [[849, 481]],\n",
      "\n",
      "       [[850, 482]],\n",
      "\n",
      "       [[850, 485]],\n",
      "\n",
      "       [[853, 485]],\n",
      "\n",
      "       [[854, 486]],\n",
      "\n",
      "       [[854, 492]],\n",
      "\n",
      "       [[860, 492]],\n",
      "\n",
      "       [[860, 486]],\n",
      "\n",
      "       [[854, 486]],\n",
      "\n",
      "       [[853, 485]],\n",
      "\n",
      "       [[853, 475]],\n",
      "\n",
      "       [[854, 474]],\n",
      "\n",
      "       [[860, 474]],\n",
      "\n",
      "       [[861, 475]],\n",
      "\n",
      "       [[861, 481]],\n",
      "\n",
      "       [[867, 481]],\n",
      "\n",
      "       [[867, 353]],\n",
      "\n",
      "       [[868, 352]],\n",
      "\n",
      "       [[871, 352]],\n",
      "\n",
      "       [[871, 346]],\n",
      "\n",
      "       [[868, 346]],\n",
      "\n",
      "       [[867, 345]],\n",
      "\n",
      "       [[867, 328]],\n",
      "\n",
      "       [[868, 327]],\n",
      "\n",
      "       [[871, 327]],\n",
      "\n",
      "       [[871, 324]],\n",
      "\n",
      "       [[872, 323]],\n",
      "\n",
      "       [[875, 323]],\n",
      "\n",
      "       [[875, 317]],\n",
      "\n",
      "       [[868, 317]],\n",
      "\n",
      "       [[867, 316]],\n",
      "\n",
      "       [[867, 295]],\n",
      "\n",
      "       [[847, 295]],\n",
      "\n",
      "       [[846, 294]],\n",
      "\n",
      "       [[846, 277]],\n",
      "\n",
      "       [[847, 276]],\n",
      "\n",
      "       [[857, 276]],\n",
      "\n",
      "       [[857, 274]],\n",
      "\n",
      "       [[858, 273]],\n",
      "\n",
      "       [[860, 273]],\n",
      "\n",
      "       [[861, 274]],\n",
      "\n",
      "       [[861, 276]],\n",
      "\n",
      "       [[867, 276]],\n",
      "\n",
      "       [[867, 270]],\n",
      "\n",
      "       [[858, 270]],\n",
      "\n",
      "       [[857, 269]],\n",
      "\n",
      "       [[857, 266]],\n",
      "\n",
      "       [[858, 265]],\n",
      "\n",
      "       [[867, 265]],\n",
      "\n",
      "       [[867, 259]],\n",
      "\n",
      "       [[858, 259]],\n",
      "\n",
      "       [[858, 262]],\n",
      "\n",
      "       [[857, 263]],\n",
      "\n",
      "       [[854, 263]],\n",
      "\n",
      "       [[854, 265]],\n",
      "\n",
      "       [[853, 266]],\n",
      "\n",
      "       [[847, 266]],\n",
      "\n",
      "       [[846, 265]],\n",
      "\n",
      "       [[846, 256]],\n",
      "\n",
      "       [[847, 255]],\n",
      "\n",
      "       [[849, 255]],\n",
      "\n",
      "       [[849, 252]],\n",
      "\n",
      "       [[850, 251]],\n",
      "\n",
      "       [[860, 251]],\n",
      "\n",
      "       [[860, 245]],\n",
      "\n",
      "       [[858, 245]],\n",
      "\n",
      "       [[857, 244]],\n",
      "\n",
      "       [[857, 241]],\n",
      "\n",
      "       [[800, 241]],\n",
      "\n",
      "       [[799, 240]],\n",
      "\n",
      "       [[799, 162]],\n",
      "\n",
      "       [[785, 162]],\n",
      "\n",
      "       [[785, 165]],\n",
      "\n",
      "       [[784, 166]],\n",
      "\n",
      "       [[778, 166]],\n",
      "\n",
      "       [[778, 168]],\n",
      "\n",
      "       [[777, 169]],\n",
      "\n",
      "       [[771, 169]],\n",
      "\n",
      "       [[771, 172]],\n",
      "\n",
      "       [[770, 173]],\n",
      "\n",
      "       [[760, 173]],\n",
      "\n",
      "       [[760, 175]],\n",
      "\n",
      "       [[759, 176]],\n",
      "\n",
      "       [[753, 176]],\n",
      "\n",
      "       [[753, 179]],\n",
      "\n",
      "       [[752, 180]],\n",
      "\n",
      "       [[749, 180]],\n",
      "\n",
      "       [[748, 179]],\n",
      "\n",
      "       [[748, 176]],\n",
      "\n",
      "       [[735, 176]],\n",
      "\n",
      "       [[734, 175]],\n",
      "\n",
      "       [[734, 173]],\n",
      "\n",
      "       [[720, 173]],\n",
      "\n",
      "       [[720, 190]],\n",
      "\n",
      "       [[719, 191]],\n",
      "\n",
      "       [[695, 191]],\n",
      "\n",
      "       [[694, 190]],\n",
      "\n",
      "       [[694, 180]],\n",
      "\n",
      "       [[695, 179]],\n",
      "\n",
      "       [[698, 179]],\n",
      "\n",
      "       [[698, 173]],\n",
      "\n",
      "       [[699, 172]],\n",
      "\n",
      "       [[701, 172]],\n",
      "\n",
      "       [[701, 169]],\n",
      "\n",
      "       [[702, 168]],\n",
      "\n",
      "       [[705, 168]],\n",
      "\n",
      "       [[705, 162]],\n",
      "\n",
      "       [[706, 161]],\n",
      "\n",
      "       [[709, 161]],\n",
      "\n",
      "       [[709, 155]],\n",
      "\n",
      "       [[710, 154]],\n",
      "\n",
      "       [[712, 154]],\n",
      "\n",
      "       [[712, 151]],\n",
      "\n",
      "       [[713, 150]],\n",
      "\n",
      "       [[716, 150]],\n",
      "\n",
      "       [[716, 144]],\n",
      "\n",
      "       [[717, 143]],\n",
      "\n",
      "       [[719, 143]],\n",
      "\n",
      "       [[719, 140]],\n",
      "\n",
      "       [[720, 139]],\n",
      "\n",
      "       [[727, 139]],\n",
      "\n",
      "       [[727,  90]],\n",
      "\n",
      "       [[724,  90]],\n",
      "\n",
      "       [[723,  89]],\n",
      "\n",
      "       [[723,  86]]], dtype=int32)]\n"
     ]
    },
    {
     "data": {
      "image/png": "[encoded data removed]",
      "text/plain": [
       "<Figure size 432x288 with 1 Axes>"
      ]
     },
     "metadata": {
      "needs_background": "light"
     },
     "output_type": "display_data"
    }
   ],
   "source": [
    "img = cv.imread('graph_map.png')\n",
    "img = cv.bitwise_not(img)\n",
    "imgray = cv.cvtColor(img, cv.COLOR_BGR2GRAY)\n",
    "\n",
    "ret, thresh = cv.threshold(imgray, 76, 255, cv.THRESH_BINARY)\n",
    "contours, hierarchy = cv.findContours(thresh, cv.RETR_EXTERNAL, cv.CHAIN_APPROX_SIMPLE)\n",
    "\n",
    "\n",
    "im3 = cv.fillPoly(img,contours,(0,255,255))\n",
    "ax = plt.axes([0,0,1,1], frameon=False)\n",
    "ax.get_xaxis().set_visible(False)\n",
    "ax.get_yaxis().set_visible(False)\n",
    "ax.imshow(img)\n",
    "plt.show\n",
    "print(contours)"
   ]
  },
  {
   "cell_type": "code",
   "execution_count": 525,
   "metadata": {},
   "outputs": [],
   "source": [
    "import SweepSearcher as ss"
   ]
  },
  {
   "cell_type": "code",
   "execution_count": 532,
   "metadata": {},
   "outputs": [
    {
     "name": "stdout",
     "output_type": "stream",
     "text": [
      "Done\n",
      "Start point:  [129, 0]\n"
     ]
    },
    {
     "data": {
      "image/png": "[encoded data removed]",
      "text/plain": [
       "<Figure size 432x288 with 1 Axes>"
      ]
     },
     "metadata": {
      "needs_background": "light"
     },
     "output_type": "display_data"
    }
   ],
   "source": [
    "ox = []\n",
    "oy = []\n",
    "reso = 7.0\n",
    "moving_direction=ss.SweepSearcher.MovingDirection.RIGHT\n",
    "sweeping_direction=ss.SweepSearcher.SweepDirection.UP\n",
    "\n",
    "for sublist in contours:\n",
    "    for item in sublist:\n",
    "        for point in item:\n",
    "            ox.append(point[0])\n",
    "            oy.append(point[1])\n",
    "\n",
    "sweep_vec, sweep_start_posi = ss.find_sweep_direction_and_start_posi(ox, oy)\n",
    "rox, roy = ss.convert_grid_coordinate(ox, oy, sweep_vec, sweep_start_posi)\n",
    "gmap, xinds_goaly, goaly = ss.setup_grid_map(rox, roy, reso, sweeping_direction)\n",
    "sweep_searcher = ss.SweepSearcher(moving_direction, sweeping_direction, xinds_goaly, goaly)\n",
    "px, py = ss.sweep_path_search(sweep_searcher, gmap)\n",
    "rx, ry = ss.convert_global_coordinate(px, py, sweep_vec, sweep_start_posi)\n",
    "\n",
    "plt.cla()\n",
    "plt.plot(ox, oy, \"-xb\")\n",
    "plt.plot(rx, ry, \"-r\")\n",
    "plt.plot(sweep_start_posi[0],sweep_start_posi[1],\"or\")\n",
    "print(\"Start point: \",sweep_vec)"
   ]
  },
  {
   "cell_type": "markdown",
   "metadata": {},
   "source": [
    "## Conclusão\n",
    "\n",
    "<br>\n",
    "Para o projeto ultilizamos os seguintes sensores:\n",
    "\n",
    "* Encoders\n",
    "* Sensores Ultrassônicos\n",
    "* Laser Hokuyo\n",
    "* Câmera\n",
    "<br><br>\n",
    "<div style=\"text-align: justify\">\n",
    "Os encoders foram utilizados para o processo de odometria, com os dados fornecidos por eles nós estimamos o deslocamento realizado pelo robô no ambiente. Já os sensores ultrassônicos utilizamos para detectar objetos que estivessem mais próximos do robô devido seu curto alcance, porém focamos na utilização do laser para criação da nuvem de pontos por apresentar uma maior precisão e alcance. A utilização da câmera durante o processo foi especificamente para depuração do código, durante a construção do mesmo utilizamos ela para ter uma melhor visão do que estava sendo observado pelo robô.\n",
    "Como mencionado anteriormente os dados obtidos durante a coleta apresentam algumas variações em relação aos dados reais fornecidos pelo simulador V-REP (variações visíveis na odometria), estas variações são mais perceptíveis quando principalmente o robô realiza mudanças de direção, acreditamos que isto deve ocorrer pelo fato da imprecisão dos sensores (neste caso o encoder), o que gera um erro durante os cálculos de estimação de posição, tendo assim um acúmulo de erros durante todo o processo. Uma alternativa para a correção deste erro é a de utilização dos dados do laser como alternativa para minimização destes erros, onde poderíamos pegar pontos de referência na nuvem de pontos para calcularmos os ângulos de rotação e o deslocamento, porém o aperfeiçoamento deste modelo deve ser realizado somente na próxima etapa do trabalho.\n",
    "</div>"
   ]
  }
 ],
 "metadata": {
  "kernelspec": {
   "display_name": "Python 3",
   "language": "python",
   "name": "python3"
  },
  "language_info": {
   "codemirror_mode": {
    "name": "ipython",
    "version": 3
   },
   "file_extension": ".py",
   "mimetype": "text/x-python",
   "name": "python",
   "nbconvert_exporter": "python",
   "pygments_lexer": "ipython3",
   "version": "3.6.8"
  }
 },
 "nbformat": 4,
 "nbformat_minor": 2
}
