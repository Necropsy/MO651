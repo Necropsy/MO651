{
 "cells": [
  {
   "cell_type": "markdown",
   "metadata": {},
   "source": [
    "### Project 2 - Mobile Robotics - MO651\n",
    "#### __Professor:__ _Esther Luna Columbini_ <br>\n",
    "__Students:__ <br>\n",
    "<table style=\"margin:0; padding:3px;\">\n",
    "    <tr><td><em>Tito Barbosa Rezende </td><td><strong>RA:</strong> 025327</td></tr>\n",
    "<tr><td><em>João Paulo Franco Assumpção </td><td><strong>RA:</strong> 229322</td></tr>\n",
    "<tr><td><em>Elcio Pereira de Souza Junior </td><td><strong>RA:</strong> 262952</td></tr></table>"
   ]
  },
  {
   "cell_type": "markdown",
   "metadata": {},
   "source": [
    "### Pre-requisites\n",
    "\n",
    "Necessary libraries:"
   ]
  },
  {
   "cell_type": "code",
   "execution_count": null,
   "metadata": {
    "scrolled": true
   },
   "outputs": [],
   "source": [
    "%pip install matplotlib\n",
    "%pip install numpy\n",
    "%pip install opencv-python\n",
    "%pip install scikit-fuzzy"
   ]
  },
  {
   "cell_type": "markdown",
   "metadata": {},
   "source": [
    "Import libraries:"
   ]
  },
  {
   "cell_type": "code",
   "execution_count": 1,
   "metadata": {},
   "outputs": [],
   "source": [
    "import sys, time\n",
    "sys.path.insert(0, '../src')\n",
    "from IPython.display import clear_output\n",
    "from robot import Robot\n",
    "import utils\n",
    "import matplotlib.pyplot as plt\n",
    "import numpy as np\n",
    "import vrep\n",
    "import math\n",
    "import random\n",
    "import collections\n",
    "from datetime import datetime\n",
    "import skfuzzy as fuzz\n",
    "from skfuzzy import control as ctrl"
   ]
  },
  {
   "cell_type": "markdown",
   "metadata": {},
   "source": [
    "## 1 - First assigment classes and functions"
   ]
  },
  {
   "cell_type": "markdown",
   "metadata": {},
   "source": [
    "### 1.1 Laser Sensor"
   ]
  },
  {
   "cell_type": "code",
   "execution_count": 2,
   "metadata": {},
   "outputs": [],
   "source": [
    "class Laser_sensor:\n",
    "    def __init__(self,robot):\n",
    "        self.robot = robot\n",
    "\n",
    "    def update_robot_frame_reading(self):\n",
    "        laser_flatten_readings = np.array(self.robot.read_laser())\n",
    "        laser_readings = laser_flatten_readings.reshape((len(laser_flatten_readings)//3, 3))\n",
    "        self.laser_x = laser_readings[:,0]\n",
    "        self.laser_y = laser_readings[:,1]\n",
    "\n",
    "def plot_laser_robot_frame():\n",
    "    fig, ax = plt.subplots()\n",
    "    #posição dos feixes laser\n",
    "    ax.scatter(laser_sensor.laser_x, laser_sensor.laser_y, 3, c='g', marker='o')\n",
    "    #posição do centro do robo\n",
    "    ax.scatter(0, 0, 40, c='b', marker='o')\n",
    "    plt.show()"
   ]
  },
  {
   "cell_type": "markdown",
   "metadata": {},
   "source": [
    "### 1.2 Sonar Sensors"
   ]
  },
  {
   "cell_type": "code",
   "execution_count": 3,
   "metadata": {},
   "outputs": [],
   "source": [
    "class Us_sensor:\n",
    "    def __init__(self,robot):\n",
    "        orientation_angles = np.array([90,50,30,10,-10,-30,-50,-90,-90,-130,-150,-170,170,150,130,90])\n",
    "        orientation_rad = np.radians(orientation_angles)\n",
    "        self.data = {\n",
    "        \"prefix\" : \"Pioneer_p3dx_ultrasonicSensor\",\n",
    "        \"ids\" : np.arange(1,17,1), \"handles\" : np.zeros(16, dtype=int), \n",
    "        \"positions\" :  np.zeros((16,3),dtype=float),\n",
    "        \"angles_deg\": orientation_angles,\n",
    "        \"angles_rad\": orientation_rad,\n",
    "        \"raw_reading\": np.zeros(16),\n",
    "        \"robot_frame_reading\": np.zeros((16,2),dtype=float)\n",
    "        }\n",
    "        self.robot = robot\n",
    "        \n",
    "        for i,sensor_i in enumerate(self.data['ids']):\n",
    "            ret,handle = vrep.simxGetObjectHandle(self.robot.clientID, self.data['prefix'] + str(sensor_i), vrep.simx_opmode_oneshot_wait)\n",
    "            self.data['handles'][i] = handle\n",
    "            ret, pos = vrep.simxGetObjectPosition(self.robot.clientID, handle, self.robot.robot_handle, vrep.simx_opmode_oneshot_wait)\n",
    "            self.data['positions'][i,:] = pos\n",
    "        \n",
    "    def get_left_distance(self):\n",
    "        self.update_raw_reading()\n",
    "        return np.min(np.array(self.data[\"raw_reading\"][0]))\n",
    "    \n",
    "    def get_front_distance(self):\n",
    "        self.update_raw_reading()\n",
    "        return np.min(np.array([self.data[\"raw_reading\"][3:5]]))        \n",
    "    \n",
    "    def get_right_distance(self):\n",
    "        self.update_raw_reading()\n",
    "        return np.min(np.array([self.data[\"raw_reading\"][7:9]]))\n",
    "    \n",
    "    def update_raw_reading(self):\n",
    "        self.data[\"raw_reading\"] = np.array(self.robot.read_ultrassonic_sensors())\n",
    "    \n",
    "    def update_robot_frame_reading(self):\n",
    "        self.update_raw_reading()\n",
    "        for i, proximity in enumerate(us_sensors.data[\"raw_reading\"]):\n",
    "            if proximity == 5 or proximity < 0.1:\n",
    "                self.data[\"robot_frame_reading\"][i] = np.zeros(2)\n",
    "            else:\n",
    "                self.data[\"robot_frame_reading\"][i] = self.proximity_robot_frame(i+1,proximity).flatten()\n",
    "                \n",
    "    #Calcula o ponto no frame do robo, referente a leitura de cada sensor de proximidade\n",
    "    def proximity_robot_frame(self,sensorId, proximity):\n",
    "        index = sensorId -1\n",
    "        angulars = self.data[\"angles_rad\"][index]\n",
    "        #Matriz de rotação\n",
    "        rot_matrix = np.array([[math.cos(angulars),-math.sin(angulars)],[math.sin(angulars),math.cos(angulars)]])\n",
    "        #Rotacionando a leitura\n",
    "        distXY = np.dot(rot_matrix , np.array([[proximity],[0]]))\n",
    "        #Matriz de translação\n",
    "        posicao_sensor_x = self.data[\"positions\"][index][0]\n",
    "        posicao_sensor_y = self.data[\"positions\"][index][1]\n",
    "        transXY=np.array([[distXY[0][0]+posicao_sensor_x],[distXY[1][0]+posicao_sensor_y]])\n",
    "        return transXY"
   ]
  },
  {
   "cell_type": "markdown",
   "metadata": {},
   "source": [
    "We defined __toGlobal__ function to enable a later using. The function transform any _(x,y)_ point of robot reference into a global reference."
   ]
  },
  {
   "cell_type": "code",
   "execution_count": 4,
   "metadata": {},
   "outputs": [],
   "source": [
    "def toGlobal(robot_x, robot_y,robot_ang, Point_xr, Point_yr):\n",
    "    T_trans = np.array([[1,0,robot_x],[0,1,robot_y],[0,0,1]])\n",
    "    T_rot = np.array([[math.cos(robot_ang),-math.sin(robot_ang),0],[math.sin(robot_ang),math.cos(robot_ang),0],[0,0,1]])\n",
    "    T = np.dot(T_trans,T_rot)\n",
    "    res = np.dot(T, np.array([Point_xr,Point_yr,1]))\n",
    "    return res[0],res[1]\n",
    "def fromGlobal(robot_x, robot_y,robot_ang, Point_xr, Point_yr):\n",
    "    T_trans = np.array([[1,0,-robot_x],[0,1,-robot_y],[0,0,1]])\n",
    "    T_rot = np.array([[math.cos(robot_ang),math.sin(robot_ang),0],[-math.sin(robot_ang),math.cos(robot_ang),0],[0,0,1]])\n",
    "    T = np.dot(T_rot,T_trans)\n",
    "    res = np.dot(T, np.array([Point_xr,Point_yr,1]))\n",
    "    ang = np.arctan2(res[1],res[0])\n",
    "    return res[0],res[1], ang"
   ]
  },
  {
   "cell_type": "markdown",
   "metadata": {},
   "source": [
    "### 1.3 Kinematic Model"
   ]
  },
  {
   "cell_type": "code",
   "execution_count": 5,
   "metadata": {},
   "outputs": [],
   "source": [
    "class Kinematic_model:\n",
    "    def __init__(self,robot):\n",
    "        self.robot = robot\n",
    "        # Motor handles\n",
    "        ret1, self.motorLeft = vrep.simxGetObjectHandle(self.robot.clientID, \"Pioneer_p3dx_leftMotor\", vrep.simx_opmode_oneshot_wait)\n",
    "        ret2, self.motorRight = vrep.simxGetObjectHandle(self.robot.clientID, \"Pioneer_p3dx_rightMotor\", vrep.simx_opmode_oneshot_wait)\n",
    "        # Calculate axis distances\n",
    "        res, left_handle = vrep.simxGetObjectHandle(robot.clientID, \"Pioneer_p3dx_leftMotor\", vrep.simx_opmode_oneshot_wait)\n",
    "        ret, lpos = vrep.simxGetObjectPosition(robot.clientID, left_handle, robot.robot_handle, vrep.simx_opmode_oneshot_wait)\n",
    "        res, right_handle = vrep.simxGetObjectHandle(robot.clientID, \"Pioneer_p3dx_rightMotor\", vrep.simx_opmode_oneshot_wait)\n",
    "        ret, rpos = vrep.simxGetObjectPosition(robot.clientID, right_handle, robot.robot_handle, vrep.simx_opmode_oneshot_wait)\n",
    "        # axis\n",
    "        self.l = (abs(lpos[1]) + abs(rpos[1]))/2\n",
    "        # Verify robot position on start\n",
    "        pos = self.robot.get_current_position()\n",
    "        self.initial_pos_x = pos[0]\n",
    "        self.initial_pos_y = pos[1]\n",
    "        orientation = self.robot.get_current_orientation()\n",
    "        self.initial_orientation = orientation[2]\n",
    "        # Record both initial position e actual position\n",
    "        self.enc_global_x = self.initial_pos_x\n",
    "        self.enc_global_y = self.initial_pos_y\n",
    "        self.enc_Theta = self.initial_orientation\n",
    "        self.time_global_x = self.initial_pos_x\n",
    "        self.time_global_y = self.initial_pos_y\n",
    "        self.time_Theta = self.initial_orientation\n",
    "    \n",
    "        # Store List of position points\n",
    "        self.enc_path = []\n",
    "        self.time_path = []\n",
    "        self.true_path = []\n",
    "        self.update_paths()    \n",
    "        #Initial wheel encoders position\n",
    "        self.jL = self.current_encoder_left()\n",
    "        self.jR = self.current_encoder_right()\n",
    "        #Calculation interval\n",
    "        self.compute_interval = 0.1\n",
    "        self.previous_timestamp = 0\n",
    "        \n",
    "    def update_paths(self):\n",
    "        self.enc_path.append([self.enc_global_x, self.enc_global_y, self.enc_Theta])\n",
    "        self.time_path.append([self.time_global_x, self.time_global_y, self.time_Theta])\n",
    "        orientation = self.robot.get_current_orientation()\n",
    "        true_theta = orientation[2]\n",
    "        current_position = self.true_global_position()\n",
    "        self.true_path.append([current_position[0], current_position[1], true_theta])\n",
    "    \n",
    "    def true_global_position(self):\n",
    "        pos = self.robot.get_current_position()\n",
    "        return pos[0],pos[1]\n",
    "    \n",
    "    def enc_global_position(self):\n",
    "        return self.enc_global_x, self.enc_global_y, self.enc_Theta\n",
    "    \n",
    "    def time_global_position(self):\n",
    "        return self.time_global_x, self.time_global_y, self.time_Theta\n",
    "    \n",
    "    ##Esta seção esta relacionada ao calculo da posição levando em consideração os encoders\n",
    "    def current_encoder_left(self):\n",
    "        ret,jL = vrep.simxGetJointPosition(self.robot.clientID,self.motorLeft,vrep.simx_opmode_oneshot_wait)\n",
    "        return jL\n",
    "    \n",
    "    def current_encoder_right(self):\n",
    "        ret, jR = vrep.simxGetJointPosition(self.robot.clientID,self.motorRight,vrep.simx_opmode_oneshot_wait)\n",
    "        return jR    \n",
    "    \n",
    "    #Phi speed of rotation of wheels\n",
    "    def Xr(self, Phi_right, Phi_left):\n",
    "        r = self.robot.WHEEL_RADIUS\n",
    "        Xr = (r*Phi_left/2) + (r*Phi_right/2)\n",
    "        return Xr\n",
    "    \n",
    "    def Theta_r(self, Phi_right, Phi_left):\n",
    "        r = self.robot.WHEEL_RADIUS\n",
    "        Tr = r*Phi_right/(2*self.l) - r*Phi_left/(2*self.l) \n",
    "        return Tr\n",
    "        \n",
    "    def speed_model(self,Phi_right,Phi_left):\n",
    "        #Se formos considerar que o eixo das rodas do robo está deslocado do eixo x\n",
    "        #return np.array([self.Xr(Phi_right,Phi_left),self.Theta_r(Phi_right,Phi_left)*self.l2,self.Theta_r(Phi_right,Phi_left)])\n",
    "        return np.array([self.Xr(Phi_right,Phi_left),0,self.Theta_r(Phi_right,Phi_left)])\n",
    "        \n",
    "    def inverse_rotation_matrix(self, ang):\n",
    "        Trot = np.array([[math.cos(ang), -math.sin(ang), 0], [math.sin(ang), math.cos(ang), 0], [0,0,1]])\n",
    "        return Trot\n",
    "    \n",
    "    def locomotion_global(self, ang, Phi_right, Phi_left):\n",
    "        return np.dot(self.inverse_rotation_matrix(ang),self.speed_model(Phi_right,Phi_left))\n",
    "    \n",
    "    def compute_with_encoder(self):\n",
    "        dxR = self.current_encoder_right() - self.jR\n",
    "        dxL = self.current_encoder_left() - self.jL\n",
    "        if (dxL>=0):\n",
    "            dxL=math.fmod(dxL+math.pi,2*math.pi)-math.pi\n",
    "        else:\n",
    "            dxL=math.fmod(dxL-math.pi,2*math.pi)+math.pi\n",
    "        if (dxR>=0):\n",
    "            dxR=math.fmod(dxR+math.pi,2*math.pi)-math.pi\n",
    "        else:\n",
    "            dxR=math.fmod(dxR-math.pi,2*math.pi)+math.pi\n",
    "        qsi = self.locomotion_global(self.enc_Theta,dxR, dxL)\n",
    "        #Atualiza a posição global\n",
    "        self.enc_global_x = self.enc_global_x + qsi[0]\n",
    "        self.enc_global_y = self.enc_global_y + qsi[1]\n",
    "        self.enc_Theta = self.enc_Theta + qsi[2]\n",
    "        #Atualiza a posição dos encoders\n",
    "        self.jR = self.current_encoder_right()\n",
    "        self.jL = self.current_encoder_left()\n",
    "    ##Fim da seção relacionada ao calculo da posição levando em consideração os encoders        \n",
    "    \n",
    "    def compute_with_time(self, Phi_right, Phi_left):\n",
    "        #Calculo do delta S\n",
    "        r = self.robot.WHEEL_RADIUS\n",
    "        Vr = r*Phi_right\n",
    "        Vl = r*Phi_left\n",
    "        current_timestamp = datetime.timestamp(datetime.now())\n",
    "        Delta_t = current_timestamp - self.previous_timestamp\n",
    "        #atualiza timestamp imediatamente\n",
    "\n",
    "        self.previous_timestamp = current_timestamp\n",
    "        \n",
    "        Delta_s = (Vr + Vl)*Delta_t/2  \n",
    "        Delta_Theta = (Vr - Vl)*Delta_t/(2*self.l)\n",
    "    \n",
    "        self.time_global_x = self.time_global_x + Delta_s*math.cos(self.time_Theta + Delta_Theta/2)\n",
    "        self.time_global_y = self.time_global_y + Delta_s*math.sin(self.time_Theta + Delta_Theta/2)\n",
    "        self.time_Theta = self.time_Theta + Delta_Theta\n",
    "    \n",
    "    def move(self,Phi_right, Phi_left,seconds): #velocidade em rad/s\n",
    "        #Vamos fixar um tempo de 500ms para computar as distâncias\n",
    "        for step in range(int(seconds/self.compute_interval)):\n",
    "            #self.compute()\n",
    "            self.robot.set_right_velocity(Phi_right)\n",
    "            self.robot.set_left_velocity(Phi_left)\n",
    "            time.sleep(self.compute_interval)\n",
    "            self.compute_with_encoder()\n",
    "            self.compute_with_time(Phi_right, Phi_left)\n",
    "            self.update_paths()\n",
    "        self.robot.stop()\n",
    "        self.timestamp = 0\n",
    "        \n",
    "    def turnGlobal(self, input_ang):\n",
    "        orientation = self.robot.get_current_orientation()[2]\n",
    "        ang = input_ang\n",
    "        if (orientation < -math.pi):\n",
    "            orientation = orientation + 2*math.pi\n",
    "        if (orientation > math.pi) :\n",
    "            orientation = orientation - 2*math.pi\n",
    "        if (ang < -math.pi):\n",
    "            ang = ang + 2*math.pi\n",
    "        if (ang > math.pi) :\n",
    "            ang = ang - 2*math.pi\n",
    "            \n",
    "        vel = 0.2\n",
    "        new_orientation = ang - orientation\n",
    "        if (new_orientation > math.pi):\n",
    "            new_orientation = new_orientation -2*math.pi\n",
    "        if (new_orientation < -math.pi):\n",
    "            new_orientation = new_orientation +2*math.pi\n",
    "        if (new_orientation > 0) :\n",
    "            vel=-vel\n",
    "        self.robot.set_right_velocity(vel)\n",
    "        self.robot.set_left_velocity(-vel)\n",
    "        tolerance = math.pi/90\n",
    "        if ((ang - orientation) > tolerance) or ((ang - orientation) < -tolerance):\n",
    "            orientation = self.robot.get_current_orientation()[2]\n",
    "            if (orientation < 0):\n",
    "                orientation = orientation + 2*math.pi\n",
    "            #sys.stdout.write(\"\\r\" + \"Diff \" + str((ang - orientation)) + \" orientation \" + str(orientation))\n",
    "            #sys.stdout.flush()\n",
    "        return vel, -vel\n",
    "\n",
    "    def ICR_left(self, Phi_left, R, seconds):\n",
    "        Phi_right = Phi_left*(R + self.l)/(R - self.l)\n",
    "        print(\"ICR_left Phi_r {} Phi_l {}\".format(Phi_right, Phi_left))\n",
    "        self.move(Phi_right, Phi_left, seconds)\n",
    "    \n",
    "    def ICR_right(self, Phi_right, R, seconds):\n",
    "        Phi_left = Phi_right*(R + self.l)/(R - self.l)\n",
    "        print(\"ICR_right Phi_r {} Phi_l {}\".format(Phi_right, Phi_left))\n",
    "        self.move(Phi_right, Phi_left, seconds)\n",
    "  \n",
    "    def plot_paths(self):\n",
    "        enc_path = np.array(self.enc_path)\n",
    "        time_path = np.array(self.time_path)\n",
    "        true_path = np.array(self.true_path)\n",
    "        \n",
    "        fig, ax = plt.subplots(nrows=1, ncols=2, figsize=(10, 5))\n",
    "        ax[0].set_title('Odometry')\n",
    "        ax[0].scatter(enc_path[:,0], enc_path[:,1], 5, c='b', marker='o')\n",
    "        #ax[1].scatter(time_path[:,0], time_path[:,1], 5, c='g', marker='o')\n",
    "        ax[1].set_title(\"True Path\")\n",
    "        ax[1].scatter(true_path[:,0], true_path[:,1], 5, c='r', marker='o')"
   ]
  },
  {
   "cell_type": "markdown",
   "metadata": {},
   "source": [
    "### 1.4 Point Cloud"
   ]
  },
  {
   "cell_type": "markdown",
   "metadata": {},
   "source": [
    "In this class we create a point cloud from distances provided by LIDAR and SONAR sensors based on robot coordination and transformed in global coordination (over translation and rotation method. After gettting the points, we plot them on a graphic."
   ]
  },
  {
   "cell_type": "code",
   "execution_count": 6,
   "metadata": {},
   "outputs": [],
   "source": [
    "class PointCloud():\n",
    "    def __init__(self, robot, us_sensors, laser_sensor):\n",
    "        self.robot = robot\n",
    "        self.us_sensors = us_sensors\n",
    "        self.laser_sensor = laser_sensor\n",
    "        \n",
    "        self.ultrassonic_points = []\n",
    "        self.laser_points = []\n",
    "        self.robot_points = []\n",
    "    \n",
    "    def update(self):\n",
    "        #Store the actual position\n",
    "        robot_x = self.robot.get_current_position()[0]\n",
    "        robot_y = self.robot.get_current_position()[1]\n",
    "        robot_ang = self.robot.get_current_orientation()[2]\n",
    "        \n",
    "        self.robot_points.append([robot_x,robot_y])\n",
    "\n",
    "        # Update the point cloud data using LIDAR\n",
    "        self.laser_sensor.update_robot_frame_reading()\n",
    "        for pointx, pointy in zip(self.laser_sensor.laser_x, self.laser_sensor.laser_y):\n",
    "            x,y = toGlobal(robot_x, robot_y,robot_ang, pointx, pointy)\n",
    "            self.laser_points.append([x,y])\n",
    "\n",
    "        # Update the point cloud data using SONAR\n",
    "        self.us_sensors.update_robot_frame_reading()\n",
    "        for pointx, pointy in zip(self.us_sensors.data['robot_frame_reading'][:,0], self.us_sensors.data['robot_frame_reading'][:,1]):\n",
    "            x,y = toGlobal(robot_x, robot_y,robot_ang, pointx, pointy)\n",
    "            self.ultrassonic_points.append([x,y])\n",
    "    \n",
    "    def plot_point_cloud(self):\n",
    "        #Convert point cloud into array\n",
    "        ultrassonic_point_array = np.array(self.ultrassonic_points)\n",
    "        laser_point_array = np.array(self.laser_points)\n",
    "        robot_path = np.array(self.robot_points)\n",
    "\n",
    "        fig, ax = plt.subplots(nrows=1, ncols=2, figsize=(15, 5))\n",
    "        # Get the centre of robot\n",
    "        ax[0].scatter(robot_path[:,0], robot_path[:,1], 40, c='b', marker='o')\n",
    "        pass_count = 0\n",
    "        for x, y in zip(robot_path[:,0], robot_path[:,1]):\n",
    "            ax[0].text(x, y, str(pass_count), color=\"black\", fontsize=12)\n",
    "            pass_count += 1\n",
    "        # Plot SONAR Point Cloud\n",
    "        ax[0].scatter(ultrassonic_point_array[:,0],ultrassonic_point_array[:,1], 10, c='magenta', marker='.')\n",
    "\n",
    "        # Plot the centre of Robot\n",
    "        ax[1].scatter(robot_path[:,0], robot_path[:,1], 40, c='b', marker='o')\n",
    "        pass_count = 0\n",
    "        for x, y in zip(robot_path[:,0], robot_path[:,1]):\n",
    "            ax[1].text(x, y, str(pass_count), color=\"black\", fontsize=12)\n",
    "            pass_count += 1\n",
    "        # Plot LIDAR Point Cloud\n",
    "        ax[1].scatter(laser_point_array[:,0],laser_point_array[:,1], 10, c='r', marker='.')\n",
    "\n",
    "        plt.show()"
   ]
  },
  {
   "cell_type": "markdown",
   "metadata": {},
   "source": [
    "## 2 - Code of Project 2"
   ]
  },
  {
   "cell_type": "markdown",
   "metadata": {},
   "source": [
    "The general objective of this work is to build, on the V-REP robotic simulator, a set of behaviors to control a Pioneer P3-DX robot.\n",
    "3 Behaviours were developed:<br>\n",
    "    <blockquote>2.1 AvoidObstacle<br>\n",
    "    2.2 WallFollow<br>\n",
    "    2.3 GoToGoal</blockquote>"
   ]
  },
  {
   "cell_type": "markdown",
   "metadata": {},
   "source": [
    "### 2.1 - AvoidObstacle"
   ]
  },
  {
   "cell_type": "markdown",
   "metadata": {},
   "source": [
    "This behaviour was implemented using Fuzzy logic. In other to correctlly demonstrate the behaviour, a simple wandering algorithim is simulated bellow"
   ]
  },
  {
   "cell_type": "markdown",
   "metadata": {},
   "source": [
    "Start robot and test the 8 frontal sonar sensors."
   ]
  },
  {
   "cell_type": "code",
   "execution_count": 17,
   "metadata": {
    "scrolled": true
   },
   "outputs": [
    {
     "name": "stdout",
     "output_type": "stream",
     "text": [
      "Connected to remoteApi server.\n",
      "\u001b[92m Pioneer_p3dx_ultrasonicSensor1 connected.\n",
      "\u001b[92m Pioneer_p3dx_ultrasonicSensor2 connected.\n",
      "\u001b[92m Pioneer_p3dx_ultrasonicSensor3 connected.\n",
      "\u001b[92m Pioneer_p3dx_ultrasonicSensor4 connected.\n",
      "\u001b[92m Pioneer_p3dx_ultrasonicSensor5 connected.\n",
      "\u001b[92m Pioneer_p3dx_ultrasonicSensor6 connected.\n",
      "\u001b[92m Pioneer_p3dx_ultrasonicSensor7 connected.\n",
      "\u001b[92m Pioneer_p3dx_ultrasonicSensor8 connected.\n",
      "\u001b[92m Pioneer_p3dx_ultrasonicSensor9 connected.\n",
      "\u001b[92m Pioneer_p3dx_ultrasonicSensor10 connected.\n",
      "\u001b[92m Pioneer_p3dx_ultrasonicSensor11 connected.\n",
      "\u001b[92m Pioneer_p3dx_ultrasonicSensor12 connected.\n",
      "\u001b[92m Pioneer_p3dx_ultrasonicSensor13 connected.\n",
      "\u001b[92m Pioneer_p3dx_ultrasonicSensor14 connected.\n",
      "\u001b[92m Pioneer_p3dx_ultrasonicSensor15 connected.\n",
      "\u001b[92m Pioneer_p3dx_ultrasonicSensor16 connected.\n",
      "\u001b[92m Vision sensor connected.\n",
      "\u001b[92m Laser connected.\n",
      "\u001b[92m Left motor connected.\n",
      "\u001b[92m Right motor connected.\n",
      "\u001b[92m Robot connected.\n",
      "[5.0, 0.5305366516113281, 0.383640319108963, 0.3320760428905487, 0.33534932136535645, 0.3444221019744873, 0.42611172795295715, 0.3888413608074188]\n"
     ]
    }
   ],
   "source": [
    "robot = Robot()\n",
    "distances = robot.read_ultrassonic_sensors()\n",
    "frontal = distances[:8]\n",
    "print(frontal)"
   ]
  },
  {
   "cell_type": "markdown",
   "metadata": {},
   "source": [
    "First, bellow Fuzzyfication function was implemented, receiving as its input the reading of the sonar sensors. The eight frontal sonar sensors was classified into 3 groups: left sensors (__x_l:__ 1 to 3 sensors); forward (__x_f:__ 3 to 6 sensors) and; right (__x_r:__ 6 to 8 sensors). For fuzzification we adopted the minimal value each one.\n",
    "\n",
    "We choose 0.1m as __near__ and values between 0.1 and 0.4m as __almost near__. Far value was considered irrelevant in results.\n",
    "\n",
    "The function print a graphic result if you set the __\\_print__ value to __1__."
   ]
  },
  {
   "cell_type": "code",
   "execution_count": 18,
   "metadata": {
    "scrolled": true
   },
   "outputs": [
    {
     "name": "stdout",
     "output_type": "stream",
     "text": [
      "Forward sensors fuzzyfication: 0.22641319036483767\n",
      "Right sensors fuzzyfication: -1\n"
     ]
    },
    {
     "data": {
      "image/png": "[encoded data removed]",
      "text/plain": [
       "<Figure size 432x288 with 1 Axes>"
      ]
     },
     "metadata": {
      "needs_background": "light"
     },
     "output_type": "display_data"
    }
   ],
   "source": [
    "def sensor_fuzzyfication(frontal_sensors,_print=0, _near=0.1, _almost_near=0.4) :\n",
    "    x_v = np.arange(-0.1, 5.1, 0.01)\n",
    "    t_close = [-0.1, -0.1, _near, _almost_near]\n",
    "    mfx_close = fuzz.trapmf(x_v, t_close)\n",
    "    #t_far = [0.3, .55, 5, 5]                /// Results are irrelevant\n",
    "    #mfx_far = fuzz.trapmf(x_v, t_far)       /// Results are irrelevant\n",
    "    x_l = np.array([round(min(frontal_sensors[:2]))])    # Left sensors\n",
    "    x_f = np.array([min(frontal_sensors[3:5])])          # Forward Sensors\n",
    "    x_r = np.array([round(min(frontal_sensors[6:8]),1)]) # Right sensors\n",
    "    y_l = np.array([-1]) # Null value\n",
    "    y_f = np.array([-1]) # Null value\n",
    "    y_r = np.array([-1]) # Null value\n",
    "    if(x_l[0] < _almost_near) :\n",
    "        y_l = fuzz.trapmf(x_l, t_close) # Return fuzzy value for left sensors\n",
    "    if(x_f[0] < _almost_near) :\n",
    "        y_f = fuzz.trapmf(x_f, t_close) # Return fuzzy value for forward sensors\n",
    "    if(x_r[0] < _almost_near) :\n",
    "        y_r = fuzz.trapmf(x_r, t_close) # Return fuzzy value for right sensors\n",
    "    \n",
    "    # Just for print mode\n",
    "    if (_print > 0) : \n",
    "        plt.plot(x_v, mfx_close,label=\"Near\")\n",
    "        colors = ['tab:black','tab:cyan','tab:purple','tab:green','tab:red','tab:brown','tab:olive','tab:gray','tab:pink']\n",
    "        if(x_l[0] < 1) : plt.vlines(x_l, 0, y_l, label=\"min_left\",color=colors[1]); print(\"Left sensors fuzzyfication: \"+str(y_l[0]))\n",
    "        if(x_f[0] < 1) : plt.vlines(x_f, 0, y_f, label=\"min_forward\",color=colors[2]); print(\"Forward sensors fuzzyfication: \"+str(y_f[0]))\n",
    "        if(x_r[0] < 1) : plt.vlines(x_r[0], 0, y_r, label=\"min_right\",color=colors[3]); print(\"Right sensors fuzzyfication: \"+str(y_r[0]))\n",
    "        plt.ylabel('Fuzzy value')\n",
    "        plt.xlabel('Proximity (m)')\n",
    "        plt.ylim(-0.1, 1.1)\n",
    "        plt.legend(loc=1)\n",
    "        plt.draw()\n",
    "        plt.pause(0.05)\n",
    "    \n",
    "    # Return useful value: used X range; Y result values and; near trapezoidal.\n",
    "    return x_v, y_l, y_f, y_r, t_close\n",
    "\n",
    "fuzzy = sensor_fuzzyfication(frontal,1)"
   ]
  },
  {
   "cell_type": "markdown",
   "metadata": {},
   "source": [
    "Then, the object avoidance will be given by the defuzzyfication function bellow, acting in oposition to the proximitiy sensor. The function starts an initial verification if the frontal sensors minimal value is grater than 0.4m (our almost near value). In this case it returns the angular velocity equal 2 to both wheels. Else, it goes to defuzzification angular velocity."
   ]
  },
  {
   "cell_type": "code",
   "execution_count": 19,
   "metadata": {},
   "outputs": [
    {
     "name": "stdout",
     "output_type": "stream",
     "text": [
      "Distance Left: 0.383640319108963\n",
      "Distance Forward: 0.3320760428905487\n",
      "Distance Right: 0.3444221019744873\n",
      "Collision: 11.0°\n"
     ]
    },
    {
     "name": "stderr",
     "output_type": "stream",
     "text": [
      "c:\\users\\supra\\appdata\\local\\programs\\python\\python37-32\\lib\\site-packages\\skfuzzy\\control\\fuzzyvariable.py:122: UserWarning: Matplotlib is currently using module://ipykernel.pylab.backend_inline, which is a non-GUI backend, so cannot show the figure.\n",
      "  fig.show()\n"
     ]
    },
    {
     "data": {
      "image/png": "[encoded data removed]",
      "text/plain": [
       "<Figure size 432x288 with 1 Axes>"
      ]
     },
     "metadata": {
      "needs_background": "light"
     },
     "output_type": "display_data"
    },
    {
     "name": "stdout",
     "output_type": "stream",
     "text": [
      "Wheel left angular velocity: 1.12\n",
      "Wheel right angular velocity: 2.0\n"
     ]
    },
    {
     "data": {
      "text/plain": [
       "(0.56, 1.0)"
      ]
     },
     "execution_count": 19,
     "metadata": {},
     "output_type": "execute_result"
    }
   ],
   "source": [
    "def avoidByDefuzzyfication(frontal_sensors,fuzzy_results, _print=0) :\n",
    "    if (min(frontal_sensors) > fuzzy_results[4][3]) : # in case all frontal sensor is grater than almost near\n",
    "        velL = 2\n",
    "        velR = 2\n",
    "        return velL, velR           # Stop function and return equal values. \n",
    "                                    # This condition avoid a defuzzy error obtaining a null crisp value\n",
    "    y_v = np.arange(-95, 95, 1)\n",
    "    x_v = fuzzy_results[0]\n",
    "\n",
    "    mfy_left = fuzz.trimf(y_v, [-95, -95,-10])       # Values to get  a left collision probabillity\n",
    "    mfy_forward = fuzz.trapmf(y_v, [-60,-30, 30,60]) # Values to get  a forward collision probabillity\n",
    "    mfy_right = fuzz.trimf(y_v, [10,95,95])          # Values to get  a right collision probabillity\n",
    "\n",
    "    proximityL = ctrl.Antecedent(x_v, 'proximityL')\n",
    "    proximityR = ctrl.Antecedent(x_v, 'proximityR')\n",
    "    proximityF = ctrl.Antecedent(x_v, 'proximityF')\n",
    "    prob = ctrl.Consequent(y_v, 'Collision')         # Collision probabillity\n",
    "\n",
    "    proximity = fuzz.trapmf(x_v,[-0.1, -0.1, fuzzy_results[4][2], fuzzy_results[4][3]])\n",
    "    proximityL['near'] = proximity\n",
    "    proximityR['near'] = proximity\n",
    "    proximityF['near'] = proximity\n",
    "    prob['Left'] = mfy_left\n",
    "    prob['Forward'] = mfy_forward\n",
    "    prob['Right'] = mfy_right\n",
    "\n",
    "\n",
    "    # This method define 3 rules to get our fuzzy set\n",
    "    rule1 = ctrl.Rule(proximityL['near'] , prob['Left'])\n",
    "    rule2 = ctrl.Rule(proximityF['near'] , prob['Forward'])\n",
    "    rule3 = ctrl.Rule(proximityR['near'], prob['Right'])\n",
    "\n",
    "    vel_ctrl = ctrl.ControlSystem([rule1, rule2, rule3]) # Defuzzy rules for collision possibility\n",
    "    vel = ctrl.ControlSystemSimulation(vel_ctrl)\n",
    "\n",
    "    vel.input['proximityL'] = min(frontal_sensors[:3])\n",
    "    vel.input['proximityR'] = min(frontal_sensors[5:8])\n",
    "    vel.input['proximityF'] = min(frontal_sensors[2:6])\n",
    "\n",
    "    if (_print > 0) :\n",
    "        # Print minimal sensor distances\n",
    "        print(\"Distance Left: \"+str(min(frontal[:3])))\n",
    "        print(\"Distance Forward: \"+str(min(frontal[2:6])))\n",
    "        print(\"Distance Right: \"+str(min(frontal[5:8])))\n",
    "\n",
    "    vel_output = 1\n",
    "\n",
    "    if (min(frontal_sensors) <= 1):\n",
    "        vel.compute()\n",
    "        # Using Mamdani's method we output a fuzzy set \n",
    "        # and obtain a crisp value from centroid\n",
    "        \n",
    "        vel_output = round(vel.output['Collision'])   # Collision angle probabillity crisp value\n",
    "        Collision = \"Collision: \"+str(vel_output)+\"°\"\n",
    "    else: Collision = \"No collision\"\n",
    "    if (_print > 0) :\n",
    "        print(Collision)\n",
    "        prob.view(sim=vel)\n",
    "    \n",
    "    x_w = np.arange(-100,100,0.1)\n",
    "    wlv = [-100, -100,0,50]    # Fuzzify crisp value to obtain left wheel angular velocity\n",
    "    wrv = [0,10,100,100]       # Fuzzify crisp value to obtain right wheel angular velocity\n",
    "    # We use diferent trapezoidal graphics for the wheels to avoid equal speed in frontal collision possibility\n",
    "    \n",
    "    x = np.array([vel_output])\n",
    "    y_l=fuzz.trapmf(x, wlv)    # Fuzzy value for left wheel\n",
    "    y_r=fuzz.trapmf(x, wrv)    # Fuzzy value for right wheel\n",
    "    if (_print > 0) :\n",
    "        #Print graphics\n",
    "        WheelL = fuzz.trapmf(x_w, wlv)\n",
    "        WheelR = fuzz.trapmf(x_w, wrv)\n",
    "        plt.plot(x_w, WheelL,label=\"Wheel Left\")\n",
    "        plt.plot(x_w, WheelR,label=\"Wheel Right\")\n",
    "        plt.vlines(x, 0, y_l, label=\"Collision\")\n",
    "        plt.vlines(x, 0, y_r)\n",
    "        plt.legend()\n",
    "        plt.draw()\n",
    "        plt.pause(0.05)\n",
    "        print(\"Wheel left angular velocity: \"+str((y_l[0]-0.5)/0.25))\n",
    "        print(\"Wheel right angular velocity: \"+str((y_r[0]-0.5)/0.25))\n",
    "    \n",
    "    velL = (y_l[0]-0.5)/0.5    #Convert Fuzzy value into angular speed for left wheel\n",
    "    velR = (y_r[0]-0.5)/0.5    #Convert Fuzzy value into angular speed for right wheel\n",
    "\n",
    "    return velL, velR\n",
    "avoidByDefuzzyfication(frontal,fuzzy,1)"
   ]
  },
  {
   "cell_type": "markdown",
   "metadata": {},
   "source": [
    "Our mobile robot class, implementing the fuzzy controller will be given by:"
   ]
  },
  {
   "cell_type": "code",
   "execution_count": 10,
   "metadata": {},
   "outputs": [
    {
     "name": "stdout",
     "output_type": "stream",
     "text": [
      "Connected to remoteApi server.\n",
      "\u001b[92m Pioneer_p3dx_ultrasonicSensor1 connected.\n",
      "\u001b[92m Pioneer_p3dx_ultrasonicSensor2 connected.\n",
      "\u001b[92m Pioneer_p3dx_ultrasonicSensor3 connected.\n",
      "\u001b[92m Pioneer_p3dx_ultrasonicSensor4 connected.\n",
      "\u001b[92m Pioneer_p3dx_ultrasonicSensor5 connected.\n",
      "\u001b[92m Pioneer_p3dx_ultrasonicSensor6 connected.\n",
      "\u001b[92m Pioneer_p3dx_ultrasonicSensor7 connected.\n",
      "\u001b[92m Pioneer_p3dx_ultrasonicSensor8 connected.\n",
      "\u001b[92m Pioneer_p3dx_ultrasonicSensor9 connected.\n",
      "\u001b[92m Pioneer_p3dx_ultrasonicSensor10 connected.\n",
      "\u001b[92m Pioneer_p3dx_ultrasonicSensor11 connected.\n",
      "\u001b[92m Pioneer_p3dx_ultrasonicSensor12 connected.\n",
      "\u001b[92m Pioneer_p3dx_ultrasonicSensor13 connected.\n",
      "\u001b[92m Pioneer_p3dx_ultrasonicSensor14 connected.\n",
      "\u001b[92m Pioneer_p3dx_ultrasonicSensor15 connected.\n",
      "\u001b[92m Pioneer_p3dx_ultrasonicSensor16 connected.\n",
      "\u001b[92m Vision sensor connected.\n",
      "\u001b[92m Laser connected.\n",
      "\u001b[92m Left motor connected.\n",
      "\u001b[92m Right motor connected.\n",
      "\u001b[92m Robot connected.\n"
     ]
    }
   ],
   "source": [
    "class MobileRobotAvoid():\n",
    "    def __init__(self):\n",
    "        self.robot = Robot()\n",
    "        self.kinematicModel = Kinematic_model(self.robot)\n",
    "        self.us_sensors = Us_sensor(self.robot)\n",
    "        self.laser_sensors = Laser_sensor(self.robot)\n",
    "        self.compute_interval = 0.2\n",
    "        \n",
    "    def control(self, frontal):\n",
    "        fuzzy = sensor_fuzzyfication(frontal)\n",
    "        avoid = avoidByDefuzzyfication(frontal,fuzzy)    # Defuzzyfication\n",
    "        return avoid[0], avoid[1]                        # Return angular speed from the sensors\n",
    "\n",
    "    def startWander(self, seconds):\n",
    "        \n",
    "        for step in range(int(seconds/self.compute_interval)): # Repeat avoidance each 0.2s (self.compute_interval)\n",
    "            Phi_l, Phi_r = self.control(self.robot.read_ultrassonic_sensors()[:8]) # Get angular speed from avoidance function\n",
    "            self.kinematicModel.move(Phi_r, Phi_l,self.compute_interval)           # Apply angular speed to kinematic model\n",
    "            \n",
    "mr = MobileRobotAvoid()"
   ]
  },
  {
   "cell_type": "markdown",
   "metadata": {},
   "source": [
    "Bellow, test startWander function for 50s."
   ]
  },
  {
   "cell_type": "code",
   "execution_count": null,
   "metadata": {},
   "outputs": [],
   "source": [
    "mr.startWander(50)"
   ]
  },
  {
   "cell_type": "markdown",
   "metadata": {},
   "source": [
    "__Conclusion:__ We tested __startWander__ function for 60 minutes and the robot didn't collide or stop, avoiding each obstacle."
   ]
  },
  {
   "cell_type": "markdown",
   "metadata": {},
   "source": [
    "### 2.2 - Wall Follow"
   ]
  },
  {
   "cell_type": "markdown",
   "metadata": {},
   "source": [
    "This behaviour was implemented using a PID controller. In other to demonstrate the behaviour, two classes were created.One of the PID controller itselft, and the other a Robot Class, which uses the previous work of Project 1 kinematic model and sensors."
   ]
  },
  {
   "cell_type": "markdown",
   "metadata": {},
   "source": [
    "#### 2.2.1 PID Controller"
   ]
  },
  {
   "cell_type": "markdown",
   "metadata": {},
   "source": [
    "The PID gains were obtained experimentally. Both Integral and Derivative did not performed well on hour case, specially during the countour of the couch. For P gains lower than 1, the robot is too slow to correct its trajectory and ocasionally the distance of the wall becomes greather than 1 meter and the robot stops following the wall. If the P gain is too high, the controller correction is too great and the robot overshots, turning around its own axis trying to go back to the wall, which causes the left sensor to loose the wall reading.\n",
    "We can perceive here that with the controller alone is very dificult to guide the robot. Thus, there is a need for a behaviour coordination strategy."
   ]
  },
  {
   "cell_type": "code",
   "execution_count": 11,
   "metadata": {},
   "outputs": [],
   "source": [
    "class PID():\n",
    "    def __init__(self, P=1, I=0.0, D=0, Derivator=0, Integrator=0, Integrator_max=500, Integrator_min=-500):\n",
    "        self.Kp=P\n",
    "        self.Ki=I\n",
    "        self.Kd=D\n",
    "        self.Derivator=Derivator\n",
    "        self.Integrator=Integrator\n",
    "        self.Integrator_max=Integrator_max\n",
    "        self.Integrator_min=Integrator_min\n",
    "        self.set_point=0.0\n",
    "        self.error=0.0\n",
    "        self.IntegralWindow = collections.deque(maxlen=10)\n",
    "        \n",
    "    def update(self,current_value):\n",
    "        self.error = self.set_point - current_value\n",
    "        self.P_value = self.Kp * self.error\n",
    "        self.D_value = self.Kd * ( self.error - self.Derivator)\n",
    "        self.Derivator = self.error\n",
    "        self.IntegralWindow.append(self.error)\n",
    "        self.Integrator = sum(self.IntegralWindow)\n",
    "\n",
    "        if self.Integrator > self.Integrator_max:\n",
    "            self.Integrator = self.Integrator_max\n",
    "        elif self.Integrator < self.Integrator_min:\n",
    "            self.Integrator = self.Integrator_min\n",
    "\n",
    "        self.I_value = self.Integrator * self.Ki\n",
    "\n",
    "        PID = self.P_value + self.I_value + self.D_value\n",
    "        #print(\"PID cv \",current_value ,\" sp \", self.set_point ,\" error \", self.error ,\" pid \", PID)\n",
    "        sys.stdout.write(\"\\r\" + \"PID cv \" + str(current_value) + \" sp \" + str(self.set_point) + \" error \" + str(self.error) + \" pid \" + str(PID))\n",
    "        sys.stdout.flush()\n",
    "        return PID\n",
    "\n",
    "    def setPoint(self,set_point):\n",
    "        self.set_point = set_point\n",
    "        self.Integrator=0\n",
    "        self.Derivator=0"
   ]
  },
  {
   "cell_type": "code",
   "execution_count": 12,
   "metadata": {
    "scrolled": true
   },
   "outputs": [
    {
     "name": "stdout",
     "output_type": "stream",
     "text": [
      "Connected to remoteApi server.\n",
      "\u001b[92m Pioneer_p3dx_ultrasonicSensor1 connected.\n",
      "\u001b[92m Pioneer_p3dx_ultrasonicSensor2 connected.\n",
      "\u001b[92m Pioneer_p3dx_ultrasonicSensor3 connected.\n",
      "\u001b[92m Pioneer_p3dx_ultrasonicSensor4 connected.\n",
      "\u001b[92m Pioneer_p3dx_ultrasonicSensor5 connected.\n",
      "\u001b[92m Pioneer_p3dx_ultrasonicSensor6 connected.\n",
      "\u001b[92m Pioneer_p3dx_ultrasonicSensor7 connected.\n",
      "\u001b[92m Pioneer_p3dx_ultrasonicSensor8 connected.\n",
      "\u001b[92m Pioneer_p3dx_ultrasonicSensor9 connected.\n",
      "\u001b[92m Pioneer_p3dx_ultrasonicSensor10 connected.\n",
      "\u001b[92m Pioneer_p3dx_ultrasonicSensor11 connected.\n",
      "\u001b[92m Pioneer_p3dx_ultrasonicSensor12 connected.\n",
      "\u001b[92m Pioneer_p3dx_ultrasonicSensor13 connected.\n",
      "\u001b[92m Pioneer_p3dx_ultrasonicSensor14 connected.\n",
      "\u001b[92m Pioneer_p3dx_ultrasonicSensor15 connected.\n",
      "\u001b[92m Pioneer_p3dx_ultrasonicSensor16 connected.\n",
      "\u001b[92m Vision sensor connected.\n",
      "\u001b[92m Laser connected.\n",
      "\u001b[92m Left motor connected.\n",
      "\u001b[92m Right motor connected.\n",
      "\u001b[92m Robot connected.\n"
     ]
    }
   ],
   "source": [
    "class MobileRobot():\n",
    "    def __init__(self):\n",
    "        self.robot = Robot()\n",
    "        self.kinematicModel = Kinematic_model(self.robot)\n",
    "        self.us_sensors = Us_sensor(self.robot)\n",
    "        self.laser_sensors = Laser_sensor(self.robot)\n",
    "        self.pidL = PID()\n",
    "        self.pidL.setPoint(0.5)\n",
    "        self.compute_interval = 0.5\n",
    "        self.follow_wall_side = \"LEFT\"\n",
    "        \n",
    "        self.curr_state = None\n",
    "        self.prev_state = None\n",
    "        \n",
    "    def checkCurrentState(self):\n",
    "        previous_state = self.curr_state\n",
    "        left = self.us_sensors.get_left_distance()\n",
    "        right = self.us_sensors.get_right_distance()\n",
    "        front = self.us_sensors.get_front_distance()\n",
    "        #Initial state: Move Foward\n",
    "        if (previous_state == None and self.prev_state == None):\n",
    "            self.curr_state = 'MoveFoward'\n",
    "    \n",
    "        #MF->TR\n",
    "        if (previous_state == 'MoveFoward' and front <= 0.5):\n",
    "            self.curr_state = 'TurnRight'\n",
    "            \n",
    "        #TR->WF\n",
    "        if (previous_state == 'TurnRight' and left <= 1):\n",
    "            self.curr_state = 'WallFollow'\n",
    "            \n",
    "        #WF->TR\n",
    "        if (previous_state == 'WallFollow' and front <= 0.5):\n",
    "            self.curr_state = 'TurnRight'\n",
    "            \n",
    "        #WF->MoveFoward\n",
    "        if (previous_state == 'WallFollow' and front == 5 and left == 5):\n",
    "            self.curr_state = 'MoveFoward'\n",
    "          \n",
    "        #update prev\n",
    "        self.prev_state = previous_state\n",
    "    \n",
    "    def control(self, left_distance, right_distance, front_distance ):\n",
    "        left = self.us_sensors.get_left_distance()\n",
    "        right = self.us_sensors.get_right_distance()\n",
    "        front = self.us_sensors.get_front_distance()\n",
    "        vel = 0\n",
    "        turn = 0\n",
    "        self.checkCurrentState()\n",
    "        \n",
    "        #State Machine\n",
    "        ##Move foward\n",
    "        if (self.curr_state == 'MoveFoward'):\n",
    "            turn = 0\n",
    "            vel = 3\n",
    "        ##Turn Right\n",
    "        elif (self.curr_state == 'TurnRight'):\n",
    "            turn = 1\n",
    "            vel = 0\n",
    "        #Wall Follow\n",
    "        elif (self.curr_state == 'WallFollow'):\n",
    "            turn = self.pidL.update(left_distance)\n",
    "            vel = 1\n",
    "        #Turn Back\n",
    "#         elif (self.curr_state == 'TurnBack'):\n",
    "#             turn = -1\n",
    "#             vel = 0\n",
    "        self.prev_state = self.curr_state\n",
    "        return vel + turn, vel - turn\n",
    "\n",
    "    def start(self, seconds):\n",
    "        for step in range(int(seconds/self.compute_interval)):\n",
    "            Phi_l, Phi_r = self.control(self.us_sensors.get_left_distance(),self.us_sensors.get_right_distance(), self.us_sensors.get_front_distance())\n",
    "            self.kinematicModel.move(Phi_r, Phi_l,self.compute_interval)\n",
    "mr = MobileRobot()"
   ]
  },
  {
   "cell_type": "markdown",
   "metadata": {},
   "source": [
    "Bellow test wall follow fo 50s."
   ]
  },
  {
   "cell_type": "code",
   "execution_count": 115,
   "metadata": {
    "scrolled": true
   },
   "outputs": [
    {
     "name": "stdout",
     "output_type": "stream",
     "text": [
      "PID cv 0.38602718710899353 sp 0.5 error 0.11397281289100647 pid 0.11397281289100647776"
     ]
    }
   ],
   "source": [
    "mr.start(50)"
   ]
  },
  {
   "cell_type": "markdown",
   "metadata": {},
   "source": [
    "### 2.3 Go To Go"
   ]
  },
  {
   "cell_type": "markdown",
   "metadata": {},
   "source": [
    "Instead of moving forward on robot current direction, we could implement a behaviour to Go to a specific point on the global reference.\n",
    "The implementation is given by the following function"
   ]
  },
  {
   "cell_type": "code",
   "execution_count": 13,
   "metadata": {},
   "outputs": [],
   "source": [
    "def give_diretion(robot, us_sensors, go_point_x, go_point_y, _print=0):\n",
    "    \n",
    "    # global position of robot\n",
    "    robot_x = robot.get_current_position()[0]\n",
    "    robot_y = robot.get_current_position()[1]\n",
    "    robot_ang = robot.get_current_orientation()[2]\n",
    "    \n",
    "    # relative vector to goal\n",
    "    vec_x_go = go_point_x - robot_x\n",
    "    vec_y_go = go_point_y - robot_y\n",
    "    \n",
    "    # angle between position and goal vector\n",
    "    # vector origin\n",
    "    \n",
    "    ang = math.acos( vec_x_go / ( math.sqrt(math.pow(vec_x_go,2)+math.pow(vec_y_go,2)) ) )\n",
    "\n",
    "    if (_print==0):\n",
    "        print(\"ang:\")\n",
    "        print(ang)\n",
    "        print(\"ang robot:\")\n",
    "        print(robot_ang)\n",
    "    \n",
    "    if robot_y > 0:\n",
    "        ang = -ang\n",
    "\n",
    "    if (_print==0):\n",
    "        print(\"After:\")\n",
    "        print(robot.get_current_orientation()[2])\n",
    "\n",
    "        # plot\n",
    "        plt.plot([0,0],[-7.5,7.5], color='g')\n",
    "        plt.plot([-7.5,7.5], [0,0], color='r')\n",
    "        origin = [robot_x, robot_y]\n",
    "        plt.quiver(*origin, vec_x_go, vec_y_go, color=['b'])\n",
    "\n",
    "        plt.axis([-7.5,7.5,-7.5,7.5])\n",
    "        plt.show()\n",
    "        \n",
    "    return ang"
   ]
  },
  {
   "cell_type": "code",
   "execution_count": 14,
   "metadata": {},
   "outputs": [
    {
     "name": "stdout",
     "output_type": "stream",
     "text": [
      "Connected to remoteApi server.\n",
      "\u001b[92m Pioneer_p3dx_ultrasonicSensor1 connected.\n",
      "\u001b[92m Pioneer_p3dx_ultrasonicSensor2 connected.\n",
      "\u001b[92m Pioneer_p3dx_ultrasonicSensor3 connected.\n",
      "\u001b[92m Pioneer_p3dx_ultrasonicSensor4 connected.\n",
      "\u001b[92m Pioneer_p3dx_ultrasonicSensor5 connected.\n",
      "\u001b[92m Pioneer_p3dx_ultrasonicSensor6 connected.\n",
      "\u001b[92m Pioneer_p3dx_ultrasonicSensor7 connected.\n",
      "\u001b[92m Pioneer_p3dx_ultrasonicSensor8 connected.\n",
      "\u001b[92m Pioneer_p3dx_ultrasonicSensor9 connected.\n",
      "\u001b[92m Pioneer_p3dx_ultrasonicSensor10 connected.\n",
      "\u001b[92m Pioneer_p3dx_ultrasonicSensor11 connected.\n",
      "\u001b[92m Pioneer_p3dx_ultrasonicSensor12 connected.\n",
      "\u001b[92m Pioneer_p3dx_ultrasonicSensor13 connected.\n",
      "\u001b[92m Pioneer_p3dx_ultrasonicSensor14 connected.\n",
      "\u001b[92m Pioneer_p3dx_ultrasonicSensor15 connected.\n",
      "\u001b[92m Pioneer_p3dx_ultrasonicSensor16 connected.\n",
      "\u001b[92m Vision sensor connected.\n",
      "\u001b[92m Laser connected.\n",
      "\u001b[92m Left motor connected.\n",
      "\u001b[92m Right motor connected.\n",
      "\u001b[92m Robot connected.\n"
     ]
    }
   ],
   "source": [
    "class MobileRobot():\n",
    "    def __init__(self):\n",
    "        self.robot = Robot()\n",
    "        self.kinematicModel = Kinematic_model(self.robot)\n",
    "        self.us_sensors = Us_sensor(self.robot)\n",
    "        self.laser_sensors = Laser_sensor(self.robot)\n",
    "        self.compute_interval = 0.5\n",
    "        self.follow_wall_side = \"LEFT\"\n",
    "        \n",
    "        self.curr_state = None\n",
    "        self.prev_state = None\n",
    "        \n",
    "        self.go_x = 0\n",
    "        self.go_y = 0\n",
    "    \n",
    "    # Find direction for the destination point\n",
    "    def direction(self):\n",
    "        return give_diretion(self.robot, self.us_sensors, self.go_x, self.go_y, 1)\n",
    "        \n",
    "    # Set destination point\n",
    "    def setGoal(self, x, y):\n",
    "        self.go_x = x\n",
    "        self.go_y = y\n",
    "        \n",
    "    # Check if the robot has reached destination\n",
    "    def checkFinal(self):\n",
    "        curr_x, curr_y = self.kinematicModel.true_global_position()\n",
    "        return (abs(curr_x - self.go_x) < 0.1) and (abs(curr_y - self.go_y) < 0.1)\n",
    "    \n",
    "    def checkCorrectDirection(self):\n",
    "        go_direction = self.direction()\n",
    "        robot_direction = self.robot.get_current_orientation()[2]\n",
    "        return (abs(go_direction - robot_direction) < 0.1)\n",
    "        \n",
    "    def checkCurrentState(self):\n",
    "        previous_state = self.curr_state\n",
    "        left = self.us_sensors.get_left_distance()\n",
    "        right = self.us_sensors.get_right_distance()\n",
    "        front = self.us_sensors.get_front_distance()\n",
    "        \n",
    "        \n",
    "        #Initial state: Turn to Direction\n",
    "        if (previous_state == None and self.prev_state == None):\n",
    "            self.curr_state = 'Turn'\n",
    "    \n",
    "        #Turn->MoveForward\n",
    "        if (previous_state == 'Turn' and self.checkCorrectDirection()):\n",
    "            self.curr_state = 'MoveForward'\n",
    "            \n",
    "        #MoveForward->Turn\n",
    "        if (previous_state == 'MoveForward' and not self.checkCorrectDirection()):\n",
    "            self.curr_state = 'Turn'\n",
    "            \n",
    "        #MoveForward->Final\n",
    "        if (previous_state == 'MoveForward' and self.checkFinal()):\n",
    "            self.curr_state = 'Final'\n",
    "          \n",
    "        #update prev\n",
    "        self.prev_state = previous_state\n",
    "        \n",
    "        print(self.curr_state)\n",
    "    \n",
    "    # Behavior controller\n",
    "    def control(self, left_distance, right_distance, front_distance ):\n",
    "        left = self.us_sensors.get_left_distance()\n",
    "        right = self.us_sensors.get_right_distance()\n",
    "        front = self.us_sensors.get_front_distance()\n",
    "        vel = 0\n",
    "        turn_l = 0\n",
    "        turn_r = 0\n",
    "        self.checkCurrentState()\n",
    "        \n",
    "        #State Machine\n",
    "        ##Turn\n",
    "        if (self.curr_state == 'Turn'):\n",
    "            vel = 0\n",
    "            turn_l, turn_r = self.kinematicModel.turnGlobal(self.direction())\n",
    "        ##MoveForward\n",
    "        elif (self.curr_state == 'MoveForward'):\n",
    "            turn_l = 0\n",
    "            turn_r = 0\n",
    "            vel = 2\n",
    "        #Final: stop the robot\n",
    "        elif (self.curr_state == 'Final'):\n",
    "            turn_l = 0\n",
    "            turn_r = 0\n",
    "            vel = 0\n",
    "            self.robot.stop()\n",
    "        self.prev_state = self.curr_state\n",
    "        return vel + turn_l, vel + turn_r\n",
    "\n",
    "    def start(self, seconds):\n",
    "        for step in range(int(seconds/self.compute_interval)):\n",
    "            Phi_l, Phi_r = self.control(self.us_sensors.get_left_distance(),self.us_sensors.get_right_distance(), self.us_sensors.get_front_distance())\n",
    "            self.kinematicModel.move(Phi_r, Phi_l,self.compute_interval)\n",
    "            if (self.checkFinal()):\n",
    "                print(\"You have reached your destination!\")\n",
    "                break\n",
    "mr = MobileRobot()"
   ]
  },
  {
   "cell_type": "markdown",
   "metadata": {},
   "source": [
    "Start GotoGoal without set a destination point. Thus robot goes to Global origin (0,0). For set a point, write __mr.setGoal(x,y)__ bellow before start function."
   ]
  },
  {
   "cell_type": "code",
   "execution_count": null,
   "metadata": {},
   "outputs": [],
   "source": [
    "mr.start(100)"
   ]
  },
  {
   "cell_type": "markdown",
   "metadata": {},
   "source": [
    "### 2.4 Behaviour Coordenation"
   ]
  },
  {
   "cell_type": "code",
   "execution_count": 15,
   "metadata": {},
   "outputs": [
    {
     "name": "stdout",
     "output_type": "stream",
     "text": [
      "Connected to remoteApi server.\n",
      "\u001b[92m Pioneer_p3dx_ultrasonicSensor1 connected.\n",
      "\u001b[92m Pioneer_p3dx_ultrasonicSensor2 connected.\n",
      "\u001b[92m Pioneer_p3dx_ultrasonicSensor3 connected.\n",
      "\u001b[92m Pioneer_p3dx_ultrasonicSensor4 connected.\n",
      "\u001b[92m Pioneer_p3dx_ultrasonicSensor5 connected.\n",
      "\u001b[92m Pioneer_p3dx_ultrasonicSensor6 connected.\n",
      "\u001b[92m Pioneer_p3dx_ultrasonicSensor7 connected.\n",
      "\u001b[92m Pioneer_p3dx_ultrasonicSensor8 connected.\n",
      "\u001b[92m Pioneer_p3dx_ultrasonicSensor9 connected.\n",
      "\u001b[92m Pioneer_p3dx_ultrasonicSensor10 connected.\n",
      "\u001b[92m Pioneer_p3dx_ultrasonicSensor11 connected.\n",
      "\u001b[92m Pioneer_p3dx_ultrasonicSensor12 connected.\n",
      "\u001b[92m Pioneer_p3dx_ultrasonicSensor13 connected.\n",
      "\u001b[92m Pioneer_p3dx_ultrasonicSensor14 connected.\n",
      "\u001b[92m Pioneer_p3dx_ultrasonicSensor15 connected.\n",
      "\u001b[92m Pioneer_p3dx_ultrasonicSensor16 connected.\n",
      "\u001b[92m Vision sensor connected.\n",
      "\u001b[92m Laser connected.\n",
      "\u001b[92m Left motor connected.\n",
      "\u001b[92m Right motor connected.\n",
      "\u001b[92m Robot connected.\n"
     ]
    }
   ],
   "source": [
    "class MobileRobot():\n",
    "    def __init__(self):\n",
    "        self.robot = Robot()\n",
    "        self.kinematicModel = Kinematic_model(self.robot)\n",
    "        self.us_sensors = Us_sensor(self.robot)\n",
    "        self.laser_sensors = Laser_sensor(self.robot)\n",
    "        self.pidL = PID()\n",
    "        self.pidL.setPoint(0.5)\n",
    "        self.pidR = PID()\n",
    "        self.pidR.setPoint(0.5)\n",
    "        self.compute_interval = 0.5\n",
    "   \n",
    "        self.go_x = 0\n",
    "        self.go_y = 0\n",
    "    \n",
    "    # Find direction for the destination point\n",
    "    def direction(self):\n",
    "        return give_diretion(self.robot, self.us_sensors, self.go_x, self.go_y, 1)\n",
    "        \n",
    "    # Set destination point\n",
    "    def setGoal(self, x, y):\n",
    "        self.go_x = x\n",
    "        self.go_y = y\n",
    "        \n",
    "    # Check if the robot has reached destination\n",
    "    def checkFinal(self):\n",
    "        curr_x, curr_y = self.kinematicModel.true_global_position()\n",
    "        return (abs(curr_x - self.go_x) < 0.1) and (abs(curr_y - self.go_y) < 0.1)\n",
    "    \n",
    "    def checkCorrectDirection(self):\n",
    "        go_direction = self.direction()\n",
    "        robot_direction = self.robot.get_current_orientation()[2]\n",
    "        return (abs(go_direction - robot_direction) < 0.1)\n",
    "    \n",
    "    # Avoid obstacles using fuzzy logic\n",
    "    def fuzzyControl(self):\n",
    "        frontal = self.robot.read_ultrassonic_sensors()[:8]\n",
    "        fuzzy = sensor_fuzzyfication(frontal,0,0.05,0.2) # Call function fuzzy and set near=0.05 and almost_near=0.1\n",
    "        avoid = avoidByDefuzzyfication(frontal,fuzzy)\n",
    "        return avoid[0], avoid[1]\n",
    "    \n",
    "    # Follow the wall\n",
    "    def wallFollowControl(self):\n",
    "        left = self.us_sensors.get_left_distance()\n",
    "        right = self.us_sensors.get_right_distance()\n",
    "        front = self.us_sensors.get_front_distance()\n",
    "        vel = 0\n",
    "        turn = 0\n",
    "        \n",
    "        #Wall Follow\n",
    "        if (left < right):\n",
    "            turn = self.pidL.update(left)\n",
    "            vel = 1\n",
    "        else:\n",
    "            turn = self.pidR.update(right)\n",
    "            vel = 1\n",
    "            \n",
    "        return vel + turn, vel - turn\n",
    "    \n",
    "    # Subsumption behavior controller\n",
    "    def control(self):\n",
    "        vel_l = 0\n",
    "        vel_r = 0\n",
    "    \n",
    "        \n",
    "        min_frontal = np.min(np.array(self.robot.read_ultrassonic_sensors()[:8]))\n",
    "        min_rear = np.min(np.array(self.robot.read_ultrassonic_sensors()[9:15]))\n",
    "        \n",
    "        #1st Priority: React rear collision possibility\n",
    "        if (min_rear < 0.1) :\n",
    "            vel_l, vel_r = [2.0,2.0]\n",
    "            pText = \"React rear collision\"\n",
    "        #2nd Priority: Avoid Obstacle\n",
    "        elif (min_frontal <= 0.18 and min_rear > 0.1):\n",
    "            vel_l, vel_r = self.fuzzyControl()\n",
    "            pText = \"Avoid Obstacle\"\n",
    "        #3th Priority: Turn to destination direction\n",
    "        elif (not self.checkCorrectDirection()):\n",
    "            vel_l, vel_r = self.kinematicModel.turnGlobal(self.direction())\n",
    "            vel_l = vel_l + 0.2\n",
    "            vel_r = vel_r + 0.2\n",
    "            pText = \"Turn\"\n",
    "        #4th Priority: Go Forward\n",
    "        else:\n",
    "            vel_l = 2\n",
    "            vel_r = 2\n",
    "            pText = \"Go Forward\"\n",
    "        sys.stdout.write(\"\\r\" + pText)\n",
    "        sys.stdout.flush()\n",
    "        return vel_l, vel_r\n",
    "\n",
    "    def start(self, seconds):\n",
    "        for step in range(int(seconds/self.compute_interval)):\n",
    "            Phi_l, Phi_r = self.control()\n",
    "            self.kinematicModel.move(Phi_r, Phi_l,self.compute_interval)\n",
    "            if (self.checkFinal()):\n",
    "                self.robot.stop()\n",
    "                print(\"You have reached your destination!\")\n",
    "                self.kinematicModel.plot_paths()\n",
    "                self.point_cloud.update()\n",
    "                self.point_cloud.plot_point_cloud()\n",
    "                break\n",
    "                \n",
    "mr = MobileRobot()"
   ]
  },
  {
   "cell_type": "markdown",
   "metadata": {},
   "source": [
    "Start _GotoGoal Subsumption Behavior_ without set a destination point. Thus robot goes to Global origin (0,0). For set a point, write __mr.setGoal(x,y)__ bellow before start function."
   ]
  },
  {
   "cell_type": "code",
   "execution_count": 16,
   "metadata": {
    "scrolled": true
   },
   "outputs": [
    {
     "name": "stdout",
     "output_type": "stream",
     "text": [
      "Go ForwardYou have reached your destination!\n"
     ]
    },
    {
     "ename": "AttributeError",
     "evalue": "'MobileRobot' object has no attribute 'point_cloud'",
     "output_type": "error",
     "traceback": [
      "\u001b[1;31m---------------------------------------------------------------------------\u001b[0m",
      "\u001b[1;31mAttributeError\u001b[0m                            Traceback (most recent call last)",
      "\u001b[1;32m<ipython-input-16-0bd2a6bd26f6>\u001b[0m in \u001b[0;36m<module>\u001b[1;34m\u001b[0m\n\u001b[1;32m----> 1\u001b[1;33m \u001b[0mmr\u001b[0m\u001b[1;33m.\u001b[0m\u001b[0mstart\u001b[0m\u001b[1;33m(\u001b[0m\u001b[1;36m100\u001b[0m\u001b[1;33m)\u001b[0m\u001b[1;33m\u001b[0m\u001b[1;33m\u001b[0m\u001b[0m\n\u001b[0m",
      "\u001b[1;32m<ipython-input-15-d7dbe7ee8968>\u001b[0m in \u001b[0;36mstart\u001b[1;34m(self, seconds)\u001b[0m\n\u001b[0;32m     98\u001b[0m                 \u001b[0mprint\u001b[0m\u001b[1;33m(\u001b[0m\u001b[1;34m\"You have reached your destination!\"\u001b[0m\u001b[1;33m)\u001b[0m\u001b[1;33m\u001b[0m\u001b[1;33m\u001b[0m\u001b[0m\n\u001b[0;32m     99\u001b[0m                 \u001b[0mself\u001b[0m\u001b[1;33m.\u001b[0m\u001b[0mkinematicModel\u001b[0m\u001b[1;33m.\u001b[0m\u001b[0mplot_paths\u001b[0m\u001b[1;33m(\u001b[0m\u001b[1;33m)\u001b[0m\u001b[1;33m\u001b[0m\u001b[1;33m\u001b[0m\u001b[0m\n\u001b[1;32m--> 100\u001b[1;33m                 \u001b[0mself\u001b[0m\u001b[1;33m.\u001b[0m\u001b[0mpoint_cloud\u001b[0m\u001b[1;33m.\u001b[0m\u001b[0mupdate\u001b[0m\u001b[1;33m(\u001b[0m\u001b[1;33m)\u001b[0m\u001b[1;33m\u001b[0m\u001b[1;33m\u001b[0m\u001b[0m\n\u001b[0m\u001b[0;32m    101\u001b[0m                 \u001b[0mself\u001b[0m\u001b[1;33m.\u001b[0m\u001b[0mpoint_cloud\u001b[0m\u001b[1;33m.\u001b[0m\u001b[0mplot_point_cloud\u001b[0m\u001b[1;33m(\u001b[0m\u001b[1;33m)\u001b[0m\u001b[1;33m\u001b[0m\u001b[1;33m\u001b[0m\u001b[0m\n\u001b[0;32m    102\u001b[0m                 \u001b[1;32mbreak\u001b[0m\u001b[1;33m\u001b[0m\u001b[1;33m\u001b[0m\u001b[0m\n",
      "\u001b[1;31mAttributeError\u001b[0m: 'MobileRobot' object has no attribute 'point_cloud'"
     ]
    },
    {
     "data": {
      "image/png": "[encoded data removed]",
      "text/plain": [
       "<Figure size 720x360 with 2 Axes>"
      ]
     },
     "metadata": {
      "needs_background": "light"
     },
     "output_type": "display_data"
    }
   ],
   "source": [
    "mr.start(100)"
   ]
  },
  {
   "cell_type": "markdown",
   "metadata": {},
   "source": [
    "## Conclusion: ##"
   ]
  },
  {
   "cell_type": "markdown",
   "metadata": {},
   "source": [
    "__Video URL:__ http://youtube.com"
   ]
  }
 ],
 "metadata": {
  "kernelspec": {
   "display_name": "Python 3",
   "language": "python",
   "name": "python3"
  },
  "language_info": {
   "codemirror_mode": {
    "name": "ipython",
    "version": 3
   },
   "file_extension": ".py",
   "mimetype": "text/x-python",
   "name": "python",
   "nbconvert_exporter": "python",
   "pygments_lexer": "ipython3",
   "version": "3.7.4"
  }
 },
 "nbformat": 4,
 "nbformat_minor": 2
}
