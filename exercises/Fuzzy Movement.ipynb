{
 "cells": [
  {
   "cell_type": "markdown",
   "metadata": {},
   "source": [
    "<h1>Trabalho 2</h1>\n",
    "<h3>Fuzzy Movement Forward</h3>\n",
    "<p><strong>Alunos:</strong><br>\n",
    "    Elcio Pereira de Souza J&uacute;nior - RA: 262952<br>\n",
    "    João Paulo Franco Assump&ccedil;&atilde;o - RA: 229322<br>\n",
    "    Tito Barbosa Rezende - RA: 025327</p>"
   ]
  },
  {
   "cell_type": "code",
   "execution_count": null,
   "metadata": {},
   "outputs": [],
   "source": [
    "%pip install matplotlib\n",
    "%pip install numpy\n",
    "%pip install opencv-python\n",
    "%pip install scikit-fuzzy"
   ]
  },
  {
   "cell_type": "code",
   "execution_count": 1,
   "metadata": {},
   "outputs": [],
   "source": [
    "import sys, time\n",
    "sys.path.insert(0, '../src')\n",
    "from robot import Robot\n",
    "import utils\n",
    "import matplotlib.pyplot as plt\n",
    "import numpy as np\n",
    "import vrep\n",
    "import math\n",
    "import skfuzzy as fuzz\n",
    "from skfuzzy import control as ctrl"
   ]
  },
  {
   "cell_type": "code",
   "execution_count": 2,
   "metadata": {},
   "outputs": [
    {
     "ename": "SystemExit",
     "evalue": "\u001b[91m ERROR: Unable to connect to remoteApi server. Consider running scene before executing script.",
     "output_type": "error",
     "traceback": [
      "An exception has occurred, use %tb to see the full traceback.\n",
      "\u001b[1;31mSystemExit\u001b[0m\u001b[1;31m:\u001b[0m \u001b[91m ERROR: Unable to connect to remoteApi server. Consider running scene before executing script.\n"
     ]
    },
    {
     "name": "stderr",
     "output_type": "stream",
     "text": [
      "c:\\users\\supra\\appdata\\local\\programs\\python\\python37-32\\lib\\site-packages\\IPython\\core\\interactiveshell.py:3334: UserWarning: To exit: use 'exit', 'quit', or Ctrl-D.\n",
      "  warn(\"To exit: use 'exit', 'quit', or Ctrl-D.\", stacklevel=1)\n"
     ]
    }
   ],
   "source": [
    "robot = Robot()\n",
    "distances = robot.read_ultrassonic_sensors()\n",
    "frontal = distances[:8]"
   ]
  },
  {
   "cell_type": "markdown",
   "metadata": {},
   "source": [
    "Primeiramente são detectados os valores dos 8 sonares frontais. Estes valores de proximidades serão nossos valores de X utilizados para a Fuzzyfication"
   ]
  },
  {
   "cell_type": "code",
   "execution_count": 4,
   "metadata": {},
   "outputs": [
    {
     "name": "stdout",
     "output_type": "stream",
     "text": [
      "[5.0, 5.0, 5.0, 5.0, 5.0, 5.0, 5.0, 5.0]\n"
     ]
    }
   ],
   "source": [
    "distances = robot.read_ultrassonic_sensors()\n",
    "frontal = distances[:8]\n",
    "print(frontal)"
   ]
  },
  {
   "cell_type": "markdown",
   "metadata": {},
   "source": [
    "Definiu-se os valores para perto e longe, sendo perto até 20cm e quase perto 30cm. Para longe utilizamos o valor de 40cm e quase longe, 25cm."
   ]
  },
  {
   "cell_type": "code",
   "execution_count": 5,
   "metadata": {},
   "outputs": [
    {
     "data": {
      "image/png": "[encoded data removed]",
      "text/plain": [
       "<Figure size 576x360 with 1 Axes>"
      ]
     },
     "metadata": {
      "needs_background": "light"
     },
     "output_type": "display_data"
    },
    {
     "name": "stdout",
     "output_type": "stream",
     "text": [
      "(array([1.        , 1.        , 1.        , 0.88888889, 0.77777778,\n",
      "       0.66666667, 0.55555556, 0.44444444, 0.33333333, 0.22222222,\n",
      "       0.11111111, 0.        , 0.        ]), array([-1]), array([-1]), array([-1]))\n"
     ]
    }
   ],
   "source": [
    "def sensor_fuzzyfication(frontal_sensors,_print=0) :\n",
    "    x_v = np.arange(-0.1, 1.1, 0.1)\n",
    "    t_close = [-0.1, -0.1, 0.1, 1]\n",
    "    #t_far = [0.3, .55, 5, 5]\n",
    "    mfx_close = fuzz.trapmf(x_v, t_close)\n",
    "    #mfx_far = fuzz.trapmf(x_v, t_far)\n",
    "    x_l = np.array([round(min(frontal_sensors[:2]))])\n",
    "    x_f = np.array([min(frontal_sensors[3:5])])\n",
    "    x_r = np.array([round(min(frontal_sensors[6:8]),1)])\n",
    "    y_l = np.array([-1])\n",
    "    y_f = np.array([-1])\n",
    "    y_r = np.array([-1])\n",
    "    if(x_l[0] < 1) :\n",
    "        y_l = fuzz.trapmf(x_l, t_close)\n",
    "    if(x_f[0] < 1) :\n",
    "        y_f = fuzz.trapmf(x_f, t_close)\n",
    "    if(x_r[0] < 1) :\n",
    "        y_r = fuzz.trapmf(x_r, t_close)\n",
    "    if (_print > 0) : \n",
    "        plt.figure(figsize=(8, 5))\n",
    "        plt.plot(x_v, mfx_close,label=\"Near\")\n",
    "        colors = ['tab:black','tab:cyan','tab:purple','tab:green','tab:red','tab:brown','tab:olive','tab:gray','tab:pink']\n",
    "        if(x_l[0] < 1) : plt.vlines(x_l, 0, y_l, label=\"min_left\",color=colors[1]); print(\"Left sensors fuzzyfication: \"+str(y_l[0]))\n",
    "        if(x_f[0] < 1) : plt.vlines(x_f, 0, y_f, label=\"min_frontal\",color=colors[2]); print(\"Forward sensors fuzzyfication: \"+str(y_f[0]))\n",
    "        if(x_r[0] < 1) : plt.vlines(x_r[0], 0, y_r, label=\"min_right\",color=colors[3]); print(\"Right sensors fuzzyfication: \"+str(y_r[0]))\n",
    "        plt.ylabel('Fuzzy value')\n",
    "        plt.xlabel('Proximity (m)')\n",
    "        plt.ylim(-0.1, 1.1)\n",
    "        plt.legend(loc=1)\n",
    "        plt.show()\n",
    "    return mfx_close, y_l, y_f, y_r\n",
    "fuzzy = sensor_fuzzyfication(frontal,1)\n",
    "print(fuzzy)"
   ]
  },
  {
   "cell_type": "code",
   "execution_count": 6,
   "metadata": {},
   "outputs": [
    {
     "name": "stdout",
     "output_type": "stream",
     "text": [
      "Distance Left: 5.0\n",
      "Distance Forward: 5.0\n",
      "Distance Right: 5.0\n",
      "No collision\n"
     ]
    },
    {
     "name": "stderr",
     "output_type": "stream",
     "text": [
      "c:\\users\\supra\\appdata\\local\\programs\\python\\python37-32\\lib\\site-packages\\skfuzzy\\control\\fuzzyvariable.py:122: UserWarning: Matplotlib is currently using module://ipykernel.pylab.backend_inline, which is a non-GUI backend, so cannot show the figure.\n",
      "  fig.show()\n"
     ]
    },
    {
     "data": {
      "image/png": "[encoded data removed]",
      "text/plain": [
       "<Figure size 432x288 with 1 Axes>"
      ]
     },
     "metadata": {
      "needs_background": "light"
     },
     "output_type": "display_data"
    },
    {
     "data": {
      "image/png": "[encoded data removed]",
      "text/plain": [
       "<Figure size 576x360 with 1 Axes>"
      ]
     },
     "metadata": {
      "needs_background": "light"
     },
     "output_type": "display_data"
    },
    {
     "name": "stdout",
     "output_type": "stream",
     "text": [
      "Wheel left angular velocity: 1.92\n",
      "Wheel right angular velocity: -1.6\n"
     ]
    },
    {
     "data": {
      "text/plain": [
       "(2, 2)"
      ]
     },
     "execution_count": 6,
     "metadata": {},
     "output_type": "execute_result"
    }
   ],
   "source": [
    "def sensor_defuzzyfication(frontal_sensors,fuzzy_results, _print=0) :\n",
    "    y_v = np.arange(-95, 95, 1)\n",
    "    x_v = np.arange(0, 1.1, 0.05)\n",
    "\n",
    "    mfy_left = fuzz.trimf(y_v, [-95, -95,-10])\n",
    "    mfy_foward = fuzz.trapmf(y_v, [-60,-30, 30,60])\n",
    "    mfy_right = fuzz.trimf(y_v, [10,95,95])\n",
    "\n",
    "    proximityL = ctrl.Antecedent(x_v, 'proximityL')\n",
    "    proximityR = ctrl.Antecedent(x_v, 'proximityR')\n",
    "    proximityF = ctrl.Antecedent(x_v, 'proximityF')\n",
    "    velocity = ctrl.Consequent(y_v, 'Collision')\n",
    "\n",
    "    proximity = fuzz.trapmf(x_v,[-0.1, -0.1, 0.1, 1])\n",
    "    proximityL['near'] = proximity\n",
    "    proximityR['near'] = proximity\n",
    "    proximityF['near'] = proximity\n",
    "    velocity['Left'] = mfy_left\n",
    "    velocity['Forward'] = mfy_foward\n",
    "    velocity['Right'] = mfy_right\n",
    "\n",
    "\n",
    "\n",
    "    rule1 = ctrl.Rule(proximityL['near'] , velocity['Left'])\n",
    "    rule2 = ctrl.Rule(proximityF['near'] , velocity['Forward'])\n",
    "    rule3 = ctrl.Rule(proximityR['near'], velocity['Right'])\n",
    "\n",
    "    vel_ctrl = ctrl.ControlSystem([rule1, rule2, rule3])\n",
    "    vel = ctrl.ControlSystemSimulation(vel_ctrl)\n",
    "\n",
    "    vel.input['proximityL'] = min(frontal_sensors[:2])\n",
    "    vel.input['proximityR'] = min(frontal_sensors[6:8])\n",
    "    vel.input['proximityF'] = min(frontal_sensors[3:5])\n",
    "\n",
    "    if (_print > 0) :\n",
    "        print(\"Distance Left: \"+str(min(frontal[:2])))\n",
    "        print(\"Distance Forward: \"+str(min(frontal[3:5])))\n",
    "        print(\"Distance Right: \"+str(min(frontal[6:8])))\n",
    "\n",
    "    vel_output = 1\n",
    "\n",
    "    if (min(frontal_sensors) <= 1):\n",
    "        vel.compute()\n",
    "        \n",
    "        vel_output = round(vel.output['Collision'])\n",
    "        Collision = \"Collision: \"+str(vel_output)+\"°\"\n",
    "    else: Collision = \"No collision\"\n",
    "    if (_print > 0) :\n",
    "        print(Collision)\n",
    "        velocity.view(sim=vel)\n",
    "    \n",
    "    x_w = np.arange(-100,100,0.1)\n",
    "    wlv = [-100, -100,0,50]\n",
    "    wrv = [0,10,100,100]\n",
    "    x = np.array([vel_output])\n",
    "    y_l=fuzz.trapmf(x, wlv)\n",
    "    y_r=fuzz.trapmf(x, wrv)\n",
    "    if (_print > 0) :\n",
    "        WheelL = fuzz.trapmf(x_w, wlv)\n",
    "        WheelR = fuzz.trapmf(x_w, wrv)\n",
    "        plt.figure(figsize=(8, 5))\n",
    "        plt.plot(x_w, WheelL,label=\"Wheel Left\")\n",
    "        plt.plot(x_w, WheelR,label=\"Wheel Right\")\n",
    "        plt.vlines(x, 0, y_l, label=\"Collision\")\n",
    "        plt.vlines(x, 0, y_r)\n",
    "        plt.legend()\n",
    "        plt.show()\n",
    "        print(\"Wheel left angular velocity: \"+str((y_l[0]-0.5)/0.25))\n",
    "        print(\"Wheel right angular velocity: \"+str((y_r[0]-0.5)/0.25))\n",
    "    \n",
    "    if (min(frontal_sensors) > 1) :\n",
    "        velL = 2\n",
    "        velR = 2\n",
    "    else :\n",
    "        velL = (y_l[0]-0.5)/0.25\n",
    "        velR = (y_r[0]-0.5)/0.25\n",
    "\n",
    "    return velL, velR\n",
    "sensor_defuzzyfication(frontal,fuzzy,1)"
   ]
  },
  {
   "cell_type": "code",
   "execution_count": 7,
   "metadata": {},
   "outputs": [
    {
     "ename": "ValueError",
     "evalue": "Crisp output cannot be calculated, likely because the system is too sparse. Check to make sure this set of input values will activate at least one connected Term in each Antecedent via the current set of Rules.",
     "output_type": "error",
     "traceback": [
      "\u001b[1;31m---------------------------------------------------------------------------\u001b[0m",
      "\u001b[1;31mAssertionError\u001b[0m                            Traceback (most recent call last)",
      "\u001b[1;32mc:\\users\\supra\\appdata\\local\\programs\\python\\python37-32\\lib\\site-packages\\skfuzzy\\control\\controlsystem.py\u001b[0m in \u001b[0;36mdefuzz\u001b[1;34m(self)\u001b[0m\n\u001b[0;32m    586\u001b[0m                 return defuzz(ups_universe, output_mf,\n\u001b[1;32m--> 587\u001b[1;33m                               self.var.defuzzify_method)\n\u001b[0m\u001b[0;32m    588\u001b[0m             \u001b[1;32mexcept\u001b[0m \u001b[0mAssertionError\u001b[0m\u001b[1;33m:\u001b[0m\u001b[1;33m\u001b[0m\u001b[1;33m\u001b[0m\u001b[0m\n",
      "\u001b[1;32mc:\\users\\supra\\appdata\\local\\programs\\python\\python37-32\\lib\\site-packages\\skfuzzy\\defuzzify\\defuzz.py\u001b[0m in \u001b[0;36mdefuzz\u001b[1;34m(x, mfx, mode)\u001b[0m\n\u001b[0;32m    247\u001b[0m         \u001b[0mzero_truth_degree\u001b[0m \u001b[1;33m=\u001b[0m \u001b[0mmfx\u001b[0m\u001b[1;33m.\u001b[0m\u001b[0msum\u001b[0m\u001b[1;33m(\u001b[0m\u001b[1;33m)\u001b[0m \u001b[1;33m==\u001b[0m \u001b[1;36m0\u001b[0m  \u001b[1;31m# Approximation of total area\u001b[0m\u001b[1;33m\u001b[0m\u001b[1;33m\u001b[0m\u001b[0m\n\u001b[1;32m--> 248\u001b[1;33m         \u001b[1;32massert\u001b[0m \u001b[1;32mnot\u001b[0m \u001b[0mzero_truth_degree\u001b[0m\u001b[1;33m,\u001b[0m \u001b[1;34m'Total area is zero in defuzzification!'\u001b[0m\u001b[1;33m\u001b[0m\u001b[1;33m\u001b[0m\u001b[0m\n\u001b[0m\u001b[0;32m    249\u001b[0m \u001b[1;33m\u001b[0m\u001b[0m\n",
      "\u001b[1;31mAssertionError\u001b[0m: Total area is zero in defuzzification!",
      "\nDuring handling of the above exception, another exception occurred:\n",
      "\u001b[1;31mValueError\u001b[0m                                Traceback (most recent call last)",
      "\u001b[1;32m<ipython-input-7-8403488b63b1>\u001b[0m in \u001b[0;36m<module>\u001b[1;34m\u001b[0m\n\u001b[0;32m      3\u001b[0m     \u001b[0mfrontal\u001b[0m \u001b[1;33m=\u001b[0m \u001b[0mus_distances\u001b[0m\u001b[1;33m[\u001b[0m\u001b[1;33m:\u001b[0m\u001b[1;36m8\u001b[0m\u001b[1;33m]\u001b[0m \u001b[1;31m#Using only the 8 frontal sensors\u001b[0m\u001b[1;33m\u001b[0m\u001b[1;33m\u001b[0m\u001b[0m\n\u001b[0;32m      4\u001b[0m     \u001b[0mfuzzy\u001b[0m \u001b[1;33m=\u001b[0m \u001b[0msensor_fuzzyfication\u001b[0m\u001b[1;33m(\u001b[0m\u001b[0mfrontal\u001b[0m\u001b[1;33m)\u001b[0m\u001b[1;33m\u001b[0m\u001b[1;33m\u001b[0m\u001b[0m\n\u001b[1;32m----> 5\u001b[1;33m     \u001b[0mdefuzzy\u001b[0m \u001b[1;33m=\u001b[0m \u001b[0msensor_defuzzyfication\u001b[0m\u001b[1;33m(\u001b[0m\u001b[0mfrontal\u001b[0m\u001b[1;33m,\u001b[0m\u001b[0mfuzzy\u001b[0m\u001b[1;33m)\u001b[0m\u001b[1;33m\u001b[0m\u001b[1;33m\u001b[0m\u001b[0m\n\u001b[0m\u001b[0;32m      6\u001b[0m     \u001b[0mrobot\u001b[0m\u001b[1;33m.\u001b[0m\u001b[0mset_left_velocity\u001b[0m\u001b[1;33m(\u001b[0m\u001b[0mdefuzzy\u001b[0m\u001b[1;33m[\u001b[0m\u001b[1;36m0\u001b[0m\u001b[1;33m]\u001b[0m\u001b[1;33m)\u001b[0m\u001b[1;33m\u001b[0m\u001b[1;33m\u001b[0m\u001b[0m\n\u001b[0;32m      7\u001b[0m     \u001b[0mrobot\u001b[0m\u001b[1;33m.\u001b[0m\u001b[0mset_right_velocity\u001b[0m\u001b[1;33m(\u001b[0m\u001b[0mdefuzzy\u001b[0m\u001b[1;33m[\u001b[0m\u001b[1;36m1\u001b[0m\u001b[1;33m]\u001b[0m\u001b[1;33m)\u001b[0m\u001b[1;33m\u001b[0m\u001b[1;33m\u001b[0m\u001b[0m\n",
      "\u001b[1;32m<ipython-input-6-524c6bb54553>\u001b[0m in \u001b[0;36msensor_defuzzyfication\u001b[1;34m(frontal_sensors, fuzzy_results, _print)\u001b[0m\n\u001b[0;32m     41\u001b[0m \u001b[1;33m\u001b[0m\u001b[0m\n\u001b[0;32m     42\u001b[0m     \u001b[1;32mif\u001b[0m \u001b[1;33m(\u001b[0m\u001b[0mmin\u001b[0m\u001b[1;33m(\u001b[0m\u001b[0mfrontal_sensors\u001b[0m\u001b[1;33m)\u001b[0m \u001b[1;33m<=\u001b[0m \u001b[1;36m1\u001b[0m\u001b[1;33m)\u001b[0m\u001b[1;33m:\u001b[0m\u001b[1;33m\u001b[0m\u001b[1;33m\u001b[0m\u001b[0m\n\u001b[1;32m---> 43\u001b[1;33m         \u001b[0mvel\u001b[0m\u001b[1;33m.\u001b[0m\u001b[0mcompute\u001b[0m\u001b[1;33m(\u001b[0m\u001b[1;33m)\u001b[0m\u001b[1;33m\u001b[0m\u001b[1;33m\u001b[0m\u001b[0m\n\u001b[0m\u001b[0;32m     44\u001b[0m \u001b[1;33m\u001b[0m\u001b[0m\n\u001b[0;32m     45\u001b[0m         \u001b[0mvel_output\u001b[0m \u001b[1;33m=\u001b[0m \u001b[0mround\u001b[0m\u001b[1;33m(\u001b[0m\u001b[0mvel\u001b[0m\u001b[1;33m.\u001b[0m\u001b[0moutput\u001b[0m\u001b[1;33m[\u001b[0m\u001b[1;34m'Collision'\u001b[0m\u001b[1;33m]\u001b[0m\u001b[1;33m)\u001b[0m\u001b[1;33m\u001b[0m\u001b[1;33m\u001b[0m\u001b[0m\n",
      "\u001b[1;32mc:\\users\\supra\\appdata\\local\\programs\\python\\python37-32\\lib\\site-packages\\skfuzzy\\control\\controlsystem.py\u001b[0m in \u001b[0;36mcompute\u001b[1;34m(self)\u001b[0m\n\u001b[0;32m    371\u001b[0m         \u001b[1;32mfor\u001b[0m \u001b[0mconsequent\u001b[0m \u001b[1;32min\u001b[0m \u001b[0mself\u001b[0m\u001b[1;33m.\u001b[0m\u001b[0mctrl\u001b[0m\u001b[1;33m.\u001b[0m\u001b[0mconsequents\u001b[0m\u001b[1;33m:\u001b[0m\u001b[1;33m\u001b[0m\u001b[1;33m\u001b[0m\u001b[0m\n\u001b[0;32m    372\u001b[0m             \u001b[0mconsequent\u001b[0m\u001b[1;33m.\u001b[0m\u001b[0moutput\u001b[0m\u001b[1;33m[\u001b[0m\u001b[0mself\u001b[0m\u001b[1;33m]\u001b[0m \u001b[1;33m=\u001b[0m\u001b[0;31m \u001b[0m\u001b[0;31m\\\u001b[0m\u001b[1;33m\u001b[0m\u001b[1;33m\u001b[0m\u001b[0m\n\u001b[1;32m--> 373\u001b[1;33m                 \u001b[0mCrispValueCalculator\u001b[0m\u001b[1;33m(\u001b[0m\u001b[0mconsequent\u001b[0m\u001b[1;33m,\u001b[0m \u001b[0mself\u001b[0m\u001b[1;33m)\u001b[0m\u001b[1;33m.\u001b[0m\u001b[0mdefuzz\u001b[0m\u001b[1;33m(\u001b[0m\u001b[1;33m)\u001b[0m\u001b[1;33m\u001b[0m\u001b[1;33m\u001b[0m\u001b[0m\n\u001b[0m\u001b[0;32m    374\u001b[0m             \u001b[0mself\u001b[0m\u001b[1;33m.\u001b[0m\u001b[0moutput\u001b[0m\u001b[1;33m[\u001b[0m\u001b[0mconsequent\u001b[0m\u001b[1;33m.\u001b[0m\u001b[0mlabel\u001b[0m\u001b[1;33m]\u001b[0m \u001b[1;33m=\u001b[0m \u001b[0mconsequent\u001b[0m\u001b[1;33m.\u001b[0m\u001b[0moutput\u001b[0m\u001b[1;33m[\u001b[0m\u001b[0mself\u001b[0m\u001b[1;33m]\u001b[0m\u001b[1;33m\u001b[0m\u001b[1;33m\u001b[0m\u001b[0m\n\u001b[0;32m    375\u001b[0m \u001b[1;33m\u001b[0m\u001b[0m\n",
      "\u001b[1;32mc:\\users\\supra\\appdata\\local\\programs\\python\\python37-32\\lib\\site-packages\\skfuzzy\\control\\controlsystem.py\u001b[0m in \u001b[0;36mdefuzz\u001b[1;34m(self)\u001b[0m\n\u001b[0;32m    587\u001b[0m                               self.var.defuzzify_method)\n\u001b[0;32m    588\u001b[0m             \u001b[1;32mexcept\u001b[0m \u001b[0mAssertionError\u001b[0m\u001b[1;33m:\u001b[0m\u001b[1;33m\u001b[0m\u001b[1;33m\u001b[0m\u001b[0m\n\u001b[1;32m--> 589\u001b[1;33m                 raise ValueError(\"Crisp output cannot be calculated, likely \"\n\u001b[0m\u001b[0;32m    590\u001b[0m                                  \u001b[1;34m\"because the system is too sparse. Check to \"\u001b[0m\u001b[1;33m\u001b[0m\u001b[1;33m\u001b[0m\u001b[0m\n\u001b[0;32m    591\u001b[0m                                  \u001b[1;34m\"make sure this set of input values will \"\u001b[0m\u001b[1;33m\u001b[0m\u001b[1;33m\u001b[0m\u001b[0m\n",
      "\u001b[1;31mValueError\u001b[0m: Crisp output cannot be calculated, likely because the system is too sparse. Check to make sure this set of input values will activate at least one connected Term in each Antecedent via the current set of Rules."
     ]
    }
   ],
   "source": [
    "while(robot.get_connection_status() != -1):\n",
    "    us_distances = robot.read_ultrassonic_sensors()\n",
    "    frontal = us_distances[:8] #Using only the 8 frontal sensors\n",
    "    fuzzy = sensor_fuzzyfication(frontal)\n",
    "    defuzzy = sensor_defuzzyfication(frontal,fuzzy)\n",
    "    robot.set_left_velocity(defuzzy[0])\n",
    "    robot.set_right_velocity(defuzzy[1])\n",
    "    time.sleep(0.1)\n",
    "    "
   ]
  },
  {
   "cell_type": "code",
   "execution_count": null,
   "metadata": {},
   "outputs": [],
   "source": [
    "robot.stop()"
   ]
  }
 ],
 "metadata": {
  "kernelspec": {
   "display_name": "Python 3",
   "language": "python",
   "name": "python3"
  },
  "language_info": {
   "codemirror_mode": {
    "name": "ipython",
    "version": 3
   },
   "file_extension": ".py",
   "mimetype": "text/x-python",
   "name": "python",
   "nbconvert_exporter": "python",
   "pygments_lexer": "ipython3",
   "version": "3.7.4"
  }
 },
 "nbformat": 4,
 "nbformat_minor": 2
}
