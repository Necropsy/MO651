{
 "cells": [
  {
   "cell_type": "code",
   "execution_count": null,
   "metadata": {},
   "outputs": [],
   "source": [
    "# Import's\n",
    "import sys\n",
    "sys.path.insert(0, '../src')\n",
    "from robot import Robot\n",
    "\n",
    "import matplotlib\n",
    "import matplotlib.pyplot as plt\n",
    "from mpl_toolkits.mplot3d import Axes3D\n",
    "import numpy as np\n",
    "matplotlib.use(\"Qt5Agg\")"
   ]
  },
  {
   "cell_type": "code",
   "execution_count": null,
   "metadata": {},
   "outputs": [],
   "source": [
    "robot = Robot()\n",
    "\n",
    "# position (in global) q = [x y theta] (3x1)\n",
    "# (xr,yr) -> position on robot reference\n",
    "# (xg,yg) -> position on global reference\n",
    "\n",
    "# raio e eixo\n",
    "raio = 0.195/2\n",
    "eixo = 0.381/2\n",
    "\n",
    "# Initial Robot Position\n",
    "xg,yg = robot.get_current_position()[0],robot.get_current_position()[1]\n",
    "\n",
    "def rotation():\n",
    "    # R(theta) = |  cos  sin  0  |\n",
    "    #            | -sin  cos  0  |\n",
    "    #            |   0    0   1  |"
   ]
  }
 ],
 "metadata": {
  "kernelspec": {
   "display_name": "Python 3",
   "language": "python",
   "name": "python3"
  },
  "language_info": {
   "codemirror_mode": {
    "name": "ipython",
    "version": 3
   },
   "file_extension": ".py",
   "mimetype": "text/x-python",
   "name": "python",
   "nbconvert_exporter": "python",
   "pygments_lexer": "ipython3",
   "version": "3.7.3"
  }
 },
 "nbformat": 4,
 "nbformat_minor": 2
}
