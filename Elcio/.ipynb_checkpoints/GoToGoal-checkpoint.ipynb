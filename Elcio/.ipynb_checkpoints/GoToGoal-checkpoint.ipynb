{
 "cells": [
  {
   "cell_type": "code",
   "execution_count": null,
   "metadata": {},
   "outputs": [],
   "source": [
    "%pip install matplotlib\n",
    "%pip install numpy\n",
    "%pip install opencv-python\n",
    "%pip install anglr"
   ]
  },
  {
   "cell_type": "code",
   "execution_count": 1,
   "metadata": {},
   "outputs": [],
   "source": [
    "import sys, time\n",
    "sys.path.insert(0, '../src')\n",
    "\n",
    "from robot import Robot\n",
    "\n",
    "import matplotlib.pyplot as plt\n",
    "import numpy as np\n",
    "import vrep\n",
    "import math\n",
    "\n",
    "from anglr import Angle\n",
    "from datetime import datetime"
   ]
  },
  {
   "cell_type": "code",
   "execution_count": 2,
   "metadata": {},
   "outputs": [],
   "source": [
    "class Kinematic_model:\n",
    "    def __init__(self,robot):\n",
    "        self.robot = robot\n",
    "        \n",
    "        #Handles dos motores\n",
    "        ret1, self.motorLeft = vrep.simxGetObjectHandle(self.robot.clientID, \"Pioneer_p3dx_leftMotor\", vrep.simx_opmode_oneshot_wait)\n",
    "        ret2, self.motorRight = vrep.simxGetObjectHandle(self.robot.clientID, \"Pioneer_p3dx_rightMotor\", vrep.simx_opmode_oneshot_wait)\n",
    "        \n",
    "        #Calcula distancia de eixo\n",
    "        res, left_handle = vrep.simxGetObjectHandle(robot.clientID, \"Pioneer_p3dx_leftMotor\", vrep.simx_opmode_oneshot_wait)\n",
    "        ret, lpos = vrep.simxGetObjectPosition(robot.clientID, left_handle, robot.robot_handle, vrep.simx_opmode_oneshot_wait)\n",
    "        \n",
    "        res, right_handle = vrep.simxGetObjectHandle(robot.clientID, \"Pioneer_p3dx_rightMotor\", vrep.simx_opmode_oneshot_wait)\n",
    "        ret, rpos = vrep.simxGetObjectPosition(robot.clientID, right_handle, robot.robot_handle, vrep.simx_opmode_oneshot_wait)\n",
    "        \n",
    "        # eixo\n",
    "        self.l = (abs(lpos[1]) + abs(rpos[1]))/2\n",
    "        \n",
    "        #Ao ser criado, coleta a referencia de zero do robo\n",
    "        pos = self.robot.get_current_position()\n",
    "        self.initial_pos_x = pos[0]\n",
    "        self.initial_pos_y = pos[1]\n",
    "        orientation = self.robot.get_current_orientation()\n",
    "        self.initial_orientation = orientation[2]\n",
    "\n",
    "        #Alem de mantermos a pose inicial, manteremos a pose atualizada do robo\n",
    "        self.enc_global_x = self.initial_pos_x\n",
    "        self.enc_global_y = self.initial_pos_y\n",
    "        self.enc_Theta = self.initial_orientation\n",
    "        \n",
    "        self.time_global_x = self.initial_pos_x\n",
    "        self.time_global_y = self.initial_pos_y\n",
    "        self.time_Theta = self.initial_orientation\n",
    "        \n",
    "        #Lista de pontos para o caminho do robo\n",
    "        self.enc_path = []\n",
    "        self.time_path = []\n",
    "        self.true_path = []\n",
    "        self.update_paths()\n",
    "        \n",
    "        #inicializando a posição dos encoders\n",
    "        self.jL = self.current_encoder_left()\n",
    "        self.jR = self.current_encoder_right()\n",
    "        \n",
    "        #intervalo entre cada calculo\n",
    "        self.compute_interval = 0.1\n",
    "        self.previous_timestamp = 0\n",
    "        \n",
    "    def update_paths(self):\n",
    "        self.enc_path.append([self.enc_global_x, self.enc_global_y, self.enc_Theta])\n",
    "        self.time_path.append([self.time_global_x, self.time_global_y, self.time_Theta])\n",
    "        orientation = self.robot.get_current_orientation()\n",
    "        true_theta = orientation[2]\n",
    "        current_position = self.true_global_position()\n",
    "        self.true_path.append([current_position[0], current_position[1], true_theta])\n",
    "    \n",
    "    def true_global_position(self):\n",
    "        pos = self.robot.get_current_position()\n",
    "        return pos[0],pos[1]\n",
    "    \n",
    "    def enc_global_position(self):\n",
    "        return self.enc_global_x, self.enc_global_y, self.enc_Theta\n",
    "    \n",
    "    def time_global_position(self):\n",
    "        return self.time_global_x, self.time_global_y, self.time_Theta\n",
    "    \n",
    "    \n",
    "    ##Esta seção esta relacionada ao calculo da posição levando em consideração os encoders\n",
    "    def current_encoder_left(self):\n",
    "        ret,jL = vrep.simxGetJointPosition(self.robot.clientID,self.motorLeft,vrep.simx_opmode_oneshot_wait)\n",
    "        return jL\n",
    "    def current_encoder_right(self):\n",
    "        ret, jR = vrep.simxGetJointPosition(self.robot.clientID,self.motorRight,vrep.simx_opmode_oneshot_wait)\n",
    "        return jR\n",
    "        \n",
    "    #Phi speed of rotation of wheels\n",
    "    def Xr(self, Phi_right, Phi_left):\n",
    "        r = self.robot.WHEEL_RADIUS\n",
    "        Xr = (r*Phi_left/2) + (r*Phi_right/2)\n",
    "        return Xr\n",
    "    \n",
    "    def Theta_r(self, Phi_right, Phi_left):\n",
    "        r = self.robot.WHEEL_RADIUS\n",
    "        Tr = r*Phi_right/(2*self.l) - r*Phi_left/(2*self.l) \n",
    "        return Tr\n",
    "        \n",
    "    def speed_model(self,Phi_right,Phi_left):\n",
    "        #Se formos considerar que o eixo das rodas do robo está deslocado do eixo x\n",
    "        #return np.array([self.Xr(Phi_right,Phi_left),self.Theta_r(Phi_right,Phi_left)*self.l2,self.Theta_r(Phi_right,Phi_left)])\n",
    "        return np.array([self.Xr(Phi_right,Phi_left),0,self.Theta_r(Phi_right,Phi_left)])\n",
    "        \n",
    "    def inverse_rotation_matrix(self, ang):\n",
    "        Trot = np.array([[math.cos(ang), -math.sin(ang), 0], [math.sin(ang), math.cos(ang), 0], [0,0,1]])\n",
    "        return Trot\n",
    "    \n",
    "    def locomotion_global(self, ang, Phi_right, Phi_left):\n",
    "        return np.dot(self.inverse_rotation_matrix(ang),self.speed_model(Phi_right,Phi_left))\n",
    "    \n",
    "    def compute_with_encoder(self):\n",
    "        dxR = self.current_encoder_right() - self.jR\n",
    "        dxL = self.current_encoder_left() - self.jL\n",
    "        if (dxL>=0):\n",
    "            dxL=math.fmod(dxL+math.pi,2*math.pi)-math.pi\n",
    "        else:\n",
    "            dxL=math.fmod(dxL-math.pi,2*math.pi)+math.pi\n",
    "        if (dxR>=0):\n",
    "            dxR=math.fmod(dxR+math.pi,2*math.pi)-math.pi\n",
    "        else:\n",
    "            dxR=math.fmod(dxR-math.pi,2*math.pi)+math.pi\n",
    "        qsi = self.locomotion_global(self.enc_Theta,dxR, dxL)\n",
    "        #Atualiza a posição global\n",
    "        self.enc_global_x = self.enc_global_x + qsi[0]\n",
    "        self.enc_global_y = self.enc_global_y + qsi[1]\n",
    "        self.enc_Theta = self.enc_Theta + qsi[2]\n",
    "        #Atualiza a posição dos encoders\n",
    "        self.jR = self.current_encoder_right()\n",
    "        self.jL = self.current_encoder_left()\n",
    "    ##Fim da seção relacionada ao calculo da posição levando em consideração os encoders        \n",
    "    \n",
    "    def compute_with_time(self, Phi_right, Phi_left):\n",
    "        #Calculo do delta S\n",
    "        r = self.robot.WHEEL_RADIUS\n",
    "        Vr = r*Phi_right\n",
    "        Vl = r*Phi_left\n",
    "        current_timestamp = datetime.timestamp(datetime.now())\n",
    "        Delta_t = current_timestamp - self.previous_timestamp\n",
    "        #atualiza timestamp imediatamente\n",
    "\n",
    "        self.previous_timestamp = current_timestamp\n",
    "        \n",
    "        Delta_s = (Vr + Vl)*Delta_t/2  \n",
    "        Delta_Theta = (Vr - Vl)*Delta_t/(2*self.l)\n",
    "    \n",
    "        self.time_global_x = self.time_global_x + Delta_s*math.cos(self.time_Theta + Delta_Theta/2)\n",
    "        self.time_global_y = self.time_global_y + Delta_s*math.sin(self.time_Theta + Delta_Theta/2)\n",
    "        self.time_Theta = self.time_Theta + Delta_Theta\n",
    "    \n",
    "    def move(self,Phi_right, Phi_left,seconds): #velocidade em rad/s\n",
    "        #Vamos fixar um tempo de 500ms para computar as distâncias\n",
    "        for step in range(int(seconds/self.compute_interval)):\n",
    "            #self.compute()\n",
    "            self.robot.set_right_velocity(Phi_right)\n",
    "            self.robot.set_left_velocity(Phi_left)\n",
    "            time.sleep(self.compute_interval)\n",
    "            self.compute_with_encoder()\n",
    "            self.compute_with_time(Phi_right, Phi_left)\n",
    "            self.update_paths()\n",
    "        self.robot.stop()\n",
    "        self.timestamp = 0\n",
    "        \n",
    "    def turnGlobal(self, input_ang):\n",
    "        orientation = self.robot.get_current_orientation()[2]\n",
    "        ang = input_ang\n",
    "        if (orientation < 0):\n",
    "            orientation = orientation + 2*math.pi\n",
    "        if (ang < 0):\n",
    "            ang = ang + 2*math.pi\n",
    "            \n",
    "        print(\"Initial orientation \", orientation)\n",
    "        print(\"Ang \", ang)\n",
    "        vel = 0.2\n",
    "        \n",
    "        if ((ang - orientation) > math.pi) or (0 > (ang - orientation) > -math.pi):\n",
    "            vel = - vel\n",
    "        \n",
    "        self.robot.set_right_velocity(vel)\n",
    "        self.robot.set_left_velocity(-vel)\n",
    "        tolerance = math.pi/90\n",
    "        while ((ang - orientation) > tolerance) or ((ang - orientation) < -tolerance):\n",
    "            time.sleep(0.05)\n",
    "            orientation = self.robot.get_current_orientation()[2]\n",
    "            if (orientation < 0):\n",
    "                orientation = orientation + 2*math.pi\n",
    "            sys.stdout.write(\"\\r\" + \"Diff \" + str((ang - orientation)) + \" orientation \" + str(orientation))\n",
    "            sys.stdout.flush()\n",
    "        self.robot.stop()\n",
    "        print(\"curr orientation \", orientation)\n",
    "    \n",
    "    def ICR_left(self, Phi_left, R, seconds):\n",
    "        Phi_right = Phi_left*(R + self.l)/(R - self.l)\n",
    "        print(\"ICR_left Phi_r {} Phi_l {}\".format(Phi_right, Phi_left))\n",
    "        self.move(Phi_right, Phi_left, seconds)\n",
    "    \n",
    "    def ICR_right(self, Phi_right, R, seconds):\n",
    "        Phi_left = Phi_right*(R + self.l)/(R - self.l)\n",
    "        print(\"ICR_right Phi_r {} Phi_l {}\".format(Phi_right, Phi_left))\n",
    "        self.move(Phi_right, Phi_left, seconds)\n",
    "  \n",
    "    def plot_paths(self):\n",
    "        enc_path = np.array(self.enc_path)\n",
    "        time_path = np.array(self.time_path)\n",
    "        true_path = np.array(self.true_path)\n",
    "        \n",
    "        fig, ax = plt.subplots(nrows=1, ncols=2, figsize=(10, 5))\n",
    "        ax[0].scatter(enc_path[:,0], enc_path[:,1], 5, c='b', marker='o')\n",
    "        #ax[1].scatter(time_path[:,0], time_path[:,1], 5, c='g', marker='o')\n",
    "        ax[1].scatter(true_path[:,0], true_path[:,1], 5, c='r', marker='o')"
   ]
  },
  {
   "cell_type": "code",
   "execution_count": 3,
   "metadata": {},
   "outputs": [],
   "source": [
    "class Laser_sensor:\n",
    "    def __init__(self,robot):\n",
    "        self.robot = robot\n",
    "\n",
    "    def update_robot_frame_reading(self):\n",
    "        laser_flatten_readings = np.array(self.robot.read_laser())\n",
    "        laser_readings = laser_flatten_readings.reshape((len(laser_flatten_readings)//3, 3))\n",
    "        self.laser_x = laser_readings[:,0]\n",
    "        self.laser_y = laser_readings[:,1]\n",
    "\n",
    "class Us_sensor:\n",
    "    def __init__(self,robot):\n",
    "        orientation_angles = np.array([90,50,30,10,-10,-30,-50,-90,-90,-130,-150,-170,170,150,130,90])\n",
    "        orientation_rad = np.radians(orientation_angles)\n",
    "        self.data = {\n",
    "        \"prefix\" : \"Pioneer_p3dx_ultrasonicSensor\",\n",
    "        \"ids\" : np.arange(1,17,1), \"handles\" : np.zeros(16, dtype=int), \n",
    "        \"positions\" :  np.zeros((16,3),dtype=float),\n",
    "        \"angles_deg\": orientation_angles,\n",
    "        \"angles_rad\": orientation_rad,\n",
    "        \"raw_reading\": np.zeros(16),\n",
    "        \"robot_frame_reading\": np.zeros((16,2),dtype=float)\n",
    "        }\n",
    "        self.robot = robot\n",
    "        \n",
    "        for i,sensor_i in enumerate(self.data['ids']):\n",
    "            ret,handle = vrep.simxGetObjectHandle(self.robot.clientID, self.data['prefix'] + str(sensor_i), vrep.simx_opmode_oneshot_wait)\n",
    "            self.data['handles'][i] = handle\n",
    "            ret, pos = vrep.simxGetObjectPosition(self.robot.clientID, handle, self.robot.robot_handle, vrep.simx_opmode_oneshot_wait)\n",
    "            #ret, ang = vrep.simxGetObjectOrientation(robot.clientID, handle, robot.robot_handle, vrep.simx_opmode_oneshot_wait)\n",
    "            self.data['positions'][i,:] = pos\n",
    "            #ultrassonic_sensors[sensor_i,4:7] = ang\n",
    "            \n",
    "    def get_left_distance(self):\n",
    "        self.update_raw_reading()\n",
    "        #return np.min(np.array([self.data[\"raw_reading\"][0],self.data[\"raw_reading\"][1],self.data[\"raw_reading\"][15],self.data[\"raw_reading\"][14]]))\n",
    "        return np.min(np.array([self.data[\"raw_reading\"][0],self.data[\"raw_reading\"][15]]))\n",
    "    \n",
    "    def get_front_distance(self):\n",
    "        self.update_raw_reading()\n",
    "        return np.min(np.array([self.data[\"raw_reading\"][3:5]]))\n",
    "        #return np.min(np.array([self.data[\"raw_reading\"][2:4]]))\n",
    "    \n",
    "    def get_right_distance(self):\n",
    "        self.update_raw_reading()\n",
    "        return np.min(np.array([self.data[\"raw_reading\"][7:9]]))\n",
    "    \n",
    "    def update_raw_reading(self):\n",
    "        self.data[\"raw_reading\"] = np.array(self.robot.read_ultrassonic_sensors())\n",
    "    \n",
    "    def update_robot_frame_reading(self):\n",
    "        self.update_raw_reading()\n",
    "        for i, proximity in enumerate(us_sensors.data[\"raw_reading\"]):\n",
    "            if proximity == 5 or proximity < 0.1:\n",
    "                self.data[\"robot_frame_reading\"][i] = np.zeros(2)\n",
    "            else:\n",
    "                self.data[\"robot_frame_reading\"][i] = self.proximity_robot_frame(i+1,proximity).flatten()\n",
    "                \n",
    "        #toRobotFrame = lambda sensorId,proximity: self.proximity_robot_frame(sensorId,proximity)\n",
    "        #self.data[\"robot_frame_reading\"] = toRobotFrame(range(1,17,1),us_sensors.data[\"raw_reading\"])\n",
    "    \n",
    "    #Calcula o ponto no frame do robo, referente a leitura de cada sensor de proximidade\n",
    "    def proximity_robot_frame(self,sensorId, proximity):\n",
    "        index = sensorId -1\n",
    "        angulars = self.data[\"angles_rad\"][index]\n",
    "        #Matriz de rotação\n",
    "        rot_matrix = np.array([[math.cos(angulars),-math.sin(angulars)],[math.sin(angulars),math.cos(angulars)]])\n",
    "        #Rotacionando a leitura\n",
    "        distXY = np.dot(rot_matrix , np.array([[proximity],[0]]))\n",
    "        #Matriz de translação\n",
    "        posicao_sensor_x = self.data[\"positions\"][index][0]\n",
    "        posicao_sensor_y = self.data[\"positions\"][index][1]\n",
    "        transXY=np.array([[distXY[0][0]+posicao_sensor_x],[distXY[1][0]+posicao_sensor_y]])\n",
    "        return transXY\n",
    "\n",
    "class PointCloud():\n",
    "    def __init__(self, robot, us_sensors, laser_sensor):\n",
    "        self.robot = robot\n",
    "        self.us_sensors = us_sensors\n",
    "        self.laser_sensor = laser_sensor\n",
    "        \n",
    "        self.ultrassonic_points = []\n",
    "        self.laser_points = []\n",
    "        self.robot_points = []\n",
    "    \n",
    "    def update(self):\n",
    "        #Insere posição atual do robo\n",
    "        robot_x = self.robot.get_current_position()[0]\n",
    "        robot_y = self.robot.get_current_position()[1]\n",
    "        robot_ang = self.robot.get_current_orientation()[2]\n",
    "        \n",
    "        self.robot_points.append([robot_x,robot_y])\n",
    "\n",
    "        #Atualiza a leitura do laser e insere na nuvem de pontos\n",
    "        self.laser_sensor.update_robot_frame_reading()\n",
    "        for pointx, pointy in zip(self.laser_sensor.laser_x, self.laser_sensor.laser_y):\n",
    "            x,y = toGlobal(robot_x, robot_y,robot_ang, pointx, pointy)\n",
    "            self.laser_points.append([x,y])\n",
    "\n",
    "        #Atualiza a leitura do ultrassonico e insere na nuvem de pontos\n",
    "        self.us_sensors.update_robot_frame_reading()\n",
    "        for pointx, pointy in zip(self.us_sensors.data['robot_frame_reading'][:,0], self.us_sensors.data['robot_frame_reading'][:,1]):\n",
    "            x,y = toGlobal(robot_x, robot_y,robot_ang, pointx, pointy)\n",
    "            self.ultrassonic_points.append([x,y])\n",
    "    \n",
    "    def plot_point_cloud(self):\n",
    "        #Convertendo a nuvem de pontos em um array\n",
    "        ultrassonic_point_array = np.array(self.ultrassonic_points)\n",
    "        laser_point_array = np.array(self.laser_points)\n",
    "        robot_path = np.array(self.robot_points)\n",
    "\n",
    "        fig, ax = plt.subplots(nrows=1, ncols=2, figsize=(15, 5))\n",
    "        #posição do centro do robo\n",
    "        ax[0].scatter(robot_path[:,0], robot_path[:,1], 40, c='b', marker='o')\n",
    "        #ax[0].plot(robot_path[:,0], robot_path[:,1],'.-')\n",
    "        pass_count = 0\n",
    "        for x, y in zip(robot_path[:,0], robot_path[:,1]):\n",
    "            ax[0].text(x, y, str(pass_count), color=\"black\", fontsize=12)\n",
    "            pass_count += 1\n",
    "        #posição dos pontos lidos pelo sensor ultrassonico\n",
    "        ax[0].scatter(ultrassonic_point_array[:,0],ultrassonic_point_array[:,1], 10, c='magenta', marker='.')\n",
    "\n",
    "        #posição do centro do robo\n",
    "        ax[1].scatter(robot_path[:,0], robot_path[:,1], 40, c='b', marker='o')\n",
    "        #ax[1].plot(robot_path[:,0], robot_path[:,1],'.-')\n",
    "        pass_count = 0\n",
    "        for x, y in zip(robot_path[:,0], robot_path[:,1]):\n",
    "            ax[1].text(x, y, str(pass_count), color=\"black\", fontsize=12)\n",
    "            pass_count += 1\n",
    "        #posição dos pontos lidos pelo sensor laser\n",
    "        ax[1].scatter(laser_point_array[:,0],laser_point_array[:,1], 10, c='r', marker='.')\n",
    "\n",
    "        plt.show()\n",
    "\n",
    "class PID():\n",
    "    def __init__(self, P=1, I=0.0, D=0.0, Derivator=0, Integrator=0, Integrator_max=500, Integrator_min=-500):\n",
    "        self.Kp=P\n",
    "        self.Ki=I\n",
    "        self.Kd=D\n",
    "        self.Derivator=Derivator\n",
    "        self.Integrator=Integrator\n",
    "        self.Integrator_max=Integrator_max\n",
    "        self.Integrator_min=Integrator_min\n",
    "        self.set_point=0.0\n",
    "        self.error=0.0\n",
    "\n",
    "    def update(self,current_value):\n",
    "        self.error = self.set_point - current_value\n",
    "        self.P_value = self.Kp * self.error\n",
    "        self.D_value = self.Kd * ( self.error - self.Derivator)\n",
    "        self.Derivator = self.error\n",
    "        self.Integrator = self.Integrator + self.error\n",
    "\n",
    "        if self.Integrator > self.Integrator_max:\n",
    "            self.Integrator = self.Integrator_max\n",
    "        elif self.Integrator < self.Integrator_min:\n",
    "            self.Integrator = self.Integrator_min\n",
    "\n",
    "        self.I_value = self.Integrator * self.Ki\n",
    "\n",
    "        PID = self.P_value + self.I_value + self.D_value\n",
    "        print(\"PID cv \",current_value ,\" sp \", self.set_point ,\" error \", self.error ,\" pid \", PID)\n",
    "        return PID\n",
    "\n",
    "    def setPoint(self,set_point):\n",
    "        self.set_point = set_point\n",
    "        self.Integrator=0\n",
    "        self.Derivator=0"
   ]
  },
  {
   "cell_type": "code",
   "execution_count": 4,
   "metadata": {},
   "outputs": [],
   "source": [
    "def toGlobal(robot_x, robot_y,robot_ang, Point_xr, Point_yr):\n",
    "    T_trans = np.array([[1,0,robot_x],[0,1,robot_y],[0,0,1]])\n",
    "    T_rot = np.array([[math.cos(robot_ang),-math.sin(robot_ang),0],[math.sin(robot_ang),math.cos(robot_ang),0],[0,0,1]])\n",
    "    T = np.dot(T_trans,T_rot)\n",
    "    res = np.dot(T, np.array([Point_xr,Point_yr,1]))\n",
    "    return res[0],res[1]\n",
    "\n",
    "def plot_lase_robot_frame():\n",
    "    fig, ax = plt.subplots()\n",
    "    #posição dos feixes laser\n",
    "    ax.scatter(laser_sensor.laser_x, laser_sensor.laser_y, 3, c='g', marker='o')\n",
    "    #posição do centro do robo\n",
    "    ax.scatter(0, 0, 40, c='b', marker='o')\n",
    "    plt.show()\n",
    "\n",
    "def fromGlobal(robot_x, robot_y,robot_ang, Point_xr, Point_yr):\n",
    "    T_trans = np.array([[1,0,-robot_x],[0,1,-robot_y],[0,0,1]])\n",
    "    T_rot = np.array([[math.cos(robot_ang),math.sin(robot_ang),0],[-math.sin(robot_ang),math.cos(robot_ang),0],[0,0,1]])\n",
    "    T = np.dot(T_rot,T_trans)\n",
    "    res = np.dot(T, np.array([Point_xr,Point_yr,1]))\n",
    "    ang = np.arctan2(res[1],res[0])\n",
    "    return res[0],res[1], ang"
   ]
  },
  {
   "cell_type": "markdown",
   "metadata": {},
   "source": [
    "### -------------------------------------------------------------------------------------------------------------------------------------------------------\n",
    "### ---------------------------------------------------------  CÓDIGO PARA EDIÇÃO  ----------------------------------------------------------\n",
    "### -------------------------------------------------------------------------------------------------------------------------------------------------------"
   ]
  },
  {
   "cell_type": "code",
   "execution_count": 5,
   "metadata": {},
   "outputs": [],
   "source": [
    "class MobileRobot():\n",
    "    def __init__(self):\n",
    "        self.go_x = 0\n",
    "        self.go_y = 0\n",
    "        self.robot = Robot()\n",
    "        self.kinematicModel = Kinematic_model(self.robot)\n",
    "        self.us_sensors = Us_sensor(self.robot)\n",
    "        self.laser_sensors = Laser_sensor(self.robot)\n",
    "        self.pidL = PID()\n",
    "        self.pidL.setPoint(0.5)\n",
    "#         self.pidF = PID()\n",
    "#         self.pidF.setPoint(1)\n",
    "        self.compute_interval = 0.5\n",
    "        self.follow_wall_side = \"LEFT\"\n",
    "        \n",
    "        self.curr_state = None\n",
    "        self.prev_state = None\n",
    "        \n",
    "    def checkCurrentState(self):\n",
    "        previous_state = self.curr_state\n",
    "        left = self.us_sensors.get_left_distance()\n",
    "        right = self.us_sensors.get_right_distance()\n",
    "        front = self.us_sensors.get_front_distance()\n",
    "        \n",
    "        #Initial state: Move Foward\n",
    "        if (previous_state == None and self.prev_state == None):\n",
    "            self.curr_state = 'CalcDirection'\n",
    "        \n",
    "        #CD -> MF\n",
    "        if (previous_state == 'CalcDirection' and front >= 0.5):\n",
    "            self.curr_state = 'MoveFoward'\n",
    "        \n",
    "        #MF->TR\n",
    "        if (previous_state == 'MoveFoward' and front <= 0.5):\n",
    "            self.curr_state = 'TurnRight'\n",
    "            \n",
    "        #TR->WF\n",
    "        if (previous_state == 'TurnRight' and left <= 0.8):\n",
    "            self.curr_state = 'WallFollow'\n",
    "            \n",
    "        #WF->TR\n",
    "        if (previous_state == 'WallFollow' and front <= 0.5):\n",
    "            self.curr_state = 'TurnRight'\n",
    "            \n",
    "        #WF->MoveFoward\n",
    "        if (previous_state == 'WallFollow' and front >= 5 and left >= 5):\n",
    "            self.curr_state = 'CalcDirection'\n",
    "          \n",
    "        #update prev\n",
    "        self.prev_state = previous_state\n",
    "    \n",
    "    def control(self, left_distance, right_distance, front_distance ):\n",
    "        left = self.us_sensors.get_left_distance()\n",
    "        right = self.us_sensors.get_right_distance()\n",
    "        front = self.us_sensors.get_front_distance()\n",
    "        vel = 0\n",
    "        turn = 0\n",
    "        self.checkCurrentState()\n",
    "        \n",
    "        print(\"left \", left, \"right \", right, \"front \", front)\n",
    "        \n",
    "        #State Machine\n",
    "        ##Move foward\n",
    "        if (self.curr_state == 'MoveFoward'):\n",
    "            turn = 0\n",
    "            vel = 1\n",
    "        ##Turn Right\n",
    "        elif (self.curr_state == 'TurnRight'):\n",
    "            turn = 1\n",
    "            vel = 0\n",
    "        #Wall Follow\n",
    "        elif (self.curr_state == 'WallFollow'):\n",
    "            turn = self.pidL.update(left_distance)\n",
    "            vel = 1\n",
    "        #Turn Back\n",
    "#         elif (self.curr_state == 'TurnBack'):\n",
    "#             turn = -1\n",
    "#             vel = 0\n",
    "        #Calc Direction\n",
    "        elif (self.curr_state == 'CalcDirection'):\n",
    "            self.teste()\n",
    "        \n",
    "        \n",
    "        print(\"State: \", self.curr_state)\n",
    "        self.prev_state = self.curr_state\n",
    "        return vel + turn, vel - turn\n",
    "\n",
    "    def start(self, seconds):\n",
    "        for step in range(int(seconds/self.compute_interval)):\n",
    "            #Phi_l, Phi_r = self.braitenberg(self.us_sensors.data[\"raw_reading\"][:8],2)\n",
    "            Phi_l, Phi_r = self.control(self.us_sensors.get_left_distance(),self.us_sensors.get_right_distance(), self.us_sensors.get_front_distance())\n",
    "            self.kinematicModel.move(Phi_r, Phi_l,self.compute_interval)\n",
    "            #self.kinematicModel.plot_paths()\n",
    "            #self.point_cloud.update()\n",
    "            #self.point_cloud.plot_point_cloud()\n",
    "    \n",
    "    def teste(self):\n",
    "        #goal ->smoke point (3.5,5)\n",
    "        give_diretion(self.robot, self.us_sensors, 3.5, 5)\n",
    "        "
   ]
  },
  {
   "cell_type": "code",
   "execution_count": 20,
   "metadata": {},
   "outputs": [],
   "source": [
    "def give_diretion(robot, us_sensors, go_point_x, go_point_y):\n",
    "    \n",
    "    # global position of robot\n",
    "    robot_x = robot.get_current_position()[0]\n",
    "    robot_y = robot.get_current_position()[1]\n",
    "    robot_ang = robot.get_current_orientation()[2]\n",
    "    \n",
    "    # relative vector to goal\n",
    "    vec_x_go = go_point_x - robot_x\n",
    "    vec_y_go = go_point_y - robot_y\n",
    "    \n",
    "    # angle between position and goal vector\n",
    "    #vector origin\n",
    "    \n",
    "    #ang = math.acos( (vec_x_go*robot_x+vec_y_go*robot_y) / (( math.sqrt(math.pow(vec_x_go,2)+math.pow(vec_y_go,2)) )*( math.sqrt(math.pow(robot_x,2)+math.pow(robot_y,2)) )) )\n",
    "    ang = math.acos( vec_x_go / ( math.sqrt(math.pow(vec_x_go,2)+math.pow(vec_y_go,2)) ) )\n",
    "\n",
    "    print(\"ang:\")\n",
    "    print(ang)\n",
    "    print(\"ang robot:\")\n",
    "    print(robot_ang)\n",
    "    print(\"X:\")\n",
    "    print(robot_x)\n",
    "    print(\"Y:\")\n",
    "    print(robot_y)\n",
    "    \n",
    "    if robot_y > 0:\n",
    "        mr.kinematicModel.turnGlobal(ang)\n",
    "    else:\n",
    "        mr.kinematicModel.turnGlobal(ang)\n",
    "    \n",
    "    print(\"After:\")\n",
    "    print(robot.get_current_orientation()[2])\n",
    "    \n",
    "    # plot\n",
    "    plt.plot([0,0],[-7.5,7.5], color='g')\n",
    "    plt.plot([-7.5,7.5], [0,0], color='r')\n",
    "    origin = [robot_x, robot_y]\n",
    "    \n",
    "    #plt.quiver(*origin, data1, data2, color=['b'], scale=30)\n",
    "    #plt.quiver(*origin, vec_x_sum, vec_y_sum, color=['r'])\n",
    "    plt.scatter([3.5],[5], color='r', marker = '*', s = 100)\n",
    "    plt.quiver(*origin, vec_x_go, vec_y_go, color=['b'])\n",
    "\n",
    "    plt.axis([-7.5,7.5,-7.5,7.5])\n",
    "    plt.show()\n",
    "    \n",
    "    # new direction [vector_x, vetor_y]\n",
    "    #return [alpha * vec_x_go + (1 - alpha) * vec_x_sum, alpha * vec_y_go + (1 - alpha) * vec_y_sum, robot_x, robot_y]\n",
    "        \n",
    "#give_diretion(robot, us_sensors, 0, 0)"
   ]
  },
  {
   "cell_type": "code",
   "execution_count": 27,
   "metadata": {},
   "outputs": [
    {
     "name": "stdout",
     "output_type": "stream",
     "text": [
      "Connected to remoteApi server.\n",
      "\u001b[92m Pioneer_p3dx_ultrasonicSensor1 connected.\n",
      "\u001b[92m Pioneer_p3dx_ultrasonicSensor2 connected.\n",
      "\u001b[92m Pioneer_p3dx_ultrasonicSensor3 connected.\n",
      "\u001b[92m Pioneer_p3dx_ultrasonicSensor4 connected.\n",
      "\u001b[92m Pioneer_p3dx_ultrasonicSensor5 connected.\n",
      "\u001b[92m Pioneer_p3dx_ultrasonicSensor6 connected.\n",
      "\u001b[92m Pioneer_p3dx_ultrasonicSensor7 connected.\n",
      "\u001b[92m Pioneer_p3dx_ultrasonicSensor8 connected.\n",
      "\u001b[92m Pioneer_p3dx_ultrasonicSensor9 connected.\n",
      "\u001b[92m Pioneer_p3dx_ultrasonicSensor10 connected.\n",
      "\u001b[92m Pioneer_p3dx_ultrasonicSensor11 connected.\n",
      "\u001b[92m Pioneer_p3dx_ultrasonicSensor12 connected.\n",
      "\u001b[92m Pioneer_p3dx_ultrasonicSensor13 connected.\n",
      "\u001b[92m Pioneer_p3dx_ultrasonicSensor14 connected.\n",
      "\u001b[92m Pioneer_p3dx_ultrasonicSensor15 connected.\n",
      "\u001b[92m Pioneer_p3dx_ultrasonicSensor16 connected.\n",
      "\u001b[92m Vision sensor connected.\n",
      "\u001b[92m Laser connected.\n",
      "\u001b[92m Left motor connected.\n",
      "\u001b[92m Right motor connected.\n",
      "\u001b[92m Robot connected.\n"
     ]
    }
   ],
   "source": [
    "mr = MobileRobot()"
   ]
  },
  {
   "cell_type": "code",
   "execution_count": 25,
   "metadata": {},
   "outputs": [
    {
     "name": "stdout",
     "output_type": "stream",
     "text": [
      "ang:\n",
      "0.12871340809454332\n",
      "ang robot:\n",
      "0.6801717877388\n",
      "X:\n",
      "-3.850893020629883\n",
      "Y:\n",
      "4.048581600189209\n",
      "Initial orientation  0.6801717877388\n",
      "Ang  0.12871340809454332\n",
      "Diff -0.029233849066597123 orientation 0.15794725716114044curr orientation  0.15794725716114044\n",
      "After:\n",
      "0.15108612179756165\n"
     ]
    },
    {
     "data": {
      "image/png": "[encoded data removed]",
      "text/plain": [
       "<Figure size 432x288 with 1 Axes>"
      ]
     },
     "metadata": {
      "needs_background": "light"
     },
     "output_type": "display_data"
    }
   ],
   "source": [
    "# mr.teste()"
   ]
  },
  {
   "cell_type": "code",
   "execution_count": 28,
   "metadata": {},
   "outputs": [
    {
     "name": "stdout",
     "output_type": "stream",
     "text": [
      "left  5.0 right  5.0 front  5.0\n",
      "ang:\n",
      "0.8362893417746629\n",
      "ang robot:\n",
      "2.0808427333831787\n",
      "X:\n",
      "-1.8156073093414307\n",
      "Y:\n",
      "-0.8861716985702515\n",
      "Initial orientation  2.0808427333831787\n",
      "Ang  0.8362893417746629\n",
      "Diff -0.03081524816445458 orientation 0.86710458993911743curr orientation  0.8671045899391174\n",
      "After:\n",
      "0.8617385625839233\n"
     ]
    },
    {
     "data": {
      "image/png": "[encoded data removed]",
      "text/plain": [
       "<Figure size 432x288 with 1 Axes>"
      ]
     },
     "metadata": {
      "needs_background": "light"
     },
     "output_type": "display_data"
    },
    {
     "name": "stdout",
     "output_type": "stream",
     "text": [
      "State:  CalcDirection\n",
      "left  5.0 right  5.0 front  5.0\n",
      "State:  MoveFoward\n",
      "left  5.0 right  5.0 front  5.0\n",
      "State:  MoveFoward\n",
      "left  5.0 right  5.0 front  5.0\n",
      "State:  MoveFoward\n",
      "left  5.0 right  5.0 front  5.0\n",
      "State:  MoveFoward\n",
      "left  5.0 right  5.0 front  5.0\n",
      "State:  MoveFoward\n",
      "left  5.0 right  5.0 front  5.0\n",
      "State:  MoveFoward\n",
      "left  5.0 right  5.0 front  5.0\n",
      "State:  MoveFoward\n",
      "left  5.0 right  5.0 front  5.0\n",
      "State:  MoveFoward\n",
      "left  5.0 right  5.0 front  5.0\n",
      "State:  MoveFoward\n",
      "left  5.0 right  5.0 front  0.8931397199630737\n",
      "State:  MoveFoward\n",
      "left  0.9487119317054749 right  5.0 front  0.8031696081161499\n",
      "State:  MoveFoward\n",
      "left  0.8423272967338562 right  5.0 front  0.7125975489616394\n",
      "State:  MoveFoward\n",
      "left  0.740283191204071 right  5.0 front  0.625358521938324\n",
      "State:  MoveFoward\n",
      "left  0.6347652673721313 right  5.0 front  0.5354306697845459\n",
      "State:  MoveFoward\n",
      "left  0.5328083038330078 right  5.0 front  0.4484058916568756\n",
      "State:  TurnRight\n",
      "left  0.4054267704486847 right  5.0 front  5.0\n",
      "PID cv  0.4054267704486847  sp  0.5  error  0.09457322955131531  pid  0.09457322955131531\n",
      "State:  WallFollow\n",
      "left  0.3950497508049011 right  5.0 front  5.0\n",
      "PID cv  0.3950497508049011  sp  0.5  error  0.10495024919509888  pid  0.10495024919509888\n",
      "State:  WallFollow\n",
      "left  0.38781455159187317 right  5.0 front  5.0\n",
      "PID cv  0.38781455159187317  sp  0.5  error  0.11218544840812683  pid  0.11218544840812683\n",
      "State:  WallFollow\n",
      "left  0.3883046805858612 right  5.0 front  5.0\n",
      "PID cv  0.3883046805858612  sp  0.5  error  0.1116953194141388  pid  0.1116953194141388\n",
      "State:  WallFollow\n",
      "left  0.38125211000442505 right  5.0 front  5.0\n",
      "PID cv  0.38125211000442505  sp  0.5  error  0.11874788999557495  pid  0.11874788999557495\n",
      "State:  WallFollow\n",
      "left  0.37862110137939453 right  5.0 front  5.0\n",
      "PID cv  0.37862110137939453  sp  0.5  error  0.12137889862060547  pid  0.12137889862060547\n",
      "State:  WallFollow\n",
      "left  0.38309353590011597 right  5.0 front  5.0\n",
      "PID cv  0.38309353590011597  sp  0.5  error  0.11690646409988403  pid  0.11690646409988403\n",
      "State:  WallFollow\n",
      "left  0.4071182608604431 right  5.0 front  5.0\n",
      "PID cv  0.4071182608604431  sp  0.5  error  0.09288173913955688  pid  0.09288173913955688\n",
      "State:  WallFollow\n",
      "left  0.44263070821762085 right  5.0 front  5.0\n",
      "PID cv  0.44263070821762085  sp  0.5  error  0.05736929178237915  pid  0.05736929178237915\n",
      "State:  WallFollow\n",
      "left  0.48645713925361633 right  5.0 front  5.0\n",
      "PID cv  0.48645713925361633  sp  0.5  error  0.013542860746383667  pid  0.013542860746383667\n",
      "State:  WallFollow\n",
      "left  0.5338272452354431 right  5.0 front  5.0\n",
      "PID cv  0.5338272452354431  sp  0.5  error  -0.033827245235443115  pid  -0.033827245235443115\n",
      "State:  WallFollow\n",
      "left  0.5820704698562622 right  5.0 front  5.0\n",
      "PID cv  0.5820704698562622  sp  0.5  error  -0.08207046985626221  pid  -0.08207046985626221\n",
      "State:  WallFollow\n",
      "left  0.6245840787887573 right  5.0 front  5.0\n",
      "PID cv  0.6245840787887573  sp  0.5  error  -0.12458407878875732  pid  -0.12458407878875732\n",
      "State:  WallFollow\n",
      "left  0.665499210357666 right  5.0 front  5.0\n",
      "PID cv  0.665499210357666  sp  0.5  error  -0.16549921035766602  pid  -0.16549921035766602\n",
      "State:  WallFollow\n",
      "left  0.7157707810401917 right  5.0 front  5.0\n",
      "PID cv  0.7157707810401917  sp  0.5  error  -0.21577078104019165  pid  -0.21577078104019165\n",
      "State:  WallFollow\n",
      "left  0.7552274465560913 right  5.0 front  5.0\n",
      "PID cv  0.7552274465560913  sp  0.5  error  -0.2552274465560913  pid  -0.2552274465560913\n",
      "State:  WallFollow\n",
      "left  0.7286187410354614 right  5.0 front  5.0\n",
      "PID cv  0.7286187410354614  sp  0.5  error  -0.22861874103546143  pid  -0.22861874103546143\n",
      "State:  WallFollow\n",
      "left  0.6870847344398499 right  5.0 front  5.0\n",
      "PID cv  0.6870847344398499  sp  0.5  error  -0.18708473443984985  pid  -0.18708473443984985\n",
      "State:  WallFollow\n",
      "left  0.6547687649726868 right  5.0 front  5.0\n",
      "PID cv  0.6547687649726868  sp  0.5  error  -0.15476876497268677  pid  -0.15476876497268677\n",
      "State:  WallFollow\n",
      "left  0.6144154071807861 right  5.0 front  5.0\n",
      "PID cv  0.6144154071807861  sp  0.5  error  -0.11441540718078613  pid  -0.11441540718078613\n",
      "State:  WallFollow\n",
      "left  0.561168909072876 right  5.0 front  5.0\n",
      "PID cv  0.561168909072876  sp  0.5  error  -0.06116890907287598  pid  -0.06116890907287598\n",
      "State:  WallFollow\n",
      "left  0.48959630727767944 right  5.0 front  5.0\n",
      "PID cv  0.48959630727767944  sp  0.5  error  0.010403692722320557  pid  0.010403692722320557\n",
      "State:  WallFollow\n",
      "left  0.4092493951320648 right  5.0 front  5.0\n",
      "PID cv  0.4092493951320648  sp  0.5  error  0.09075060486793518  pid  0.09075060486793518\n",
      "State:  WallFollow\n",
      "left  0.3153161108493805 right  5.0 front  5.0\n",
      "PID cv  0.3153161108493805  sp  0.5  error  0.1846838891506195  pid  0.1846838891506195\n",
      "State:  WallFollow\n",
      "left  0.2339211106300354 right  5.0 front  5.0\n",
      "PID cv  0.2339211106300354  sp  0.5  error  0.2660788893699646  pid  0.2660788893699646\n",
      "State:  WallFollow\n",
      "left  0.24714256823062897 right  5.0 front  5.0\n",
      "PID cv  0.24714256823062897  sp  0.5  error  0.25285743176937103  pid  0.25285743176937103\n",
      "State:  WallFollow\n",
      "left  5.0 right  5.0 front  5.0\n",
      "ang:\n",
      "1.2346793446519297\n",
      "ang robot:\n",
      "0.16258366405963898\n",
      "X:\n",
      "1.9834846258163452\n",
      "Y:\n",
      "0.6593347191810608\n",
      "Initial orientation  0.16258366405963898\n",
      "Ang  1.2346793446519297\n",
      "Diff 0.0295943055131358 orientation 1.205085039138794017curr orientation  1.205085039138794\n",
      "After:\n",
      "1.2109429836273193\n"
     ]
    },
    {
     "data": {
      "image/png": "[encoded data removed]",
      "text/plain": [
       "<Figure size 432x288 with 1 Axes>"
      ]
     },
     "metadata": {
      "needs_background": "light"
     },
     "output_type": "display_data"
    },
    {
     "name": "stdout",
     "output_type": "stream",
     "text": [
      "State:  CalcDirection\n",
      "left  5.0 right  5.0 front  5.0\n",
      "State:  MoveFoward\n",
      "left  0.2563346326351166 right  5.0 front  5.0\n",
      "State:  MoveFoward\n",
      "left  0.27693986892700195 right  5.0 front  5.0\n",
      "State:  MoveFoward\n",
      "left  0.2563711106777191 right  5.0 front  5.0\n",
      "State:  MoveFoward\n",
      "left  0.28185829520225525 right  5.0 front  5.0\n",
      "State:  MoveFoward\n",
      "left  5.0 right  5.0 front  5.0\n",
      "State:  MoveFoward\n",
      "left  5.0 right  5.0 front  5.0\n",
      "State:  MoveFoward\n",
      "left  5.0 right  5.0 front  5.0\n",
      "State:  MoveFoward\n",
      "left  5.0 right  5.0 front  5.0\n",
      "State:  MoveFoward\n",
      "left  5.0 right  5.0 front  5.0\n",
      "State:  MoveFoward\n",
      "left  5.0 right  5.0 front  5.0\n",
      "State:  MoveFoward\n",
      "left  5.0 right  5.0 front  5.0\n",
      "State:  MoveFoward\n",
      "left  5.0 right  5.0 front  5.0\n",
      "State:  MoveFoward\n",
      "left  5.0 right  5.0 front  5.0\n",
      "State:  MoveFoward\n",
      "left  5.0 right  5.0 front  5.0\n",
      "State:  MoveFoward\n",
      "left  5.0 right  5.0 front  5.0\n",
      "State:  MoveFoward\n",
      "left  5.0 right  5.0 front  5.0\n",
      "State:  MoveFoward\n",
      "left  5.0 right  5.0 front  0.970077395439148\n",
      "State:  MoveFoward\n",
      "left  5.0 right  5.0 front  0.868930995464325\n",
      "State:  MoveFoward\n",
      "left  5.0 right  5.0 front  0.7721234560012817\n",
      "State:  MoveFoward\n",
      "left  5.0 right  5.0 front  0.6672207713127136\n",
      "State:  MoveFoward\n",
      "left  5.0 right  5.0 front  0.5746847987174988\n",
      "State:  MoveFoward\n",
      "left  5.0 right  5.0 front  0.4789216220378876\n",
      "State:  TurnRight\n",
      "left  0.49894478917121887 right  5.0 front  0.5825627446174622\n",
      "PID cv  0.49894478917121887  sp  0.5  error  0.001055210828781128  pid  0.001055210828781128\n",
      "State:  WallFollow\n",
      "left  0.43009841442108154 right  5.0 front  0.5755615830421448\n",
      "PID cv  0.43009841442108154  sp  0.5  error  0.06990158557891846  pid  0.06990158557891846\n",
      "State:  WallFollow\n",
      "left  0.37528297305107117 right  5.0 front  0.5399158596992493\n",
      "PID cv  0.37528297305107117  sp  0.5  error  0.12471702694892883  pid  0.12471702694892883\n",
      "State:  WallFollow\n",
      "left  0.3210648000240326 right  5.0 front  0.5361549854278564\n",
      "PID cv  0.3210648000240326  sp  0.5  error  0.1789351999759674  pid  0.1789351999759674\n",
      "State:  WallFollow\n",
      "left  0.2859920561313629 right  5.0 front  5.0\n",
      "PID cv  0.2859920561313629  sp  0.5  error  0.21400794386863708  pid  0.21400794386863708\n",
      "State:  WallFollow\n",
      "left  0.2796840965747833 right  5.0 front  5.0\n",
      "PID cv  0.2796840965747833  sp  0.5  error  0.22031590342521667  pid  0.22031590342521667\n",
      "State:  WallFollow\n",
      "left  0.27348992228507996 right  5.0 front  5.0\n",
      "PID cv  0.27348992228507996  sp  0.5  error  0.22651007771492004  pid  0.22651007771492004\n",
      "State:  WallFollow\n",
      "left  0.2628050446510315 right  5.0 front  5.0\n",
      "PID cv  0.2628050446510315  sp  0.5  error  0.2371949553489685  pid  0.2371949553489685\n",
      "State:  WallFollow\n",
      "left  0.28432655334472656 right  5.0 front  5.0\n",
      "PID cv  0.28432655334472656  sp  0.5  error  0.21567344665527344  pid  0.21567344665527344\n",
      "State:  WallFollow\n",
      "left  0.3390655517578125 right  5.0 front  5.0\n",
      "PID cv  0.3390655517578125  sp  0.5  error  0.1609344482421875  pid  0.1609344482421875\n",
      "State:  WallFollow\n",
      "left  0.4266682267189026 right  5.0 front  5.0\n",
      "PID cv  0.4266682267189026  sp  0.5  error  0.07333177328109741  pid  0.07333177328109741\n",
      "State:  WallFollow\n",
      "left  0.5150765776634216 right  5.0 front  5.0\n",
      "PID cv  0.5150765776634216  sp  0.5  error  -0.01507657766342163  pid  -0.01507657766342163\n",
      "State:  WallFollow\n",
      "left  0.5966752171516418 right  5.0 front  5.0\n",
      "PID cv  0.5966752171516418  sp  0.5  error  -0.09667521715164185  pid  -0.09667521715164185\n",
      "State:  WallFollow\n",
      "left  0.6620821952819824 right  5.0 front  5.0\n",
      "PID cv  0.6620821952819824  sp  0.5  error  -0.16208219528198242  pid  -0.16208219528198242\n",
      "State:  WallFollow\n",
      "left  0.7062953114509583 right  5.0 front  5.0\n",
      "PID cv  0.7062953114509583  sp  0.5  error  -0.20629531145095825  pid  -0.20629531145095825\n",
      "State:  WallFollow\n",
      "left  5.0 right  5.0 front  5.0\n",
      "ang:\n",
      "1.9744443036149235\n",
      "ang robot:\n",
      "-0.8360710144042969\n",
      "X:\n",
      "4.4963226318359375\n",
      "Y:\n",
      "2.6672377586364746\n",
      "Initial orientation  5.447114292775289\n",
      "Ang  1.9744443036149235\n",
      "Diff 0.031517062289545095 orientation 1.94292724132537847curr orientation  1.9429272413253784\n",
      "After:\n",
      "1.9429272413253784\n"
     ]
    },
    {
     "data": {
      "image/png": "[encoded data removed]",
      "text/plain": [
       "<Figure size 432x288 with 1 Axes>"
      ]
     },
     "metadata": {
      "needs_background": "light"
     },
     "output_type": "display_data"
    },
    {
     "name": "stdout",
     "output_type": "stream",
     "text": [
      "State:  CalcDirection\n",
      "left  5.0 right  5.0 front  0.7056292295455933\n",
      "State:  MoveFoward\n",
      "left  5.0 right  5.0 front  0.6052173972129822\n",
      "State:  MoveFoward\n",
      "left  5.0 right  5.0 front  0.5031283497810364\n",
      "State:  MoveFoward\n",
      "left  5.0 right  5.0 front  0.3959144353866577\n",
      "State:  TurnRight\n",
      "left  5.0 right  5.0 front  0.3774881064891815\n",
      "State:  TurnRight\n",
      "left  0.44136887788772583 right  5.0 front  0.44229280948638916\n",
      "PID cv  0.44136887788772583  sp  0.5  error  0.05863112211227417  pid  0.05863112211227417\n",
      "State:  WallFollow\n",
      "left  0.35478541254997253 right  5.0 front  0.4287520945072174\n",
      "State:  TurnRight\n",
      "left  0.3426523208618164 right  5.0 front  5.0\n",
      "PID cv  0.3426523208618164  sp  0.5  error  0.1573476791381836  pid  0.1573476791381836\n",
      "State:  WallFollow\n",
      "left  0.33121755719184875 right  5.0 front  5.0\n",
      "PID cv  0.33121755719184875  sp  0.5  error  0.16878244280815125  pid  0.16878244280815125\n",
      "State:  WallFollow\n",
      "left  0.3319578468799591 right  5.0 front  5.0\n",
      "PID cv  0.3319578468799591  sp  0.5  error  0.1680421531200409  pid  0.1680421531200409\n",
      "State:  WallFollow\n",
      "left  0.35798776149749756 right  5.0 front  5.0\n",
      "PID cv  0.35798776149749756  sp  0.5  error  0.14201223850250244  pid  0.14201223850250244\n",
      "State:  WallFollow\n",
      "left  5.0 right  5.0 front  5.0\n",
      "ang:\n",
      "2.141083619673981\n",
      "ang robot:\n",
      "-0.4782845973968506\n",
      "X:\n",
      "4.812066078186035\n",
      "Y:\n",
      "2.9542884826660156\n",
      "Initial orientation  5.804900709782736\n",
      "Ang  2.141083619673981\n",
      "Diff 0.033475301345123665 orientation 2.10760831832885746curr orientation  2.1076083183288574\n",
      "After:\n",
      "2.1132006645202637\n"
     ]
    },
    {
     "data": {
      "image/png": "[encoded data removed]",
      "text/plain": [
       "<Figure size 432x288 with 1 Axes>"
      ]
     },
     "metadata": {
      "needs_background": "light"
     },
     "output_type": "display_data"
    },
    {
     "name": "stdout",
     "output_type": "stream",
     "text": [
      "State:  CalcDirection\n",
      "left  5.0 right  5.0 front  0.4239218235015869\n",
      "ang:\n",
      "2.1625864294508155\n",
      "ang robot:\n",
      "2.1153719425201416\n",
      "X:\n",
      "4.9082207679748535\n",
      "Y:\n",
      "2.904905319213867\n",
      "Initial orientation  2.1153719425201416\n",
      "Ang  2.1625864294508155\n",
      "Diff 0.03214500221998051 orientation 2.1304414272308356curr orientation  2.130441427230835\n",
      "After:\n",
      "2.1360037326812744\n"
     ]
    },
    {
     "data": {
      "image/png": "[encoded data removed]",
      "text/plain": [
       "<Figure size 432x288 with 1 Axes>"
      ]
     },
     "metadata": {
      "needs_background": "light"
     },
     "output_type": "display_data"
    },
    {
     "name": "stdout",
     "output_type": "stream",
     "text": [
      "State:  CalcDirection\n",
      "left  5.0 right  5.0 front  0.4263821244239807\n",
      "ang:\n",
      "2.1629956999220945\n",
      "ang robot:\n",
      "2.1378731727600098\n",
      "X:\n",
      "4.908919334411621\n",
      "Y:\n",
      "2.9057178497314453\n",
      "Initial orientation  2.1378731727600098\n",
      "Ang  2.1629956999220945\n",
      "curr orientation  2.1378731727600098\n",
      "After:\n",
      "2.1378700733184814\n"
     ]
    },
    {
     "data": {
      "image/png": "[encoded data removed]",
      "text/plain": [
       "<Figure size 432x288 with 1 Axes>"
      ]
     },
     "metadata": {
      "needs_background": "light"
     },
     "output_type": "display_data"
    },
    {
     "name": "stdout",
     "output_type": "stream",
     "text": [
      "State:  CalcDirection\n",
      "left  5.0 right  5.0 front  0.4263860881328583\n",
      "ang:\n",
      "2.1630058197714024\n",
      "ang robot:\n",
      "2.137834072113037\n",
      "X:\n",
      "4.9089555740356445\n",
      "Y:\n",
      "2.905709743499756\n",
      "Initial orientation  2.137834072113037\n",
      "Ang  2.1630058197714024\n",
      "curr orientation  2.137834072113037\n",
      "After:\n",
      "2.137834072113037\n"
     ]
    },
    {
     "data": {
      "image/png": "[encoded data removed]",
      "text/plain": [
       "<Figure size 432x288 with 1 Axes>"
      ]
     },
     "metadata": {
      "needs_background": "light"
     },
     "output_type": "display_data"
    },
    {
     "name": "stdout",
     "output_type": "stream",
     "text": [
      "State:  CalcDirection\n",
      "left  5.0 right  5.0 front  0.42638257145881653\n",
      "ang:\n",
      "2.163012704904263\n",
      "ang robot:\n",
      "2.1377816200256348\n",
      "X:\n",
      "4.908980369567871\n",
      "Y:\n",
      "2.9057040214538574\n",
      "Initial orientation  2.1377816200256348\n",
      "Ang  2.163012704904263\n",
      "curr orientation  2.1377816200256348\n",
      "After:\n",
      "2.1377806663513184\n"
     ]
    },
    {
     "data": {
      "image/png": "[encoded data removed]",
      "text/plain": [
       "<Figure size 432x288 with 1 Axes>"
      ]
     },
     "metadata": {
      "needs_background": "light"
     },
     "output_type": "display_data"
    },
    {
     "name": "stdout",
     "output_type": "stream",
     "text": [
      "State:  CalcDirection\n",
      "left  5.0 right  5.0 front  0.4263879954814911\n",
      "ang:\n",
      "2.163019379035029\n",
      "ang robot:\n",
      "2.1377639770507812\n",
      "X:\n",
      "4.909005165100098\n",
      "Y:\n",
      "2.9056973457336426\n",
      "Initial orientation  2.1377639770507812\n",
      "Ang  2.163019379035029\n",
      "curr orientation  2.1377639770507812\n",
      "After:\n",
      "2.1377594470977783\n"
     ]
    },
    {
     "data": {
      "image/png": "[encoded data removed]",
      "text/plain": [
       "<Figure size 432x288 with 1 Axes>"
      ]
     },
     "metadata": {
      "needs_background": "light"
     },
     "output_type": "display_data"
    },
    {
     "name": "stdout",
     "output_type": "stream",
     "text": [
      "State:  CalcDirection\n",
      "left  5.0 right  5.0 front  0.426374226808548\n",
      "ang:\n",
      "2.1630270793237667\n",
      "ang robot:\n",
      "2.137758255004883\n",
      "X:\n",
      "4.909021854400635\n",
      "Y:\n",
      "2.905707359313965\n",
      "Initial orientation  2.137758255004883\n",
      "Ang  2.1630270793237667\n",
      "curr orientation  2.137758255004883\n",
      "After:\n",
      "2.1377575397491455\n"
     ]
    },
    {
     "data": {
      "image/png": "[encoded data removed]",
      "text/plain": [
       "<Figure size 432x288 with 1 Axes>"
      ]
     },
     "metadata": {
      "needs_background": "light"
     },
     "output_type": "display_data"
    },
    {
     "name": "stdout",
     "output_type": "stream",
     "text": [
      "State:  CalcDirection\n",
      "left  5.0 right  5.0 front  0.4263881742954254\n",
      "ang:\n",
      "2.1630340039390923\n",
      "ang robot:\n",
      "2.1377432346343994\n",
      "X:\n",
      "4.909050941467285\n",
      "Y:\n",
      "2.9056954383850098\n",
      "Initial orientation  2.1377432346343994\n",
      "Ang  2.1630340039390923\n",
      "curr orientation  2.1377432346343994\n",
      "After:\n",
      "2.1377532482147217\n"
     ]
    },
    {
     "data": {
      "image/png": "[encoded data removed]",
      "text/plain": [
       "<Figure size 432x288 with 1 Axes>"
      ]
     },
     "metadata": {
      "needs_background": "light"
     },
     "output_type": "display_data"
    },
    {
     "name": "stdout",
     "output_type": "stream",
     "text": [
      "State:  CalcDirection\n",
      "left  5.0 right  5.0 front  0.4263938367366791\n",
      "ang:\n",
      "2.16303712131091\n",
      "ang robot:\n",
      "2.137730598449707\n",
      "X:\n",
      "4.909066200256348\n",
      "Y:\n",
      "2.905686855316162\n",
      "Initial orientation  2.137730598449707\n",
      "Ang  2.16303712131091\n",
      "curr orientation  2.137730598449707\n",
      "After:\n",
      "2.13773250579834\n"
     ]
    },
    {
     "data": {
      "image/png": "[encoded data removed]",
      "text/plain": [
       "<Figure size 432x288 with 1 Axes>"
      ]
     },
     "metadata": {
      "needs_background": "light"
     },
     "output_type": "display_data"
    },
    {
     "name": "stdout",
     "output_type": "stream",
     "text": [
      "State:  CalcDirection\n",
      "left  5.0 right  5.0 front  0.42639121413230896\n",
      "ang:\n",
      "2.1630448510528915\n",
      "ang robot:\n",
      "2.137713670730591\n",
      "X:\n",
      "4.909090518951416\n",
      "Y:\n",
      "2.9056856632232666\n",
      "Initial orientation  2.137713670730591\n",
      "Ang  2.1630448510528915\n",
      "curr orientation  2.137713670730591\n",
      "After:\n",
      "2.137712240219116\n"
     ]
    },
    {
     "data": {
      "image/png": "[encoded data removed]",
      "text/plain": [
       "<Figure size 432x288 with 1 Axes>"
      ]
     },
     "metadata": {
      "needs_background": "light"
     },
     "output_type": "display_data"
    },
    {
     "name": "stdout",
     "output_type": "stream",
     "text": [
      "State:  CalcDirection\n",
      "left  5.0 right  5.0 front  0.4263938367366791\n",
      "ang:\n",
      "2.1630454050082557\n",
      "ang robot:\n",
      "2.1376821994781494\n",
      "X:\n",
      "4.909099102020264\n",
      "Y:\n",
      "2.9056754112243652\n",
      "Initial orientation  2.1376821994781494\n",
      "Ang  2.1630454050082557\n",
      "curr orientation  2.1376821994781494\n",
      "After:\n",
      "2.1376771926879883\n"
     ]
    },
    {
     "data": {
      "image/png": "[encoded data removed]",
      "text/plain": [
       "<Figure size 432x288 with 1 Axes>"
      ]
     },
     "metadata": {
      "needs_background": "light"
     },
     "output_type": "display_data"
    },
    {
     "name": "stdout",
     "output_type": "stream",
     "text": [
      "State:  CalcDirection\n",
      "left  5.0 right  5.0 front  0.42640671133995056\n",
      "ang:\n",
      "2.163053219786119\n",
      "ang robot:\n",
      "2.1376678943634033\n",
      "X:\n",
      "4.909130096435547\n",
      "Y:\n",
      "2.9056646823883057\n",
      "Initial orientation  2.1376678943634033\n",
      "Ang  2.163053219786119\n",
      "curr orientation  2.1376678943634033\n",
      "After:\n",
      "2.1376678943634033\n"
     ]
    },
    {
     "data": {
      "image/png": "[encoded data removed]",
      "text/plain": [
       "<Figure size 432x288 with 1 Axes>"
      ]
     },
     "metadata": {
      "needs_background": "light"
     },
     "output_type": "display_data"
    },
    {
     "name": "stdout",
     "output_type": "stream",
     "text": [
      "State:  CalcDirection\n",
      "left  5.0 right  5.0 front  0.4264037013053894\n",
      "ang:\n",
      "2.1630576637996777\n",
      "ang robot:\n",
      "2.1376729011535645\n",
      "X:\n",
      "4.90914249420166\n",
      "Y:\n",
      "2.9056663513183594\n",
      "Initial orientation  2.1376729011535645\n",
      "Ang  2.1630576637996777\n",
      "curr orientation  2.1376729011535645\n",
      "After:\n",
      "2.1376760005950928\n"
     ]
    },
    {
     "data": {
      "image/png": "[encoded data removed]",
      "text/plain": [
       "<Figure size 432x288 with 1 Axes>"
      ]
     },
     "metadata": {
      "needs_background": "light"
     },
     "output_type": "display_data"
    },
    {
     "name": "stdout",
     "output_type": "stream",
     "text": [
      "State:  CalcDirection\n",
      "left  5.0 right  5.0 front  0.42641347646713257\n",
      "ang:\n",
      "2.1630629721949806\n",
      "ang robot:\n",
      "2.13765287399292\n",
      "X:\n",
      "4.909165382385254\n",
      "Y:\n",
      "2.905656337738037\n",
      "Initial orientation  2.13765287399292\n",
      "Ang  2.1630629721949806\n",
      "curr orientation  2.13765287399292\n",
      "After:\n",
      "2.1376495361328125\n"
     ]
    },
    {
     "data": {
      "image/png": "[encoded data removed]",
      "text/plain": [
       "<Figure size 432x288 with 1 Axes>"
      ]
     },
     "metadata": {
      "needs_background": "light"
     },
     "output_type": "display_data"
    },
    {
     "name": "stdout",
     "output_type": "stream",
     "text": [
      "State:  CalcDirection\n",
      "left  5.0 right  5.0 front  0.42639899253845215\n",
      "ang:\n",
      "2.1630730727768066\n",
      "ang robot:\n",
      "2.1376354694366455\n",
      "X:\n",
      "4.9091901779174805\n",
      "Y:\n",
      "2.905665159225464\n",
      "Initial orientation  2.1376354694366455\n",
      "Ang  2.1630730727768066\n",
      "curr orientation  2.1376354694366455\n",
      "After:\n",
      "2.1376354694366455\n"
     ]
    },
    {
     "data": {
      "image/png": "[encoded data removed]",
      "text/plain": [
       "<Figure size 432x288 with 1 Axes>"
      ]
     },
     "metadata": {
      "needs_background": "light"
     },
     "output_type": "display_data"
    },
    {
     "name": "stdout",
     "output_type": "stream",
     "text": [
      "State:  CalcDirection\n",
      "left  5.0 right  5.0 front  0.4263920187950134\n",
      "ang:\n",
      "2.1630790297383875\n",
      "ang robot:\n",
      "2.137604236602783\n",
      "X:\n",
      "4.909207820892334\n",
      "Y:\n",
      "2.905665874481201\n",
      "Initial orientation  2.137604236602783\n",
      "Ang  2.1630790297383875\n",
      "curr orientation  2.137604236602783\n",
      "After:\n",
      "2.1376070976257324\n"
     ]
    },
    {
     "data": {
      "image/png": "[encoded data removed]",
      "text/plain": [
       "<Figure size 432x288 with 1 Axes>"
      ]
     },
     "metadata": {
      "needs_background": "light"
     },
     "output_type": "display_data"
    },
    {
     "name": "stdout",
     "output_type": "stream",
     "text": [
      "State:  CalcDirection\n",
      "left  5.0 right  5.0 front  0.4263923764228821\n",
      "ang:\n",
      "2.163084348093132\n",
      "ang robot:\n",
      "2.137570381164551\n",
      "X:\n",
      "4.90922737121582\n",
      "Y:\n",
      "2.90566086769104\n",
      "Initial orientation  2.137570381164551\n",
      "Ang  2.163084348093132\n",
      "curr orientation  2.137570381164551\n",
      "After:\n",
      "2.137570381164551\n"
     ]
    },
    {
     "data": {
      "image/png": "[encoded data removed]",
      "text/plain": [
       "<Figure size 432x288 with 1 Axes>"
      ]
     },
     "metadata": {
      "needs_background": "light"
     },
     "output_type": "display_data"
    },
    {
     "name": "stdout",
     "output_type": "stream",
     "text": [
      "State:  CalcDirection\n",
      "left  5.0 right  5.0 front  0.426390677690506\n",
      "ang:\n",
      "2.163091194012816\n",
      "ang robot:\n",
      "2.137575149536133\n",
      "X:\n",
      "4.909247398376465\n",
      "Y:\n",
      "2.9056620597839355\n",
      "Initial orientation  2.137575149536133\n",
      "Ang  2.163091194012816\n",
      "curr orientation  2.137575149536133\n",
      "After:\n",
      "2.137575149536133\n"
     ]
    },
    {
     "data": {
      "image/png": "[encoded data removed]",
      "text/plain": [
       "<Figure size 432x288 with 1 Axes>"
      ]
     },
     "metadata": {
      "needs_background": "light"
     },
     "output_type": "display_data"
    },
    {
     "name": "stdout",
     "output_type": "stream",
     "text": [
      "State:  CalcDirection\n",
      "left  5.0 right  5.0 front  0.42640402913093567\n",
      "ang:\n",
      "2.163095076899734\n",
      "ang robot:\n",
      "2.137531042098999\n",
      "X:\n",
      "4.909270763397217\n",
      "Y:\n",
      "2.9056448936462402\n",
      "Initial orientation  2.137531042098999\n",
      "Ang  2.163095076899734\n",
      "curr orientation  2.137531042098999\n",
      "After:\n",
      "2.137530565261841\n"
     ]
    },
    {
     "data": {
      "image/png": "[encoded data removed]",
      "text/plain": [
       "<Figure size 432x288 with 1 Axes>"
      ]
     },
     "metadata": {
      "needs_background": "light"
     },
     "output_type": "display_data"
    },
    {
     "name": "stdout",
     "output_type": "stream",
     "text": [
      "State:  CalcDirection\n",
      "left  5.0 right  5.0 front  0.42640212178230286\n",
      "ang:\n",
      "2.1631025876139263\n",
      "ang robot:\n",
      "2.137486219406128\n",
      "X:\n",
      "4.909297466278076\n",
      "Y:\n",
      "2.905639171600342\n",
      "Initial orientation  2.137486219406128\n",
      "Ang  2.1631025876139263\n",
      "curr orientation  2.137486219406128\n",
      "After:\n",
      "2.1374831199645996\n"
     ]
    },
    {
     "data": {
      "image/png": "[encoded data removed]",
      "text/plain": [
       "<Figure size 432x288 with 1 Axes>"
      ]
     },
     "metadata": {
      "needs_background": "light"
     },
     "output_type": "display_data"
    },
    {
     "name": "stdout",
     "output_type": "stream",
     "text": [
      "State:  CalcDirection\n",
      "left  5.0 right  5.0 front  0.42641323804855347\n",
      "ang:\n",
      "2.1631067896014886\n",
      "ang robot:\n",
      "2.1374576091766357\n",
      "X:\n",
      "4.909319877624512\n",
      "Y:\n",
      "2.9056248664855957\n",
      "Initial orientation  2.1374576091766357\n",
      "Ang  2.1631067896014886\n",
      "curr orientation  2.1374576091766357\n",
      "After:\n",
      "2.1374576091766357\n"
     ]
    },
    {
     "data": {
      "image/png": "[encoded data removed]",
      "text/plain": [
       "<Figure size 432x288 with 1 Axes>"
      ]
     },
     "metadata": {
      "needs_background": "light"
     },
     "output_type": "display_data"
    },
    {
     "name": "stdout",
     "output_type": "stream",
     "text": [
      "State:  CalcDirection\n",
      "left  5.0 right  5.0 front  0.4264240562915802\n",
      "ang:\n",
      "2.163110099555964\n",
      "ang robot:\n",
      "2.1374123096466064\n",
      "X:\n",
      "4.909340858459473\n",
      "Y:\n",
      "2.905608654022217\n",
      "Initial orientation  2.1374123096466064\n",
      "Ang  2.163110099555964\n",
      "curr orientation  2.1374123096466064\n",
      "After:\n",
      "2.1374104022979736\n"
     ]
    },
    {
     "data": {
      "image/png": "[encoded data removed]",
      "text/plain": [
       "<Figure size 432x288 with 1 Axes>"
      ]
     },
     "metadata": {
      "needs_background": "light"
     },
     "output_type": "display_data"
    },
    {
     "name": "stdout",
     "output_type": "stream",
     "text": [
      "State:  CalcDirection\n",
      "left  5.0 right  5.0 front  0.4264129400253296\n",
      "ang:\n",
      "2.163114223854773\n",
      "ang robot:\n",
      "2.1373579502105713\n",
      "X:\n",
      "4.909354209899902\n",
      "Y:\n",
      "2.9056074619293213\n",
      "Initial orientation  2.1373579502105713\n",
      "Ang  2.163114223854773\n",
      "curr orientation  2.1373579502105713\n",
      "After:\n",
      "2.137352705001831\n"
     ]
    },
    {
     "data": {
      "image/png": "[encoded data removed]",
      "text/plain": [
       "<Figure size 432x288 with 1 Axes>"
      ]
     },
     "metadata": {
      "needs_background": "light"
     },
     "output_type": "display_data"
    },
    {
     "name": "stdout",
     "output_type": "stream",
     "text": [
      "State:  CalcDirection\n",
      "left  5.0 right  5.0 front  0.42642098665237427\n",
      "ang:\n",
      "2.163119267791809\n",
      "ang robot:\n",
      "2.1373257637023926\n",
      "X:\n",
      "4.909377098083496\n",
      "Y:\n",
      "2.9055962562561035\n",
      "Initial orientation  2.1373257637023926\n",
      "Ang  2.163119267791809\n",
      "curr orientation  2.1373257637023926\n",
      "After:\n",
      "2.1373257637023926\n"
     ]
    },
    {
     "data": {
      "image/png": "[encoded data removed]",
      "text/plain": [
       "<Figure size 432x288 with 1 Axes>"
      ]
     },
     "metadata": {
      "needs_background": "light"
     },
     "output_type": "display_data"
    },
    {
     "name": "stdout",
     "output_type": "stream",
     "text": [
      "State:  CalcDirection\n",
      "left  5.0 right  5.0 front  0.42641299962997437\n",
      "ang:\n",
      "2.1631242648052122\n",
      "ang robot:\n",
      "2.1372416019439697\n",
      "X:\n",
      "4.909398078918457\n",
      "Y:\n",
      "2.905587673187256\n",
      "Initial orientation  2.1372416019439697\n",
      "Ang  2.1631242648052122\n",
      "curr orientation  2.1372416019439697\n",
      "After:\n",
      "2.1372411251068115\n"
     ]
    },
    {
     "data": {
      "image/png": "[encoded data removed]",
      "text/plain": [
       "<Figure size 432x288 with 1 Axes>"
      ]
     },
     "metadata": {
      "needs_background": "light"
     },
     "output_type": "display_data"
    },
    {
     "name": "stdout",
     "output_type": "stream",
     "text": [
      "State:  CalcDirection\n",
      "left  5.0 right  5.0 front  0.426422655582428\n",
      "ang:\n",
      "2.163129040515286\n",
      "ang robot:\n",
      "2.137181043624878\n",
      "X:\n",
      "4.909422397613525\n",
      "Y:\n",
      "2.9055731296539307\n",
      "Initial orientation  2.137181043624878\n",
      "Ang  2.163129040515286\n",
      "curr orientation  2.137181043624878\n",
      "After:\n",
      "2.1371781826019287\n"
     ]
    },
    {
     "data": {
      "image/png": "[encoded data removed]",
      "text/plain": [
       "<Figure size 432x288 with 1 Axes>"
      ]
     },
     "metadata": {
      "needs_background": "light"
     },
     "output_type": "display_data"
    },
    {
     "name": "stdout",
     "output_type": "stream",
     "text": [
      "State:  CalcDirection\n",
      "left  5.0 right  5.0 front  0.42642202973365784\n",
      "ang:\n",
      "2.1631324249771433\n",
      "ang robot:\n",
      "2.1371591091156006\n",
      "X:\n",
      "4.909436225891113\n",
      "Y:\n",
      "2.9055678844451904\n",
      "Initial orientation  2.1371591091156006\n",
      "Ang  2.1631324249771433\n",
      "curr orientation  2.1371591091156006\n",
      "After:\n",
      "2.1371591091156006\n"
     ]
    },
    {
     "data": {
      "image/png": "[encoded data removed]",
      "text/plain": [
       "<Figure size 432x288 with 1 Axes>"
      ]
     },
     "metadata": {
      "needs_background": "light"
     },
     "output_type": "display_data"
    },
    {
     "name": "stdout",
     "output_type": "stream",
     "text": [
      "State:  CalcDirection\n",
      "left  5.0 right  5.0 front  0.42642873525619507\n",
      "ang:\n",
      "2.1631398881212878\n",
      "ang robot:\n",
      "2.1371748447418213\n",
      "X:\n",
      "4.90946102142334\n",
      "Y:\n",
      "2.905564785003662\n",
      "Initial orientation  2.1371748447418213\n",
      "Ang  2.1631398881212878\n",
      "curr orientation  2.1371748447418213\n",
      "After:\n",
      "2.137174606323242\n"
     ]
    },
    {
     "data": {
      "image/png": "[encoded data removed]",
      "text/plain": [
       "<Figure size 432x288 with 1 Axes>"
      ]
     },
     "metadata": {
      "needs_background": "light"
     },
     "output_type": "display_data"
    },
    {
     "name": "stdout",
     "output_type": "stream",
     "text": [
      "State:  CalcDirection\n",
      "left  5.0 right  5.0 front  0.42643797397613525\n",
      "ang:\n",
      "2.16314188976341\n",
      "ang robot:\n",
      "2.1371090412139893\n",
      "X:\n",
      "4.909478664398193\n",
      "Y:\n",
      "2.905547618865967\n",
      "Initial orientation  2.1371090412139893\n",
      "Ang  2.16314188976341\n",
      "curr orientation  2.1371090412139893\n",
      "After:\n",
      "2.1371054649353027\n"
     ]
    },
    {
     "data": {
      "image/png": "[encoded data removed]",
      "text/plain": [
       "<Figure size 432x288 with 1 Axes>"
      ]
     },
     "metadata": {
      "needs_background": "light"
     },
     "output_type": "display_data"
    },
    {
     "name": "stdout",
     "output_type": "stream",
     "text": [
      "State:  CalcDirection\n",
      "left  5.0 right  5.0 front  0.4264253079891205\n",
      "ang:\n",
      "2.1631528632077055\n",
      "ang robot:\n",
      "2.137063980102539\n",
      "X:\n",
      "4.909510612487793\n",
      "Y:\n",
      "2.9055497646331787\n",
      "Initial orientation  2.137063980102539\n",
      "Ang  2.1631528632077055\n",
      "curr orientation  2.137063980102539\n",
      "After:\n",
      "2.1370606422424316\n"
     ]
    },
    {
     "data": {
      "image/png": "[encoded data removed]",
      "text/plain": [
       "<Figure size 432x288 with 1 Axes>"
      ]
     },
     "metadata": {
      "needs_background": "light"
     },
     "output_type": "display_data"
    },
    {
     "name": "stdout",
     "output_type": "stream",
     "text": [
      "State:  CalcDirection\n",
      "left  5.0 right  5.0 front  0.42643046379089355\n",
      "ang:\n",
      "2.1631609409578747\n",
      "ang robot:\n",
      "2.1370229721069336\n",
      "X:\n",
      "4.909541130065918\n",
      "Y:\n",
      "2.905540943145752\n",
      "Initial orientation  2.1370229721069336\n",
      "Ang  2.1631609409578747\n",
      "curr orientation  2.1370229721069336\n",
      "After:\n",
      "2.137019157409668\n"
     ]
    },
    {
     "data": {
      "image/png": "[encoded data removed]",
      "text/plain": [
       "<Figure size 432x288 with 1 Axes>"
      ]
     },
     "metadata": {
      "needs_background": "light"
     },
     "output_type": "display_data"
    },
    {
     "name": "stdout",
     "output_type": "stream",
     "text": [
      "State:  CalcDirection\n"
     ]
    },
    {
     "ename": "KeyboardInterrupt",
     "evalue": "",
     "output_type": "error",
     "traceback": [
      "\u001b[1;31m---------------------------------------------------------------------------\u001b[0m",
      "\u001b[1;31mKeyboardInterrupt\u001b[0m                         Traceback (most recent call last)",
      "\u001b[1;32m<ipython-input-28-0bd2a6bd26f6>\u001b[0m in \u001b[0;36m<module>\u001b[1;34m\u001b[0m\n\u001b[1;32m----> 1\u001b[1;33m \u001b[0mmr\u001b[0m\u001b[1;33m.\u001b[0m\u001b[0mstart\u001b[0m\u001b[1;33m(\u001b[0m\u001b[1;36m100\u001b[0m\u001b[1;33m)\u001b[0m\u001b[1;33m\u001b[0m\u001b[1;33m\u001b[0m\u001b[0m\n\u001b[0m",
      "\u001b[1;32m<ipython-input-5-9e8ffaf3e6d7>\u001b[0m in \u001b[0;36mstart\u001b[1;34m(self, seconds)\u001b[0m\n\u001b[0;32m     90\u001b[0m             \u001b[1;31m#Phi_l, Phi_r = self.braitenberg(self.us_sensors.data[\"raw_reading\"][:8],2)\u001b[0m\u001b[1;33m\u001b[0m\u001b[1;33m\u001b[0m\u001b[1;33m\u001b[0m\u001b[0m\n\u001b[0;32m     91\u001b[0m             \u001b[0mPhi_l\u001b[0m\u001b[1;33m,\u001b[0m \u001b[0mPhi_r\u001b[0m \u001b[1;33m=\u001b[0m \u001b[0mself\u001b[0m\u001b[1;33m.\u001b[0m\u001b[0mcontrol\u001b[0m\u001b[1;33m(\u001b[0m\u001b[0mself\u001b[0m\u001b[1;33m.\u001b[0m\u001b[0mus_sensors\u001b[0m\u001b[1;33m.\u001b[0m\u001b[0mget_left_distance\u001b[0m\u001b[1;33m(\u001b[0m\u001b[1;33m)\u001b[0m\u001b[1;33m,\u001b[0m\u001b[0mself\u001b[0m\u001b[1;33m.\u001b[0m\u001b[0mus_sensors\u001b[0m\u001b[1;33m.\u001b[0m\u001b[0mget_right_distance\u001b[0m\u001b[1;33m(\u001b[0m\u001b[1;33m)\u001b[0m\u001b[1;33m,\u001b[0m \u001b[0mself\u001b[0m\u001b[1;33m.\u001b[0m\u001b[0mus_sensors\u001b[0m\u001b[1;33m.\u001b[0m\u001b[0mget_front_distance\u001b[0m\u001b[1;33m(\u001b[0m\u001b[1;33m)\u001b[0m\u001b[1;33m)\u001b[0m\u001b[1;33m\u001b[0m\u001b[1;33m\u001b[0m\u001b[0m\n\u001b[1;32m---> 92\u001b[1;33m             \u001b[0mself\u001b[0m\u001b[1;33m.\u001b[0m\u001b[0mkinematicModel\u001b[0m\u001b[1;33m.\u001b[0m\u001b[0mmove\u001b[0m\u001b[1;33m(\u001b[0m\u001b[0mPhi_r\u001b[0m\u001b[1;33m,\u001b[0m \u001b[0mPhi_l\u001b[0m\u001b[1;33m,\u001b[0m\u001b[0mself\u001b[0m\u001b[1;33m.\u001b[0m\u001b[0mcompute_interval\u001b[0m\u001b[1;33m)\u001b[0m\u001b[1;33m\u001b[0m\u001b[1;33m\u001b[0m\u001b[0m\n\u001b[0m\u001b[0;32m     93\u001b[0m             \u001b[1;31m#self.kinematicModel.plot_paths()\u001b[0m\u001b[1;33m\u001b[0m\u001b[1;33m\u001b[0m\u001b[1;33m\u001b[0m\u001b[0m\n\u001b[0;32m     94\u001b[0m             \u001b[1;31m#self.point_cloud.update()\u001b[0m\u001b[1;33m\u001b[0m\u001b[1;33m\u001b[0m\u001b[1;33m\u001b[0m\u001b[0m\n",
      "\u001b[1;32m<ipython-input-2-4d03100e3a7c>\u001b[0m in \u001b[0;36mmove\u001b[1;34m(self, Phi_right, Phi_left, seconds)\u001b[0m\n\u001b[0;32m    143\u001b[0m             \u001b[0mself\u001b[0m\u001b[1;33m.\u001b[0m\u001b[0mrobot\u001b[0m\u001b[1;33m.\u001b[0m\u001b[0mset_left_velocity\u001b[0m\u001b[1;33m(\u001b[0m\u001b[0mPhi_left\u001b[0m\u001b[1;33m)\u001b[0m\u001b[1;33m\u001b[0m\u001b[1;33m\u001b[0m\u001b[0m\n\u001b[0;32m    144\u001b[0m             \u001b[0mtime\u001b[0m\u001b[1;33m.\u001b[0m\u001b[0msleep\u001b[0m\u001b[1;33m(\u001b[0m\u001b[0mself\u001b[0m\u001b[1;33m.\u001b[0m\u001b[0mcompute_interval\u001b[0m\u001b[1;33m)\u001b[0m\u001b[1;33m\u001b[0m\u001b[1;33m\u001b[0m\u001b[0m\n\u001b[1;32m--> 145\u001b[1;33m             \u001b[0mself\u001b[0m\u001b[1;33m.\u001b[0m\u001b[0mcompute_with_encoder\u001b[0m\u001b[1;33m(\u001b[0m\u001b[1;33m)\u001b[0m\u001b[1;33m\u001b[0m\u001b[1;33m\u001b[0m\u001b[0m\n\u001b[0m\u001b[0;32m    146\u001b[0m             \u001b[0mself\u001b[0m\u001b[1;33m.\u001b[0m\u001b[0mcompute_with_time\u001b[0m\u001b[1;33m(\u001b[0m\u001b[0mPhi_right\u001b[0m\u001b[1;33m,\u001b[0m \u001b[0mPhi_left\u001b[0m\u001b[1;33m)\u001b[0m\u001b[1;33m\u001b[0m\u001b[1;33m\u001b[0m\u001b[0m\n\u001b[0;32m    147\u001b[0m             \u001b[0mself\u001b[0m\u001b[1;33m.\u001b[0m\u001b[0mupdate_paths\u001b[0m\u001b[1;33m(\u001b[0m\u001b[1;33m)\u001b[0m\u001b[1;33m\u001b[0m\u001b[1;33m\u001b[0m\u001b[0m\n",
      "\u001b[1;32m<ipython-input-2-4d03100e3a7c>\u001b[0m in \u001b[0;36mcompute_with_encoder\u001b[1;34m(self)\u001b[0m\n\u001b[0;32m     99\u001b[0m     \u001b[1;32mdef\u001b[0m \u001b[0mcompute_with_encoder\u001b[0m\u001b[1;33m(\u001b[0m\u001b[0mself\u001b[0m\u001b[1;33m)\u001b[0m\u001b[1;33m:\u001b[0m\u001b[1;33m\u001b[0m\u001b[1;33m\u001b[0m\u001b[0m\n\u001b[0;32m    100\u001b[0m         \u001b[0mdxR\u001b[0m \u001b[1;33m=\u001b[0m \u001b[0mself\u001b[0m\u001b[1;33m.\u001b[0m\u001b[0mcurrent_encoder_right\u001b[0m\u001b[1;33m(\u001b[0m\u001b[1;33m)\u001b[0m \u001b[1;33m-\u001b[0m \u001b[0mself\u001b[0m\u001b[1;33m.\u001b[0m\u001b[0mjR\u001b[0m\u001b[1;33m\u001b[0m\u001b[1;33m\u001b[0m\u001b[0m\n\u001b[1;32m--> 101\u001b[1;33m         \u001b[0mdxL\u001b[0m \u001b[1;33m=\u001b[0m \u001b[0mself\u001b[0m\u001b[1;33m.\u001b[0m\u001b[0mcurrent_encoder_left\u001b[0m\u001b[1;33m(\u001b[0m\u001b[1;33m)\u001b[0m \u001b[1;33m-\u001b[0m \u001b[0mself\u001b[0m\u001b[1;33m.\u001b[0m\u001b[0mjL\u001b[0m\u001b[1;33m\u001b[0m\u001b[1;33m\u001b[0m\u001b[0m\n\u001b[0m\u001b[0;32m    102\u001b[0m         \u001b[1;32mif\u001b[0m \u001b[1;33m(\u001b[0m\u001b[0mdxL\u001b[0m\u001b[1;33m>=\u001b[0m\u001b[1;36m0\u001b[0m\u001b[1;33m)\u001b[0m\u001b[1;33m:\u001b[0m\u001b[1;33m\u001b[0m\u001b[1;33m\u001b[0m\u001b[0m\n\u001b[0;32m    103\u001b[0m             \u001b[0mdxL\u001b[0m\u001b[1;33m=\u001b[0m\u001b[0mmath\u001b[0m\u001b[1;33m.\u001b[0m\u001b[0mfmod\u001b[0m\u001b[1;33m(\u001b[0m\u001b[0mdxL\u001b[0m\u001b[1;33m+\u001b[0m\u001b[0mmath\u001b[0m\u001b[1;33m.\u001b[0m\u001b[0mpi\u001b[0m\u001b[1;33m,\u001b[0m\u001b[1;36m2\u001b[0m\u001b[1;33m*\u001b[0m\u001b[0mmath\u001b[0m\u001b[1;33m.\u001b[0m\u001b[0mpi\u001b[0m\u001b[1;33m)\u001b[0m\u001b[1;33m-\u001b[0m\u001b[0mmath\u001b[0m\u001b[1;33m.\u001b[0m\u001b[0mpi\u001b[0m\u001b[1;33m\u001b[0m\u001b[1;33m\u001b[0m\u001b[0m\n",
      "\u001b[1;32m<ipython-input-2-4d03100e3a7c>\u001b[0m in \u001b[0;36mcurrent_encoder_left\u001b[1;34m(self)\u001b[0m\n\u001b[0;32m     68\u001b[0m     \u001b[1;31m##Esta seção esta relacionada ao calculo da posição levando em consideração os encoders\u001b[0m\u001b[1;33m\u001b[0m\u001b[1;33m\u001b[0m\u001b[1;33m\u001b[0m\u001b[0m\n\u001b[0;32m     69\u001b[0m     \u001b[1;32mdef\u001b[0m \u001b[0mcurrent_encoder_left\u001b[0m\u001b[1;33m(\u001b[0m\u001b[0mself\u001b[0m\u001b[1;33m)\u001b[0m\u001b[1;33m:\u001b[0m\u001b[1;33m\u001b[0m\u001b[1;33m\u001b[0m\u001b[0m\n\u001b[1;32m---> 70\u001b[1;33m         \u001b[0mret\u001b[0m\u001b[1;33m,\u001b[0m\u001b[0mjL\u001b[0m \u001b[1;33m=\u001b[0m \u001b[0mvrep\u001b[0m\u001b[1;33m.\u001b[0m\u001b[0msimxGetJointPosition\u001b[0m\u001b[1;33m(\u001b[0m\u001b[0mself\u001b[0m\u001b[1;33m.\u001b[0m\u001b[0mrobot\u001b[0m\u001b[1;33m.\u001b[0m\u001b[0mclientID\u001b[0m\u001b[1;33m,\u001b[0m\u001b[0mself\u001b[0m\u001b[1;33m.\u001b[0m\u001b[0mmotorLeft\u001b[0m\u001b[1;33m,\u001b[0m\u001b[0mvrep\u001b[0m\u001b[1;33m.\u001b[0m\u001b[0msimx_opmode_oneshot_wait\u001b[0m\u001b[1;33m)\u001b[0m\u001b[1;33m\u001b[0m\u001b[1;33m\u001b[0m\u001b[0m\n\u001b[0m\u001b[0;32m     71\u001b[0m         \u001b[1;32mreturn\u001b[0m \u001b[0mjL\u001b[0m\u001b[1;33m\u001b[0m\u001b[1;33m\u001b[0m\u001b[0m\n\u001b[0;32m     72\u001b[0m     \u001b[1;32mdef\u001b[0m \u001b[0mcurrent_encoder_right\u001b[0m\u001b[1;33m(\u001b[0m\u001b[0mself\u001b[0m\u001b[1;33m)\u001b[0m\u001b[1;33m:\u001b[0m\u001b[1;33m\u001b[0m\u001b[1;33m\u001b[0m\u001b[0m\n",
      "\u001b[1;32m~\\Desktop\\MO651\\lib\\vrep.py\u001b[0m in \u001b[0;36msimxGetJointPosition\u001b[1;34m(clientID, jointHandle, operationMode)\u001b[0m\n\u001b[0;32m    145\u001b[0m     '''\n\u001b[0;32m    146\u001b[0m     \u001b[0mposition\u001b[0m \u001b[1;33m=\u001b[0m \u001b[0mct\u001b[0m\u001b[1;33m.\u001b[0m\u001b[0mc_float\u001b[0m\u001b[1;33m(\u001b[0m\u001b[1;33m)\u001b[0m\u001b[1;33m\u001b[0m\u001b[1;33m\u001b[0m\u001b[0m\n\u001b[1;32m--> 147\u001b[1;33m     \u001b[1;32mreturn\u001b[0m \u001b[0mc_GetJointPosition\u001b[0m\u001b[1;33m(\u001b[0m\u001b[0mclientID\u001b[0m\u001b[1;33m,\u001b[0m \u001b[0mjointHandle\u001b[0m\u001b[1;33m,\u001b[0m \u001b[0mct\u001b[0m\u001b[1;33m.\u001b[0m\u001b[0mbyref\u001b[0m\u001b[1;33m(\u001b[0m\u001b[0mposition\u001b[0m\u001b[1;33m)\u001b[0m\u001b[1;33m,\u001b[0m \u001b[0moperationMode\u001b[0m\u001b[1;33m)\u001b[0m\u001b[1;33m,\u001b[0m \u001b[0mposition\u001b[0m\u001b[1;33m.\u001b[0m\u001b[0mvalue\u001b[0m\u001b[1;33m\u001b[0m\u001b[1;33m\u001b[0m\u001b[0m\n\u001b[0m\u001b[0;32m    148\u001b[0m \u001b[1;33m\u001b[0m\u001b[0m\n\u001b[0;32m    149\u001b[0m \u001b[1;32mdef\u001b[0m \u001b[0msimxSetJointPosition\u001b[0m\u001b[1;33m(\u001b[0m\u001b[0mclientID\u001b[0m\u001b[1;33m,\u001b[0m \u001b[0mjointHandle\u001b[0m\u001b[1;33m,\u001b[0m \u001b[0mposition\u001b[0m\u001b[1;33m,\u001b[0m \u001b[0moperationMode\u001b[0m\u001b[1;33m)\u001b[0m\u001b[1;33m:\u001b[0m\u001b[1;33m\u001b[0m\u001b[1;33m\u001b[0m\u001b[0m\n",
      "\u001b[1;31mKeyboardInterrupt\u001b[0m: "
     ]
    }
   ],
   "source": [
    "mr.start(100)"
   ]
  }
 ],
 "metadata": {
  "kernelspec": {
   "display_name": "Python 3",
   "language": "python",
   "name": "python3"
  },
  "language_info": {
   "codemirror_mode": {
    "name": "ipython",
    "version": 3
   },
   "file_extension": ".py",
   "mimetype": "text/x-python",
   "name": "python",
   "nbconvert_exporter": "python",
   "pygments_lexer": "ipython3",
   "version": "3.7.3"
  }
 },
 "nbformat": 4,
 "nbformat_minor": 2
}
