{
 "cells": [
  {
   "cell_type": "markdown",
   "metadata": {},
   "source": [
    "### Import's"
   ]
  },
  {
   "cell_type": "code",
   "execution_count": null,
   "metadata": {},
   "outputs": [],
   "source": [
    "# V-Rep Import's\n",
    "import sys\n",
    "sys.path.insert(0, '../src')\n",
    "from robot import Robot\n",
    "\n",
    "# Usual Import's\n",
    "import matplotlib\n",
    "import matplotlib.pyplot as plt\n",
    "import matplotlib.animation as animation\n",
    "import numpy as np\n",
    "import random as rd\n",
    "matplotlib.use(\"Qt5Agg\")"
   ]
  },
  {
   "cell_type": "markdown",
   "metadata": {},
   "source": [
    "### V-Rep"
   ]
  },
  {
   "cell_type": "code",
   "execution_count": null,
   "metadata": {},
   "outputs": [],
   "source": [
    "robot = Robot()\n",
    "#while(robot.get_connection_status() != -1):\n",
    "#    us_distances = robot.read_ultrassonic_sensors()\n",
    "#    vel = braitenberg(us_distances[:8], 3) #Using only the 8 frontal sensors\n",
    "#    robot.set_left_velocity(vel[0])\n",
    "#    robot.set_right_velocity(vel[1])"
   ]
  },
  {
   "cell_type": "markdown",
   "metadata": {},
   "source": [
    "### Exemplo"
   ]
  },
  {
   "cell_type": "code",
   "execution_count": null,
   "metadata": {},
   "outputs": [],
   "source": [
    "braitenbergL=[-0.2,-0.4,-0.6,-0.8,-1.0,-1.2,-1.4,-1.6]\n",
    "braitenbergR=[-1.6,-1.4,-1.2,-1.0,-0.8,-0.6,-0.4,-0.2]\n",
    "\n",
    "detect = [0,0,0,0,0,0,0,0]\n",
    "noDetectionDist = 1.0\n",
    "maxDetectionDist = 0.2\n",
    "\n",
    "def braitenberg(dist, vel):\n",
    "    \"\"\"\n",
    "        Control the robot movement by the distances read with the ultrassonic sensors. More info: https://en.wikipedia.org/wiki/Braitenberg_vehicle\n",
    "        Args:\n",
    "            dist: Ultrassonic distances list\n",
    "            vel:  Max wheel velocities\n",
    "    \"\"\"\n",
    "    vLeft = vRight = vel\n",
    "    for i in range(len(dist)):\n",
    "        if(dist[i] < noDetectionDist):\n",
    "            detect[i] = 1 - ((dist[i]-maxDetectionDist)/(noDetectionDist-maxDetectionDist))\n",
    "        else:\n",
    "            detect[i]=0\n",
    "        for i in range(8):\n",
    "            vLeft = vLeft + braitenbergL[i]*detect[i]\n",
    "            vRight = vRight+ braitenbergR[i]*detect[i]\n",
    "\n",
    "    return [vLeft, vRight]"
   ]
  },
  {
   "cell_type": "markdown",
   "metadata": {},
   "source": [
    "### Odometria"
   ]
  },
  {
   "cell_type": "code",
   "execution_count": null,
   "metadata": {},
   "outputs": [],
   "source": [
    "odometry = [0,0]\n",
    "ang = 0\n",
    "radius=0.195/2\n",
    "L=0.381/2\n",
    "x = [robot.get_current_position()[0]]\n",
    "y = [robot.get_current_position()[1]]"
   ]
  },
  {
   "cell_type": "code",
   "execution_count": null,
   "metadata": {},
   "outputs": [],
   "source": [
    "#x = []\n",
    "#y = []\n",
    "\n",
    "fig, ax = plt.subplots()\n",
    "line, = ax.plot(x, y, color='k')\n",
    "\n",
    "def num_teste():\n",
    "    return rd.uniform(0,5)\n",
    "\n",
    "def update(num, x, y, line):\n",
    "    \n",
    "    us_distances = robot.read_ultrassonic_sensors()\n",
    "    vel = braitenberg(us_distances[:8], 3) #Using only the 8 frontal sensors\n",
    "    robot.set_left_velocity(vel[0])\n",
    "    robot.set_right_velocity(vel[1])\n",
    "    \n",
    "    x.append(robot.get_current_position()[0])\n",
    "    y.append(robot.get_current_position()[1])\n",
    "    line.set_data(x, y)\n",
    "    line.axes.axis([-10, 10, -10, 10])\n",
    "    return line,\n",
    "\n",
    "ani = animation.FuncAnimation(fig, update, fargs=[x, y, line],\n",
    "                              interval=25, blit=True)\n",
    "\n",
    "plt.show()"
   ]
  },
  {
   "cell_type": "markdown",
   "metadata": {},
   "source": [
    "### Testes"
   ]
  },
  {
   "cell_type": "code",
   "execution_count": null,
   "metadata": {},
   "outputs": [],
   "source": [
    "import matplotlib\n",
    "import matplotlib.pyplot as plt \n",
    "import matplotlib.animation as animation \n",
    "import numpy as np\n",
    "import random as rd\n",
    "\n",
    "matplotlib.use(\"Qt5Agg\")\n",
    "\n",
    "# create a figure, axis and plot element \n",
    "fig = plt.figure()\n",
    "ax = plt.axes(xlim=(0, 5), ylim=(0, 5)) \n",
    "line, = ax.plot([], [], lw=2) \n",
    "\n",
    "# initialization function \n",
    "def init(): \n",
    "    # creating an empty plot/frame \n",
    "    line.set_data([], []) \n",
    "    return line, \n",
    "\n",
    "# lists to store x and y axis points \n",
    "xdata, ydata = [], [] \n",
    "\n",
    "# animation function\n",
    "def animate(i): \n",
    "    x = rd.uniform(0,5)\n",
    "    y = rd.uniform(0,5)\n",
    "    \n",
    "    xdata.append(x)\n",
    "    ydata.append(y)\n",
    "    \n",
    "    line.set_data(xdata, ydata)\n",
    "    \n",
    "    return line, \n",
    "    \n",
    "# setting a title for the plot \n",
    "plt.title('V-REP Tracking')\n",
    "# hiding the axis details \n",
    "#plt.axis('off') \n",
    "\n",
    "# call the animator\n",
    "anim = animation.FuncAnimation(fig, animate, init_func=init, frames=500, interval=20, blit=True)\n",
    "\n",
    "plt.show()\n"
   ]
  },
  {
   "cell_type": "markdown",
   "metadata": {},
   "source": [
    "# Grafico"
   ]
  },
  {
   "cell_type": "code",
   "execution_count": 16,
   "metadata": {},
   "outputs": [
    {
     "name": "stdout",
     "output_type": "stream",
     "text": [
      "Connected to remoteApi server.\n",
      "\u001b[92m Pioneer_p3dx_ultrasonicSensor1 connected.\n",
      "\u001b[92m Pioneer_p3dx_ultrasonicSensor2 connected.\n",
      "\u001b[92m Pioneer_p3dx_ultrasonicSensor3 connected.\n",
      "\u001b[92m Pioneer_p3dx_ultrasonicSensor4 connected.\n",
      "\u001b[92m Pioneer_p3dx_ultrasonicSensor5 connected.\n",
      "\u001b[92m Pioneer_p3dx_ultrasonicSensor6 connected.\n",
      "\u001b[92m Pioneer_p3dx_ultrasonicSensor7 connected.\n",
      "\u001b[92m Pioneer_p3dx_ultrasonicSensor8 connected.\n",
      "\u001b[92m Pioneer_p3dx_ultrasonicSensor9 connected.\n",
      "\u001b[92m Pioneer_p3dx_ultrasonicSensor10 connected.\n",
      "\u001b[92m Pioneer_p3dx_ultrasonicSensor11 connected.\n",
      "\u001b[92m Pioneer_p3dx_ultrasonicSensor12 connected.\n",
      "\u001b[92m Pioneer_p3dx_ultrasonicSensor13 connected.\n",
      "\u001b[92m Pioneer_p3dx_ultrasonicSensor14 connected.\n",
      "\u001b[92m Pioneer_p3dx_ultrasonicSensor15 connected.\n",
      "\u001b[92m Pioneer_p3dx_ultrasonicSensor16 connected.\n",
      "\u001b[92m Vision sensor connected.\n",
      "\u001b[92m Laser connected.\n",
      "\u001b[92m Left motor connected.\n",
      "\u001b[92m Right motor connected.\n",
      "\u001b[92m Robot connected.\n",
      "1242\n",
      "414\n",
      "1242\n",
      "414\n",
      "1242\n",
      "414\n",
      "1242\n",
      "414\n",
      "1242\n",
      "414\n",
      "1242\n",
      "414\n",
      "1242\n",
      "414\n",
      "1242\n",
      "414\n",
      "1242\n",
      "414\n",
      "1242\n",
      "414\n"
     ]
    }
   ],
   "source": [
    "# V-Rep Import's\n",
    "import sys\n",
    "sys.path.insert(0, '../src')\n",
    "from robot import Robot\n",
    "\n",
    "import matplotlib\n",
    "import matplotlib.pyplot as plt\n",
    "from mpl_toolkits.mplot3d import Axes3D\n",
    "import numpy as np\n",
    "matplotlib.use(\"Qt5Agg\")\n",
    "\n",
    "robot = Robot()\n",
    "\n",
    "fig2 = plt.figure()\n",
    "ax2 = fig2.add_subplot(111, projection='3d')\n",
    "data = robot.read_laser()\n",
    "\n",
    "x,y,z=[],[],[]\n",
    "for i in range(0,len(data),3):\n",
    "    x.append(data[i]+m)\n",
    "    y.append(data[i+1]+m)\n",
    "    z.append(data[i+2]+m)\n",
    "\n",
    "ax2.scatter(x,y,z,c='b')\n",
    "plt.show()\n",
    "\n",
    "\n",
    "fig = plt.figure()\n",
    "ax = fig.add_subplot(111, projection='3d')\n",
    "def plot_nuvem(m):\n",
    "    #fig = plt.figure()\n",
    "    #ax = fig.add_subplot(111, projection='3d')\n",
    "    plt.cla()\n",
    "    data = robot.read_laser()\n",
    "\n",
    "    x,y,z=[],[],[]\n",
    "    for i in range(0,len(data),3):\n",
    "        x.append(data[i]+m)\n",
    "        y.append(data[i+1]+m)\n",
    "        z.append(data[i+2]+m)\n",
    "    print(len(data))\n",
    "    print(len(x))\n",
    "\n",
    "    ax.scatter(x,y,z,c='b')\n",
    "    plt.show()\n",
    "\n",
    "n=10\n",
    "m=0\n",
    "while n>0:\n",
    "    plot_nuvem(m)\n",
    "    m+=0.5\n",
    "    n-=1"
   ]
  },
  {
   "cell_type": "code",
   "execution_count": 4,
   "metadata": {},
   "outputs": [
    {
     "data": {
      "text/plain": [
       "1239"
      ]
     },
     "execution_count": 4,
     "metadata": {},
     "output_type": "execute_result"
    }
   ],
   "source": [
    "413*3"
   ]
  }
 ],
 "metadata": {
  "kernelspec": {
   "display_name": "Python 3",
   "language": "python",
   "name": "python3"
  },
  "language_info": {
   "codemirror_mode": {
    "name": "ipython",
    "version": 3
   },
   "file_extension": ".py",
   "mimetype": "text/x-python",
   "name": "python",
   "nbconvert_exporter": "python",
   "pygments_lexer": "ipython3",
   "version": "3.7.3"
  }
 },
 "nbformat": 4,
 "nbformat_minor": 2
}
